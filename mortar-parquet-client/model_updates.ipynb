{
 "cells": [
  {
   "cell_type": "code",
   "execution_count": 77,
   "metadata": {},
   "outputs": [],
   "source": [
    "from brickschema import Graph\n",
    "from rdflib import Namespace\n",
    "import os"
   ]
  },
  {
   "cell_type": "code",
   "execution_count": 78,
   "metadata": {},
   "outputs": [],
   "source": [
    "\n",
    "class BasicValidationInterface:\n",
    "\n",
    "    def __init__(self, graph_path: str, nightly: bool = False):\n",
    "        self.graph_path = graph_path\n",
    "        if nightly:\n",
    "            self.graph = Graph(load_brick_nightly=True)\n",
    "        else:\n",
    "            self.graph = Graph(load_brick=True)\n",
    "        # loading graph in init\n",
    "        self.graph.load_file(self.graph_path)\n",
    "\n",
    "    def validate(self):\n",
    "        valid, _, report = self.graph.validate()\n",
    "        print(f\"Graph <{self.graph_path}> is valid? {valid}\")\n",
    "        if not valid:\n",
    "            print(\"-\" * 79)\n",
    "            print(report)\n",
    "            print(\"-\" * 79)\n"
   ]
  },
  {
   "cell_type": "code",
   "execution_count": 79,
   "metadata": {},
   "outputs": [],
   "source": [
    "deprecation_fix = \"\"\"\n",
    "PREFIX brick: <https://brickschema.org/schema/Brick#>\n",
    "PREFIX g36: <http://data.ashrae.org/standard223/1.0/extension/g36#>\n",
    "PREFIX s223: <http://data.ashrae.org/standard223#>\n",
    "PREFIX unit: <http://qudt.org/vocab/unit/>\n",
    "PREFIX quantitykind: <http://qudt.org/vocab/quantitykind/>\n",
    "PREFIX qudt: <http://qudt.org/schema/qudt/>\n",
    "PREFIX sh: <http://www.w3.org/ns/shacl#>\n",
    "PREFIX owl: <http://www.w3.org/2002/07/owl#>\n",
    "PREFIX rdf: <http://www.w3.org/1999/02/22-rdf-syntax-ns#>\n",
    "PREFIX rdfs: <http://www.w3.org/2000/01/rdf-schema#>\n",
    "PREFIX bldg: <http://buildsys.org/ontologies/bldg1>\n",
    "\n",
    "DELETE {?this a ?class}\n",
    "INSERT {?this a ?newClass}\n",
    "WHERE {\n",
    "?this a ?class .\n",
    "?class owl:deprecated true .\n",
    "?class brick:deprecatedInVersion ?depver .\n",
    "?class brick:isReplacedBy ?newClass .\n",
    "}\n",
    "\"\"\""
   ]
  },
  {
   "cell_type": "code",
   "execution_count": 80,
   "metadata": {},
   "outputs": [],
   "source": [
    "#\n",
    "ft2_fix = \"\"\"\n",
    "PREFIX brick: <https://brickschema.org/schema/Brick#>\n",
    "PREFIX g36: <http://data.ashrae.org/standard223/1.0/extension/g36#>\n",
    "PREFIX s223: <http://data.ashrae.org/standard223#>\n",
    "PREFIX unit: <http://qudt.org/vocab/unit/>\n",
    "PREFIX quantitykind: <http://qudt.org/vocab/quantitykind/>\n",
    "PREFIX qudt: <http://qudt.org/schema/qudt/>\n",
    "PREFIX sh: <http://www.w3.org/ns/shacl#>\n",
    "PREFIX owl: <http://www.w3.org/2002/07/owl#>\n",
    "PREFIX rdf: <http://www.w3.org/1999/02/22-rdf-syntax-ns#>\n",
    "PREFIX rdfs: <http://www.w3.org/2000/01/rdf-schema#>\n",
    "PREFIX bldg: <http://buildsys.org/ontologies/bldg1>\n",
    "\n",
    "DELETE {?this brick:hasUnits unit:FT_2}\n",
    "INSERT {?this brick:hasUnit unit:FT2}\n",
    "WHERE {\n",
    "?this brick:hasUnits unit:FT_2\n",
    "}\n",
    "\"\"\""
   ]
  },
  {
   "cell_type": "code",
   "execution_count": 81,
   "metadata": {},
   "outputs": [],
   "source": [
    "bldg1_area_fix = \"\"\"\n",
    "PREFIX brick: <https://brickschema.org/schema/Brick#>\n",
    "PREFIX g36: <http://data.ashrae.org/standard223/1.0/extension/g36#>\n",
    "PREFIX s223: <http://data.ashrae.org/standard223#>\n",
    "PREFIX unit: <http://qudt.org/vocab/unit/>\n",
    "PREFIX quantitykind: <http://qudt.org/vocab/quantitykind/>\n",
    "PREFIX qudt: <http://qudt.org/schema/qudt/>\n",
    "PREFIX sh: <http://www.w3.org/ns/shacl#>\n",
    "PREFIX owl: <http://www.w3.org/2002/07/owl#>\n",
    "PREFIX rdf: <http://www.w3.org/1999/02/22-rdf-syntax-ns#>\n",
    "PREFIX rdfs: <http://www.w3.org/2000/01/rdf-schema#>\n",
    "PREFIX bldg: <http://buildsys.org/ontologies/bldg1>\n",
    "\n",
    "DELETE {?this brick:value \"9973^^<http://www.w3.org/2001/XMLSchema#integer>\" }\n",
    "INSERT {?this brick:value 9973 }\n",
    "WHERE {\n",
    "?this brick:value \"9973^^<http://www.w3.org/2001/XMLSchema#integer>\"\n",
    "}\n",
    "\"\"\""
   ]
  },
  {
   "cell_type": "code",
   "execution_count": 82,
   "metadata": {},
   "outputs": [],
   "source": [
    "bv = BasicValidationInterface(graph_path='graphs/bldg1.ttl', nightly=True)\n",
    "bv.graph.update(deprecation_fix)\n",
    "bv.graph.update(bldg1_area_fix)\n",
    "bv.graph.update(ft2_fix)"
   ]
  },
  {
   "cell_type": "code",
   "execution_count": 84,
   "metadata": {},
   "outputs": [
    {
     "data": {
      "text/plain": [
       "<Graph identifier=N4adb8391541442bea5d9403b2cdd9d02 (<class 'brickschema.graph.Graph'>)>"
      ]
     },
     "execution_count": 84,
     "metadata": {},
     "output_type": "execute_result"
    }
   ],
   "source": [
    "# Loading qudt fixes QUDT related validation errors\n",
    "bv.graph.parse('https://qudt.org/2.1/schema/qudt', format = 'ttl')\n",
    "bv.graph.parse('https://qudt.org/2.1/vocab/quantitykind', format = 'ttl')"
   ]
  },
  {
   "cell_type": "code",
   "execution_count": 85,
   "metadata": {},
   "outputs": [
    {
     "name": "stdout",
     "output_type": "stream",
     "text": [
      "Graph <graphs/bldg1.ttl> is valid? True\n"
     ]
    }
   ],
   "source": [
    "bv.validate()"
   ]
  },
  {
   "cell_type": "code",
   "execution_count": null,
   "metadata": {},
   "outputs": [],
   "source": []
  }
 ],
 "metadata": {
  "kernelspec": {
   "display_name": "base",
   "language": "python",
   "name": "python3"
  },
  "language_info": {
   "codemirror_mode": {
    "name": "ipython",
    "version": 3
   },
   "file_extension": ".py",
   "mimetype": "text/x-python",
   "name": "python",
   "nbconvert_exporter": "python",
   "pygments_lexer": "ipython3",
   "version": "3.8.3"
  },
  "orig_nbformat": 4
 },
 "nbformat": 4,
 "nbformat_minor": 2
}

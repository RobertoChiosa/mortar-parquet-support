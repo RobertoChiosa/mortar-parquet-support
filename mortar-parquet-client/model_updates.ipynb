{
 "cells": [
  {
   "cell_type": "code",
   "execution_count": 350,
   "metadata": {},
   "outputs": [],
   "source": [
    "from brickschema import Graph\n",
    "from rdflib import Namespace\n",
    "import os\n",
    "from string import Template"
   ]
  },
  {
   "attachments": {},
   "cell_type": "markdown",
   "metadata": {},
   "source": [
    "# Validation Class"
   ]
  },
  {
   "cell_type": "code",
   "execution_count": 399,
   "metadata": {},
   "outputs": [],
   "source": [
    "\n",
    "class BasicValidationInterface:\n",
    "\n",
    "    def __init__(self, graph_path: str, nightly: bool = False):\n",
    "        self.graph_path = graph_path\n",
    "        if nightly:\n",
    "            self.graph = Graph(load_brick_nightly=True)\n",
    "        else:\n",
    "            self.graph = Graph(load_brick=True)\n",
    "        # loading graph in init\n",
    "        self.graph.load_file(self.graph_path)\n",
    "        # load qudt\n",
    "        self.graph.parse('https://qudt.org/2.1/schema/qudt', format = 'ttl')\n",
    "        self.graph.parse('https://qudt.org/2.1/vocab/quantitykind', format = 'ttl')\n",
    "\n",
    "    def validate(self):\n",
    "        valid, report_graph, report = self.graph.validate()\n",
    "        print(f\"Graph <{self.graph_path}> is valid? {valid}\")\n",
    "        if not valid:\n",
    "            print(\"-\" * 79)\n",
    "            print(report)\n",
    "            print(\"-\" * 79)\n",
    "        return valid, report_graph\n"
   ]
  },
  {
   "attachments": {},
   "cell_type": "markdown",
   "metadata": {},
   "source": [
    "# Area correction query pattern"
   ]
  },
  {
   "cell_type": "code",
   "execution_count": 391,
   "metadata": {},
   "outputs": [],
   "source": [
    "area_query_format  = \"\"\"\n",
    "PREFIX brick: <https://brickschema.org/schema/Brick#>\n",
    "PREFIX g36: <http://data.ashrae.org/standard223/1.0/extension/g36#>\n",
    "PREFIX s223: <http://data.ashrae.org/standard223#>\n",
    "PREFIX unit: <http://qudt.org/vocab/unit/>\n",
    "PREFIX quantitykind: <http://qudt.org/vocab/quantitykind/>\n",
    "PREFIX qudt: <http://qudt.org/schema/qudt/>\n",
    "PREFIX sh: <http://www.w3.org/ns/shacl#>\n",
    "PREFIX owl: <http://www.w3.org/2002/07/owl#>\n",
    "PREFIX rdf: <http://www.w3.org/1999/02/22-rdf-syntax-ns#>\n",
    "PREFIX rdfs: <http://www.w3.org/2000/01/rdf-schema#>\n",
    "PREFIX bldg: <http://buildsys.org/ontologies/bldg1>\n",
    "\n",
    "DELETE {?this brick:value \"$old\" }\n",
    "INSERT {?this brick:value $new }\n",
    "WHERE {\n",
    "?this brick:value \"$old\"\n",
    "}\n",
    "\"\"\"\n",
    "\n",
    "res = report_graph.query(\"\"\" \n",
    "select ?replace\n",
    "WHERE {\n",
    "?s a sh:ValidationResult ;\n",
    "    sh:value ?value .\n",
    "?val brick:value ?replace .\n",
    "}\n",
    "\"\"\")\n",
    "                         \n",
    "def format_area_query(report_graph):\n",
    "    res = report_graph.query(\"\"\" \n",
    "        select ?replace\n",
    "        WHERE {\n",
    "        ?s a sh:ValidationResult ;\n",
    "            sh:value ?value .\n",
    "        ?val brick:value ?replace .\n",
    "        }\n",
    "        \"\"\")\n",
    "    if len(res) == 1:\n",
    "        print('1 Invalid Shape')\n",
    "        old = iter(res).__next__().get('replace')\n",
    "        new = int(old.rsplit('^^')[0])\n",
    "    else: \n",
    "        raise ValueError('multiple errors')\n",
    "    return Template(area_query_format).substitute(old = old, new = new)\n"
   ]
  },
  {
   "attachments": {},
   "cell_type": "markdown",
   "metadata": {},
   "source": [
    "# Other Queries"
   ]
  },
  {
   "cell_type": "code",
   "execution_count": null,
   "metadata": {},
   "outputs": [],
   "source": [
    "deprecation_fix = \"\"\"\n",
    "PREFIX brick: <https://brickschema.org/schema/Brick#>\n",
    "PREFIX g36: <http://data.ashrae.org/standard223/1.0/extension/g36#>\n",
    "PREFIX s223: <http://data.ashrae.org/standard223#>\n",
    "PREFIX unit: <http://qudt.org/vocab/unit/>\n",
    "PREFIX quantitykind: <http://qudt.org/vocab/quantitykind/>\n",
    "PREFIX qudt: <http://qudt.org/schema/qudt/>\n",
    "PREFIX sh: <http://www.w3.org/ns/shacl#>\n",
    "PREFIX owl: <http://www.w3.org/2002/07/owl#>\n",
    "PREFIX rdf: <http://www.w3.org/1999/02/22-rdf-syntax-ns#>\n",
    "PREFIX rdfs: <http://www.w3.org/2000/01/rdf-schema#>\n",
    "PREFIX bldg: <http://buildsys.org/ontologies/bldg1>\n",
    "\n",
    "DELETE {?this a ?class}\n",
    "INSERT {?this a ?newClass}\n",
    "WHERE {\n",
    "?this a ?class .\n",
    "?class owl:deprecated true .\n",
    "?class brick:deprecatedInVersion ?depver .\n",
    "?class brick:isReplacedBy ?newClass .\n",
    "}\n",
    "\"\"\""
   ]
  },
  {
   "cell_type": "code",
   "execution_count": null,
   "metadata": {},
   "outputs": [],
   "source": [
    "#\n",
    "ft2_fix = \"\"\"\n",
    "PREFIX brick: <https://brickschema.org/schema/Brick#>\n",
    "PREFIX g36: <http://data.ashrae.org/standard223/1.0/extension/g36#>\n",
    "PREFIX s223: <http://data.ashrae.org/standard223#>\n",
    "PREFIX unit: <http://qudt.org/vocab/unit/>\n",
    "PREFIX quantitykind: <http://qudt.org/vocab/quantitykind/>\n",
    "PREFIX qudt: <http://qudt.org/schema/qudt/>\n",
    "PREFIX sh: <http://www.w3.org/ns/shacl#>\n",
    "PREFIX owl: <http://www.w3.org/2002/07/owl#>\n",
    "PREFIX rdf: <http://www.w3.org/1999/02/22-rdf-syntax-ns#>\n",
    "PREFIX rdfs: <http://www.w3.org/2000/01/rdf-schema#>\n",
    "PREFIX bldg: <http://buildsys.org/ontologies/bldg1>\n",
    "\n",
    "DELETE {?this brick:hasUnits unit:FT_2}\n",
    "INSERT {?this brick:hasUnit unit:FT2}\n",
    "WHERE {\n",
    "?this brick:hasUnits unit:FT_2\n",
    "}\n",
    "\"\"\""
   ]
  },
  {
   "cell_type": "code",
   "execution_count": null,
   "metadata": {},
   "outputs": [],
   "source": [
    "chwv_fix = \"\"\"\n",
    "PREFIX brick: <https://brickschema.org/schema/Brick#>\n",
    "PREFIX g36: <http://data.ashrae.org/standard223/1.0/extension/g36#>\n",
    "PREFIX s223: <http://data.ashrae.org/standard223#>\n",
    "PREFIX unit: <http://qudt.org/vocab/unit/>\n",
    "PREFIX quantitykind: <http://qudt.org/vocab/quantitykind/>\n",
    "PREFIX qudt: <http://qudt.org/schema/qudt/>\n",
    "PREFIX sh: <http://www.w3.org/ns/shacl#>\n",
    "PREFIX owl: <http://www.w3.org/2002/07/owl#>\n",
    "PREFIX rdf: <http://www.w3.org/1999/02/22-rdf-syntax-ns#>\n",
    "PREFIX rdfs: <http://www.w3.org/2000/01/rdf-schema#>\n",
    "PREFIX bldg: <http://buildsys.org/ontologies/bldg1>\n",
    "\n",
    "DELETE {?this a brick:Chilled_Water_Valve_Command }\n",
    "INSERT {?this a brick:Valve_Command ;\n",
    "                brick:hasSubstance brick:Chilled_Water }\n",
    "WHERE {\n",
    "?this a brick:Chilled_Water_Valve_Command\n",
    "}\n",
    "\"\"\""
   ]
  },
  {
   "cell_type": "code",
   "execution_count": null,
   "metadata": {},
   "outputs": [],
   "source": [
    "hwv_fix = \"\"\"\n",
    "PREFIX brick: <https://brickschema.org/schema/Brick#>\n",
    "PREFIX g36: <http://data.ashrae.org/standard223/1.0/extension/g36#>\n",
    "PREFIX s223: <http://data.ashrae.org/standard223#>\n",
    "PREFIX unit: <http://qudt.org/vocab/unit/>\n",
    "PREFIX quantitykind: <http://qudt.org/vocab/quantitykind/>\n",
    "PREFIX qudt: <http://qudt.org/schema/qudt/>\n",
    "PREFIX sh: <http://www.w3.org/ns/shacl#>\n",
    "PREFIX owl: <http://www.w3.org/2002/07/owl#>\n",
    "PREFIX rdf: <http://www.w3.org/1999/02/22-rdf-syntax-ns#>\n",
    "PREFIX rdfs: <http://www.w3.org/2000/01/rdf-schema#>\n",
    "PREFIX bldg: <http://buildsys.org/ontologies/bldg1>\n",
    "\n",
    "DELETE {?this a brick:Hot_Water_Valve_Command }\n",
    "INSERT {?this a brick:Valve_Command ;\n",
    "                brick:hasSubstance brick:Hot_Water }\n",
    "WHERE {\n",
    "?this a brick:Hot_Water_Valve_Command\n",
    "}\n",
    "\"\"\""
   ]
  },
  {
   "cell_type": "code",
   "execution_count": null,
   "metadata": {},
   "outputs": [],
   "source": [
    "# ASSUMING that flow refers to a Sensor\n",
    "bldg4_supflow_fix = \"\"\"\n",
    "PREFIX brick: <https://brickschema.org/schema/Brick#>\n",
    "PREFIX g36: <http://data.ashrae.org/standard223/1.0/extension/g36#>\n",
    "PREFIX s223: <http://data.ashrae.org/standard223#>\n",
    "PREFIX unit: <http://qudt.org/vocab/unit/>\n",
    "PREFIX quantitykind: <http://qudt.org/vocab/quantitykind/>\n",
    "PREFIX qudt: <http://qudt.org/schema/qudt/>\n",
    "PREFIX sh: <http://www.w3.org/ns/shacl#>\n",
    "PREFIX owl: <http://www.w3.org/2002/07/owl#>\n",
    "PREFIX rdf: <http://www.w3.org/1999/02/22-rdf-syntax-ns#>\n",
    "PREFIX rdfs: <http://www.w3.org/2000/01/rdf-schema#>\n",
    "PREFIX bldg: <http://buildsys.org/ontologies/bldg1>\n",
    "\n",
    "DELETE {?this a brick:Supply_Air_flow }\n",
    "INSERT {?this a brick:Supply_Air_Flow_Sensor}\n",
    "WHERE {\n",
    "?this a brick:Supply_Air_flow\n",
    "}\n",
    "\"\"\""
   ]
  },
  {
   "cell_type": "code",
   "execution_count": null,
   "metadata": {},
   "outputs": [],
   "source": [
    "chws_fix = \"\"\"\n",
    "PREFIX brick: <https://brickschema.org/schema/Brick#>\n",
    "PREFIX g36: <http://data.ashrae.org/standard223/1.0/extension/g36#>\n",
    "PREFIX s223: <http://data.ashrae.org/standard223#>\n",
    "PREFIX unit: <http://qudt.org/vocab/unit/>\n",
    "PREFIX quantitykind: <http://qudt.org/vocab/quantitykind/>\n",
    "PREFIX qudt: <http://qudt.org/schema/qudt/>\n",
    "PREFIX sh: <http://www.w3.org/ns/shacl#>\n",
    "PREFIX owl: <http://www.w3.org/2002/07/owl#>\n",
    "PREFIX rdf: <http://www.w3.org/1999/02/22-rdf-syntax-ns#>\n",
    "PREFIX rdfs: <http://www.w3.org/2000/01/rdf-schema#>\n",
    "PREFIX bldg: <http://buildsys.org/ontologies/bldg1>\n",
    "\n",
    "DELETE {?this a brick:Chilled_Water_Supply_Temperature_Setpoint}\n",
    "INSERT {?this a brick:Supply_Chilled_Water_Temperature_Setpoint }\n",
    "WHERE {\n",
    "?this a brick:Chilled_Water_Supply_Temperature_Setpoint\n",
    "}\n",
    "\"\"\""
   ]
  },
  {
   "cell_type": "code",
   "execution_count": null,
   "metadata": {},
   "outputs": [],
   "source": [
    "chwr_fix = \"\"\"\n",
    "PREFIX brick: <https://brickschema.org/schema/Brick#>\n",
    "PREFIX g36: <http://data.ashrae.org/standard223/1.0/extension/g36#>\n",
    "PREFIX s223: <http://data.ashrae.org/standard223#>\n",
    "PREFIX unit: <http://qudt.org/vocab/unit/>\n",
    "PREFIX quantitykind: <http://qudt.org/vocab/quantitykind/>\n",
    "PREFIX qudt: <http://qudt.org/schema/qudt/>\n",
    "PREFIX sh: <http://www.w3.org/ns/shacl#>\n",
    "PREFIX owl: <http://www.w3.org/2002/07/owl#>\n",
    "PREFIX rdf: <http://www.w3.org/1999/02/22-rdf-syntax-ns#>\n",
    "PREFIX rdfs: <http://www.w3.org/2000/01/rdf-schema#>\n",
    "PREFIX bldg: <http://buildsys.org/ontologies/bldg1>\n",
    "\n",
    "DELETE {?this a brick:Chilled_Water_Return_Temperature_Setpoint}\n",
    "INSERT {?this a brick:Return_Chilled_Water_Temperature_Setpoint }\n",
    "WHERE {\n",
    "?this a brick:Chilled_Water_Return_Temperature_Setpoint\n",
    "}\n",
    "\"\"\""
   ]
  },
  {
   "cell_type": "code",
   "execution_count": null,
   "metadata": {},
   "outputs": [],
   "source": [
    "meters_fix =\"\"\"\n",
    "PREFIX brick: <https://brickschema.org/schema/Brick#>\n",
    "PREFIX g36: <http://data.ashrae.org/standard223/1.0/extension/g36#>\n",
    "PREFIX s223: <http://data.ashrae.org/standard223#>\n",
    "PREFIX unit: <http://qudt.org/vocab/unit/>\n",
    "PREFIX quantitykind: <http://qudt.org/vocab/quantitykind/>\n",
    "PREFIX qudt: <http://qudt.org/schema/qudt/>\n",
    "PREFIX sh: <http://www.w3.org/ns/shacl#>\n",
    "PREFIX owl: <http://www.w3.org/2002/07/owl#>\n",
    "PREFIX rdf: <http://www.w3.org/1999/02/22-rdf-syntax-ns#>\n",
    "PREFIX rdfs: <http://www.w3.org/2000/01/rdf-schema#>\n",
    "PREFIX bldg: <http://buildsys.org/ontologies/bldg1>\n",
    "\n",
    "DELETE {?meter brick:isPointOf ?this}\n",
    "INSERT {?meter brick:meters ?this }\n",
    "WHERE {\n",
    "?meter a brick:Electric_Meter ;\n",
    "    brick:isPointOf ?this .\n",
    "}\n",
    "\"\"\""
   ]
  },
  {
   "cell_type": "code",
   "execution_count": null,
   "metadata": {},
   "outputs": [],
   "source": [
    "electricalmeter_fix =\"\"\"\n",
    "PREFIX brick: <https://brickschema.org/schema/Brick#>\n",
    "PREFIX g36: <http://data.ashrae.org/standard223/1.0/extension/g36#>\n",
    "PREFIX s223: <http://data.ashrae.org/standard223#>\n",
    "PREFIX unit: <http://qudt.org/vocab/unit/>\n",
    "PREFIX quantitykind: <http://qudt.org/vocab/quantitykind/>\n",
    "PREFIX qudt: <http://qudt.org/schema/qudt/>\n",
    "PREFIX sh: <http://www.w3.org/ns/shacl#>\n",
    "PREFIX owl: <http://www.w3.org/2002/07/owl#>\n",
    "PREFIX rdf: <http://www.w3.org/1999/02/22-rdf-syntax-ns#>\n",
    "PREFIX rdfs: <http://www.w3.org/2000/01/rdf-schema#>\n",
    "PREFIX bldg: <http://buildsys.org/ontologies/bldg1>\n",
    "\n",
    "DELETE {?meter a brick:Electric_Meter }\n",
    "INSERT {?meter a brick:Electrical_Meter  }\n",
    "WHERE {\n",
    "?meter a brick:Electric_Meter \n",
    "}\n",
    "\"\"\""
   ]
  },
  {
   "attachments": {},
   "cell_type": "markdown",
   "metadata": {},
   "source": [
    "# Correcting All the Buildings"
   ]
  },
  {
   "cell_type": "code",
   "execution_count": 392,
   "metadata": {},
   "outputs": [],
   "source": [
    "# Deprecation query should come last\n",
    "other_query_list = [chwv_fix, ft2_fix, bldg4_supflow_fix, hwv_fix, chws_fix, chwr_fix, meters_fix, electricalmeter_fix, deprecation_fix]"
   ]
  },
  {
   "cell_type": "code",
   "execution_count": 402,
   "metadata": {},
   "outputs": [
    {
     "name": "stdout",
     "output_type": "stream",
     "text": [
      "bldg5.ttl\n",
      "Graph <graphs/bldg5.ttl> is valid? False\n",
      "-------------------------------------------------------------------------------\n",
      "Validation Report\n",
      "Conforms: False\n",
      "Results (1):\n",
      "Constraint Violation in NodeConstraintComponent (http://www.w3.org/ns/shacl#NodeConstraintComponent):\n",
      "\tSeverity: sh:Violation\n",
      "\tSource Shape: bsh:hasareaShape\n",
      "\tFocus Node: ns2:bldg5\n",
      "\tValue Node: [ brick:hasUnit unit:FT2 ; brick:value Literal(\"99922^^<http://www.w3.org/2001/XMLSchema#integer>\") ]\n",
      "\tResult Path: brick:area\n",
      "\tMessage: Value does not conform to Shape bsh:AreaShape\n",
      "\n",
      "-------------------------------------------------------------------------------\n",
      "1 Invalid Shape\n",
      "Graph <graphs/bldg5.ttl> is valid? True\n",
      "bldg4.ttl\n",
      "Graph <graphs/bldg4.ttl> is valid? False\n",
      "-------------------------------------------------------------------------------\n",
      "Validation Report\n",
      "Conforms: False\n",
      "Results (1):\n",
      "Constraint Violation in NodeConstraintComponent (http://www.w3.org/ns/shacl#NodeConstraintComponent):\n",
      "\tSeverity: sh:Violation\n",
      "\tSource Shape: bsh:hasareaShape\n",
      "\tFocus Node: ns2:bldg4\n",
      "\tValue Node: [ brick:hasUnit unit:FT2 ; brick:value Literal(\"32792^^<http://www.w3.org/2001/XMLSchema#integer>\") ]\n",
      "\tResult Path: brick:area\n",
      "\tMessage: Value does not conform to Shape bsh:AreaShape\n",
      "\n",
      "-------------------------------------------------------------------------------\n",
      "1 Invalid Shape\n",
      "Graph <graphs/bldg4.ttl> is valid? True\n",
      "bldg6.ttl\n",
      "Graph <graphs/bldg6.ttl> is valid? False\n",
      "-------------------------------------------------------------------------------\n",
      "Validation Report\n",
      "Conforms: False\n",
      "Results (7):\n",
      "Constraint Violation in ClassConstraintComponent (http://www.w3.org/ns/shacl#ClassConstraintComponent):\n",
      "\tSeverity: sh:Violation\n",
      "\tSource Shape: bsh:hasPointShape\n",
      "\tFocus Node: ns2:AHU03N\n",
      "\tValue Node: ns2:bldg6.AHU.AHU03N.Mode\n",
      "\tResult Path: brick:hasPoint\n",
      "\tMessage: Value does not have class brick:Point\n",
      "Constraint Violation in ClassConstraintComponent (http://www.w3.org/ns/shacl#ClassConstraintComponent):\n",
      "\tSeverity: sh:Violation\n",
      "\tSource Shape: bsh:hasPointShape\n",
      "\tFocus Node: ns2:chiller\n",
      "\tValue Node: ns2:bldg6.CHW.OA_ENABLE\n",
      "\tResult Path: brick:hasPoint\n",
      "\tMessage: Value does not have class brick:Point\n",
      "Constraint Violation in ClassConstraintComponent (http://www.w3.org/ns/shacl#ClassConstraintComponent):\n",
      "\tSeverity: sh:Violation\n",
      "\tSource Shape: bsh:hasPointShape\n",
      "\tFocus Node: ns2:AHU02S\n",
      "\tValue Node: ns2:bldg6.AHU.AHU02S.Mode\n",
      "\tResult Path: brick:hasPoint\n",
      "\tMessage: Value does not have class brick:Point\n",
      "Constraint Violation in ClassConstraintComponent (http://www.w3.org/ns/shacl#ClassConstraintComponent):\n",
      "\tSeverity: sh:Violation\n",
      "\tSource Shape: bsh:hasPointShape\n",
      "\tFocus Node: ns2:AHU01S\n",
      "\tValue Node: ns2:bldg6.AHU.AHU01S.Mode\n",
      "\tResult Path: brick:hasPoint\n",
      "\tMessage: Value does not have class brick:Point\n",
      "Constraint Violation in ClassConstraintComponent (http://www.w3.org/ns/shacl#ClassConstraintComponent):\n",
      "\tSeverity: sh:Violation\n",
      "\tSource Shape: bsh:hasPointShape\n",
      "\tFocus Node: ns2:AHU02N\n",
      "\tValue Node: ns2:bldg6.AHU.AHU02N.Mode\n",
      "\tResult Path: brick:hasPoint\n",
      "\tMessage: Value does not have class brick:Point\n",
      "Constraint Violation in ClassConstraintComponent (http://www.w3.org/ns/shacl#ClassConstraintComponent):\n",
      "\tSeverity: sh:Violation\n",
      "\tSource Shape: bsh:hasPointShape\n",
      "\tFocus Node: ns2:AHU01N\n",
      "\tValue Node: ns2:bldg6.AHU.AHU01N.Mode\n",
      "\tResult Path: brick:hasPoint\n",
      "\tMessage: Value does not have class brick:Point\n",
      "Constraint Violation in ClassConstraintComponent (http://www.w3.org/ns/shacl#ClassConstraintComponent):\n",
      "\tSeverity: sh:Violation\n",
      "\tSource Shape: bsh:hasPointShape\n",
      "\tFocus Node: ns2:AHU03S\n",
      "\tValue Node: ns2:bldg6.AHU.AHU03S.Mode\n",
      "\tResult Path: brick:hasPoint\n",
      "\tMessage: Value does not have class brick:Point\n",
      "\n",
      "-------------------------------------------------------------------------------\n"
     ]
    },
    {
     "ename": "ValueError",
     "evalue": "multiple errors",
     "output_type": "error",
     "traceback": [
      "\u001b[0;31m---------------------------------------------------------------------------\u001b[0m",
      "\u001b[0;31mValueError\u001b[0m                                Traceback (most recent call last)",
      "Cell \u001b[0;32mIn[402], line 11\u001b[0m\n\u001b[1;32m      9\u001b[0m     \u001b[39mprint\u001b[39m(\u001b[39m\"\u001b[39m\u001b[39mGraph is valid\u001b[39m\u001b[39m\"\u001b[39m)\n\u001b[1;32m     10\u001b[0m     \u001b[39mcontinue\u001b[39;00m\n\u001b[0;32m---> 11\u001b[0m area_query \u001b[39m=\u001b[39m format_area_query(report_graph)\n\u001b[1;32m     12\u001b[0m bv\u001b[39m.\u001b[39mgraph\u001b[39m.\u001b[39mupdate(area_query)\n\u001b[1;32m     13\u001b[0m valid, final_report \u001b[39m=\u001b[39m bv\u001b[39m.\u001b[39mvalidate()\n",
      "Cell \u001b[0;32mIn[391], line 44\u001b[0m, in \u001b[0;36mformat_area_query\u001b[0;34m(report_graph)\u001b[0m\n\u001b[1;32m     42\u001b[0m     new \u001b[39m=\u001b[39m \u001b[39mint\u001b[39m(old\u001b[39m.\u001b[39mrsplit(\u001b[39m'\u001b[39m\u001b[39m^^\u001b[39m\u001b[39m'\u001b[39m)[\u001b[39m0\u001b[39m])\n\u001b[1;32m     43\u001b[0m \u001b[39melse\u001b[39;00m: \n\u001b[0;32m---> 44\u001b[0m     \u001b[39mraise\u001b[39;00m \u001b[39mValueError\u001b[39;00m(\u001b[39m'\u001b[39m\u001b[39mmultiple errors\u001b[39m\u001b[39m'\u001b[39m)\n\u001b[1;32m     45\u001b[0m \u001b[39mreturn\u001b[39;00m Template(area_query_format)\u001b[39m.\u001b[39msubstitute(old \u001b[39m=\u001b[39m old, new \u001b[39m=\u001b[39m new)\n",
      "\u001b[0;31mValueError\u001b[0m: multiple errors"
     ]
    }
   ],
   "source": [
    "for file in os.listdir('graphs'):\n",
    "    print(file)\n",
    "    path = os.path.join('graphs',file)\n",
    "    bv = BasicValidationInterface(graph_path=path, nightly=True)\n",
    "    for q in other_query_list:\n",
    "        bv.graph.update(q)\n",
    "    valid, report_graph = bv.validate()\n",
    "    if valid:\n",
    "        print(\"Graph is valid\")\n",
    "        continue\n",
    "    area_query = format_area_query(report_graph)\n",
    "    bv.graph.update(area_query)\n",
    "    valid, final_report = bv.validate()\n",
    "    if not valid:\n",
    "        break\n",
    "    bv.graph.serialize(os.path.join('graphs_clean', file), format = 'ttl')"
   ]
  },
  {
   "attachments": {},
   "cell_type": "markdown",
   "metadata": {},
   "source": [
    "# Working it out"
   ]
  },
  {
   "cell_type": "code",
   "execution_count": 286,
   "metadata": {},
   "outputs": [],
   "source": [
    "deprecation_fix = \"\"\"\n",
    "PREFIX brick: <https://brickschema.org/schema/Brick#>\n",
    "PREFIX g36: <http://data.ashrae.org/standard223/1.0/extension/g36#>\n",
    "PREFIX s223: <http://data.ashrae.org/standard223#>\n",
    "PREFIX unit: <http://qudt.org/vocab/unit/>\n",
    "PREFIX quantitykind: <http://qudt.org/vocab/quantitykind/>\n",
    "PREFIX qudt: <http://qudt.org/schema/qudt/>\n",
    "PREFIX sh: <http://www.w3.org/ns/shacl#>\n",
    "PREFIX owl: <http://www.w3.org/2002/07/owl#>\n",
    "PREFIX rdf: <http://www.w3.org/1999/02/22-rdf-syntax-ns#>\n",
    "PREFIX rdfs: <http://www.w3.org/2000/01/rdf-schema#>\n",
    "PREFIX bldg: <http://buildsys.org/ontologies/bldg1>\n",
    "\n",
    "DELETE {?this a ?class}\n",
    "INSERT {?this a ?newClass}\n",
    "WHERE {\n",
    "?this a ?class .\n",
    "?class owl:deprecated true .\n",
    "?class brick:deprecatedInVersion ?depver .\n",
    "?class brick:isReplacedBy ?newClass .\n",
    "}\n",
    "\"\"\""
   ]
  },
  {
   "cell_type": "code",
   "execution_count": 287,
   "metadata": {},
   "outputs": [],
   "source": [
    "#\n",
    "ft2_fix = \"\"\"\n",
    "PREFIX brick: <https://brickschema.org/schema/Brick#>\n",
    "PREFIX g36: <http://data.ashrae.org/standard223/1.0/extension/g36#>\n",
    "PREFIX s223: <http://data.ashrae.org/standard223#>\n",
    "PREFIX unit: <http://qudt.org/vocab/unit/>\n",
    "PREFIX quantitykind: <http://qudt.org/vocab/quantitykind/>\n",
    "PREFIX qudt: <http://qudt.org/schema/qudt/>\n",
    "PREFIX sh: <http://www.w3.org/ns/shacl#>\n",
    "PREFIX owl: <http://www.w3.org/2002/07/owl#>\n",
    "PREFIX rdf: <http://www.w3.org/1999/02/22-rdf-syntax-ns#>\n",
    "PREFIX rdfs: <http://www.w3.org/2000/01/rdf-schema#>\n",
    "PREFIX bldg: <http://buildsys.org/ontologies/bldg1>\n",
    "\n",
    "DELETE {?this brick:hasUnits unit:FT_2}\n",
    "INSERT {?this brick:hasUnit unit:FT2}\n",
    "WHERE {\n",
    "?this brick:hasUnits unit:FT_2\n",
    "}\n",
    "\"\"\""
   ]
  },
  {
   "cell_type": "code",
   "execution_count": 288,
   "metadata": {},
   "outputs": [],
   "source": [
    "bldg1_area_fix = \"\"\"\n",
    "PREFIX brick: <https://brickschema.org/schema/Brick#>\n",
    "PREFIX g36: <http://data.ashrae.org/standard223/1.0/extension/g36#>\n",
    "PREFIX s223: <http://data.ashrae.org/standard223#>\n",
    "PREFIX unit: <http://qudt.org/vocab/unit/>\n",
    "PREFIX quantitykind: <http://qudt.org/vocab/quantitykind/>\n",
    "PREFIX qudt: <http://qudt.org/schema/qudt/>\n",
    "PREFIX sh: <http://www.w3.org/ns/shacl#>\n",
    "PREFIX owl: <http://www.w3.org/2002/07/owl#>\n",
    "PREFIX rdf: <http://www.w3.org/1999/02/22-rdf-syntax-ns#>\n",
    "PREFIX rdfs: <http://www.w3.org/2000/01/rdf-schema#>\n",
    "PREFIX bldg: <http://buildsys.org/ontologies/bldg1>\n",
    "\n",
    "DELETE {?this brick:value \"9973^^<http://www.w3.org/2001/XMLSchema#integer>\" }\n",
    "INSERT {?this brick:value 9973 }\n",
    "WHERE {\n",
    "?this brick:value \"9973^^<http://www.w3.org/2001/XMLSchema#integer>\"\n",
    "}\n",
    "\"\"\""
   ]
  },
  {
   "cell_type": "code",
   "execution_count": 289,
   "metadata": {},
   "outputs": [],
   "source": [
    "#bldg 1"
   ]
  },
  {
   "cell_type": "code",
   "execution_count": 370,
   "metadata": {},
   "outputs": [
    {
     "name": "stdout",
     "output_type": "stream",
     "text": [
      "Graph <graphs/bldg1.ttl> is valid? False\n",
      "-------------------------------------------------------------------------------\n",
      "Validation Report\n",
      "Conforms: False\n",
      "Results (1):\n",
      "Constraint Violation in NodeConstraintComponent (http://www.w3.org/ns/shacl#NodeConstraintComponent):\n",
      "\tSeverity: sh:Violation\n",
      "\tSource Shape: bsh:hasareaShape\n",
      "\tFocus Node: ns2:bldg1\n",
      "\tValue Node: [ brick:hasUnit unit:FT2 ; brick:value Literal(\"9973^^<http://www.w3.org/2001/XMLSchema#integer>\") ]\n",
      "\tResult Path: brick:area\n",
      "\tMessage: Value does not conform to Shape bsh:AreaShape\n",
      "\n",
      "-------------------------------------------------------------------------------\n"
     ]
    }
   ],
   "source": [
    "graph = 'graphs/bldg1.ttl'\n",
    "bv = BasicValidationInterface(graph_path=graph, nightly=True)\n",
    "bv.graph.update(deprecation_fix)\n",
    "# bv.graph.update(bldg1_area_fix)\n",
    "bv.graph.update(ft2_fix)\n",
    "# Loading qudt fixes QUDT related validation errors\n",
    "bv.graph.parse('https://qudt.org/2.1/schema/qudt', format = 'ttl')\n",
    "bv.graph.parse('https://qudt.org/2.1/vocab/quantitykind', format = 'ttl')\n",
    "report_graph = bv.validate()"
   ]
  },
  {
   "cell_type": "code",
   "execution_count": 388,
   "metadata": {},
   "outputs": [
    {
     "name": "stdout",
     "output_type": "stream",
     "text": [
      "1 Invalid Shape\n",
      "\n",
      "PREFIX brick: <https://brickschema.org/schema/Brick#>\n",
      "PREFIX g36: <http://data.ashrae.org/standard223/1.0/extension/g36#>\n",
      "PREFIX s223: <http://data.ashrae.org/standard223#>\n",
      "PREFIX unit: <http://qudt.org/vocab/unit/>\n",
      "PREFIX quantitykind: <http://qudt.org/vocab/quantitykind/>\n",
      "PREFIX qudt: <http://qudt.org/schema/qudt/>\n",
      "PREFIX sh: <http://www.w3.org/ns/shacl#>\n",
      "PREFIX owl: <http://www.w3.org/2002/07/owl#>\n",
      "PREFIX rdf: <http://www.w3.org/1999/02/22-rdf-syntax-ns#>\n",
      "PREFIX rdfs: <http://www.w3.org/2000/01/rdf-schema#>\n",
      "PREFIX bldg: <http://buildsys.org/ontologies/bldg1>\n",
      "\n",
      "DELETE {?this brick:value \"9973^^<http://www.w3.org/2001/XMLSchema#integer>\" }\n",
      "INSERT {?this brick:value 9973 }\n",
      "WHERE {\n",
      "?this brick:value \"9973^^<http://www.w3.org/2001/XMLSchema#integer>\"\n",
      "}\n",
      "\n"
     ]
    }
   ],
   "source": [
    "new = format_area_query(report_graph)\n",
    "print(new)"
   ]
  },
  {
   "cell_type": "code",
   "execution_count": 389,
   "metadata": {},
   "outputs": [],
   "source": [
    "bv.graph.update(new)"
   ]
  },
  {
   "cell_type": "code",
   "execution_count": 390,
   "metadata": {},
   "outputs": [
    {
     "name": "stdout",
     "output_type": "stream",
     "text": [
      "Graph <graphs/bldg1.ttl> is valid? True\n"
     ]
    },
    {
     "data": {
      "text/plain": [
       "<Graph identifier=N8cc758c050614bad8073c97b06b3a6bc (<class 'rdflib.graph.Graph'>)>"
      ]
     },
     "execution_count": 390,
     "metadata": {},
     "output_type": "execute_result"
    }
   ],
   "source": [
    "bv.validate()"
   ]
  },
  {
   "cell_type": "code",
   "execution_count": 348,
   "metadata": {},
   "outputs": [
    {
     "name": "stdout",
     "output_type": "stream",
     "text": [
      "1 Invalid Shape\n"
     ]
    }
   ],
   "source": [
    "if len(res) == 1:\n",
    "    print('1 Invalid Shape')\n",
    "    old = iter(res).__next__().get('replace')\n",
    "    new = int(old.rsplit('^^')[0])"
   ]
  },
  {
   "cell_type": "code",
   "execution_count": null,
   "metadata": {},
   "outputs": [],
   "source": [
    "Template(area_query_format).substitute(old = 'a', new = 'b')"
   ]
  },
  {
   "cell_type": "code",
   "execution_count": 298,
   "metadata": {},
   "outputs": [
    {
     "data": {
      "text/plain": [
       "<Graph identifier=N596ed28253704a03bb8e96a39a54213f (<class 'brickschema.graph.Graph'>)>"
      ]
     },
     "execution_count": 298,
     "metadata": {},
     "output_type": "execute_result"
    }
   ],
   "source": [
    "bv.graph.serialize('graphs_clean/bldg1.ttl')"
   ]
  },
  {
   "cell_type": "code",
   "execution_count": 140,
   "metadata": {},
   "outputs": [],
   "source": [
    "# bldg2 "
   ]
  },
  {
   "cell_type": "code",
   "execution_count": 141,
   "metadata": {},
   "outputs": [],
   "source": [
    "chwv_fix = \"\"\"\n",
    "PREFIX brick: <https://brickschema.org/schema/Brick#>\n",
    "PREFIX g36: <http://data.ashrae.org/standard223/1.0/extension/g36#>\n",
    "PREFIX s223: <http://data.ashrae.org/standard223#>\n",
    "PREFIX unit: <http://qudt.org/vocab/unit/>\n",
    "PREFIX quantitykind: <http://qudt.org/vocab/quantitykind/>\n",
    "PREFIX qudt: <http://qudt.org/schema/qudt/>\n",
    "PREFIX sh: <http://www.w3.org/ns/shacl#>\n",
    "PREFIX owl: <http://www.w3.org/2002/07/owl#>\n",
    "PREFIX rdf: <http://www.w3.org/1999/02/22-rdf-syntax-ns#>\n",
    "PREFIX rdfs: <http://www.w3.org/2000/01/rdf-schema#>\n",
    "PREFIX bldg: <http://buildsys.org/ontologies/bldg1>\n",
    "\n",
    "DELETE {?this a brick:Chilled_Water_Valve_Command }\n",
    "INSERT {?this a brick:Valve_Command ;\n",
    "                brick:hasSubstance brick:Chilled_Water }\n",
    "WHERE {\n",
    "?this a brick:Chilled_Water_Valve_Command\n",
    "}\n",
    "\"\"\""
   ]
  },
  {
   "cell_type": "code",
   "execution_count": 142,
   "metadata": {},
   "outputs": [],
   "source": [
    "hwv_fix = \"\"\"\n",
    "PREFIX brick: <https://brickschema.org/schema/Brick#>\n",
    "PREFIX g36: <http://data.ashrae.org/standard223/1.0/extension/g36#>\n",
    "PREFIX s223: <http://data.ashrae.org/standard223#>\n",
    "PREFIX unit: <http://qudt.org/vocab/unit/>\n",
    "PREFIX quantitykind: <http://qudt.org/vocab/quantitykind/>\n",
    "PREFIX qudt: <http://qudt.org/schema/qudt/>\n",
    "PREFIX sh: <http://www.w3.org/ns/shacl#>\n",
    "PREFIX owl: <http://www.w3.org/2002/07/owl#>\n",
    "PREFIX rdf: <http://www.w3.org/1999/02/22-rdf-syntax-ns#>\n",
    "PREFIX rdfs: <http://www.w3.org/2000/01/rdf-schema#>\n",
    "PREFIX bldg: <http://buildsys.org/ontologies/bldg1>\n",
    "\n",
    "DELETE {?this a brick:Hot_Water_Valve_Command }\n",
    "INSERT {?this a brick:Valve_Command ;\n",
    "                brick:hasSubstance brick:Hot_Water }\n",
    "WHERE {\n",
    "?this a brick:Hot_Water_Valve_Command\n",
    "}\n",
    "\"\"\""
   ]
  },
  {
   "cell_type": "code",
   "execution_count": 143,
   "metadata": {},
   "outputs": [],
   "source": [
    "chws_fix = \"\"\"\n",
    "PREFIX brick: <https://brickschema.org/schema/Brick#>\n",
    "PREFIX g36: <http://data.ashrae.org/standard223/1.0/extension/g36#>\n",
    "PREFIX s223: <http://data.ashrae.org/standard223#>\n",
    "PREFIX unit: <http://qudt.org/vocab/unit/>\n",
    "PREFIX quantitykind: <http://qudt.org/vocab/quantitykind/>\n",
    "PREFIX qudt: <http://qudt.org/schema/qudt/>\n",
    "PREFIX sh: <http://www.w3.org/ns/shacl#>\n",
    "PREFIX owl: <http://www.w3.org/2002/07/owl#>\n",
    "PREFIX rdf: <http://www.w3.org/1999/02/22-rdf-syntax-ns#>\n",
    "PREFIX rdfs: <http://www.w3.org/2000/01/rdf-schema#>\n",
    "PREFIX bldg: <http://buildsys.org/ontologies/bldg1>\n",
    "\n",
    "DELETE {?this a brick:Chilled_Water_Supply_Temperature_Setpoint}\n",
    "INSERT {?this a brick:Supply_Chilled_Water_Temperature_Setpoint }\n",
    "WHERE {\n",
    "?this a brick:Chilled_Water_Supply_Temperature_Setpoint\n",
    "}\n",
    "\"\"\""
   ]
  },
  {
   "cell_type": "code",
   "execution_count": 144,
   "metadata": {},
   "outputs": [],
   "source": [
    "chwr_fix = \"\"\"\n",
    "PREFIX brick: <https://brickschema.org/schema/Brick#>\n",
    "PREFIX g36: <http://data.ashrae.org/standard223/1.0/extension/g36#>\n",
    "PREFIX s223: <http://data.ashrae.org/standard223#>\n",
    "PREFIX unit: <http://qudt.org/vocab/unit/>\n",
    "PREFIX quantitykind: <http://qudt.org/vocab/quantitykind/>\n",
    "PREFIX qudt: <http://qudt.org/schema/qudt/>\n",
    "PREFIX sh: <http://www.w3.org/ns/shacl#>\n",
    "PREFIX owl: <http://www.w3.org/2002/07/owl#>\n",
    "PREFIX rdf: <http://www.w3.org/1999/02/22-rdf-syntax-ns#>\n",
    "PREFIX rdfs: <http://www.w3.org/2000/01/rdf-schema#>\n",
    "PREFIX bldg: <http://buildsys.org/ontologies/bldg1>\n",
    "\n",
    "DELETE {?this a brick:Chilled_Water_Return_Temperature_Setpoint}\n",
    "INSERT {?this a brick:Return_Chilled_Water_Temperature_Setpoint }\n",
    "WHERE {\n",
    "?this a brick:Chilled_Water_Return_Temperature_Setpoint\n",
    "}\n",
    "\"\"\""
   ]
  },
  {
   "cell_type": "code",
   "execution_count": 145,
   "metadata": {},
   "outputs": [],
   "source": [
    "meters_fix =\"\"\"\n",
    "PREFIX brick: <https://brickschema.org/schema/Brick#>\n",
    "PREFIX g36: <http://data.ashrae.org/standard223/1.0/extension/g36#>\n",
    "PREFIX s223: <http://data.ashrae.org/standard223#>\n",
    "PREFIX unit: <http://qudt.org/vocab/unit/>\n",
    "PREFIX quantitykind: <http://qudt.org/vocab/quantitykind/>\n",
    "PREFIX qudt: <http://qudt.org/schema/qudt/>\n",
    "PREFIX sh: <http://www.w3.org/ns/shacl#>\n",
    "PREFIX owl: <http://www.w3.org/2002/07/owl#>\n",
    "PREFIX rdf: <http://www.w3.org/1999/02/22-rdf-syntax-ns#>\n",
    "PREFIX rdfs: <http://www.w3.org/2000/01/rdf-schema#>\n",
    "PREFIX bldg: <http://buildsys.org/ontologies/bldg1>\n",
    "\n",
    "DELETE {?meter brick:isPointOf ?this}\n",
    "INSERT {?meter brick:meters ?this }\n",
    "WHERE {\n",
    "?meter a brick:Electric_Meter ;\n",
    "    brick:isPointOf ?this .\n",
    "}\n",
    "\"\"\""
   ]
  },
  {
   "cell_type": "code",
   "execution_count": 146,
   "metadata": {},
   "outputs": [],
   "source": [
    "electricalmeter_fix =\"\"\"\n",
    "PREFIX brick: <https://brickschema.org/schema/Brick#>\n",
    "PREFIX g36: <http://data.ashrae.org/standard223/1.0/extension/g36#>\n",
    "PREFIX s223: <http://data.ashrae.org/standard223#>\n",
    "PREFIX unit: <http://qudt.org/vocab/unit/>\n",
    "PREFIX quantitykind: <http://qudt.org/vocab/quantitykind/>\n",
    "PREFIX qudt: <http://qudt.org/schema/qudt/>\n",
    "PREFIX sh: <http://www.w3.org/ns/shacl#>\n",
    "PREFIX owl: <http://www.w3.org/2002/07/owl#>\n",
    "PREFIX rdf: <http://www.w3.org/1999/02/22-rdf-syntax-ns#>\n",
    "PREFIX rdfs: <http://www.w3.org/2000/01/rdf-schema#>\n",
    "PREFIX bldg: <http://buildsys.org/ontologies/bldg1>\n",
    "\n",
    "DELETE {?meter a brick:Electric_Meter }\n",
    "INSERT {?meter a brick:Electrical_Meter  }\n",
    "WHERE {\n",
    "?meter a brick:Electric_Meter \n",
    "}\n",
    "\"\"\""
   ]
  },
  {
   "cell_type": "code",
   "execution_count": 233,
   "metadata": {},
   "outputs": [],
   "source": [
    "# couldn't figure out how to generalize this (it is probably possible, but I couldn't crack it)\n",
    "bldg2_area_fix = \"\"\"\n",
    "PREFIX brick: <https://brickschema.org/schema/Brick#>\n",
    "PREFIX g36: <http://data.ashrae.org/standard223/1.0/extension/g36#>\n",
    "PREFIX s223: <http://data.ashrae.org/standard223#>\n",
    "PREFIX unit: <http://qudt.org/vocab/unit/>\n",
    "PREFIX quantitykind: <http://qudt.org/vocab/quantitykind/>\n",
    "PREFIX qudt: <http://qudt.org/schema/qudt/>\n",
    "PREFIX sh: <http://www.w3.org/ns/shacl#>\n",
    "PREFIX owl: <http://www.w3.org/2002/07/owl#>\n",
    "PREFIX rdf: <http://www.w3.org/1999/02/22-rdf-syntax-ns#>\n",
    "PREFIX rdfs: <http://www.w3.org/2000/01/rdf-schema#>\n",
    "PREFIX bldg: <http://buildsys.org/ontologies/bldg1>\n",
    "\n",
    "DELETE {?this brick:value \"26793^^<http://www.w3.org/2001/XMLSchema#integer>\" }\n",
    "INSERT {?this brick:value 26793 }\n",
    "WHERE {\n",
    "?this brick:value \"26793^^<http://www.w3.org/2001/XMLSchema#integer>\"\n",
    "}\n",
    "\"\"\""
   ]
  },
  {
   "cell_type": "code",
   "execution_count": 234,
   "metadata": {},
   "outputs": [
    {
     "name": "stdout",
     "output_type": "stream",
     "text": [
      "Graph <graphs/bldg2.ttl> is valid? True\n"
     ]
    }
   ],
   "source": [
    "graph = 'graphs/bldg2.ttl'\n",
    "bv = BasicValidationInterface(graph_path=graph, nightly=True)\n",
    "bv.graph.update(bldg2_area_fix)\n",
    "bv.graph.update(chwv_fix)\n",
    "bv.graph.update(ft2_fix)\n",
    "bv.graph.update(bldg2_area_fix)\n",
    "bv.graph.update(hwv_fix)\n",
    "# bv.graph.update(bldg2_area_fix)\n",
    "# Loading qudt fixes QUDT related validation errors\n",
    "bv.graph.parse('https://qudt.org/2.1/schema/qudt', format = 'ttl')\n",
    "bv.graph.parse('https://qudt.org/2.1/vocab/quantitykind', format = 'ttl')\n",
    "\n",
    "bv.graph.update(chws_fix)\n",
    "bv.graph.update(chwr_fix)\n",
    "bv.graph.update(meters_fix)\n",
    "bv.graph.update(electricalmeter_fix)\n",
    "bv.graph.update(deprecation_fix)\n",
    "bv.validate()"
   ]
  },
  {
   "cell_type": "code",
   "execution_count": null,
   "metadata": {},
   "outputs": [],
   "source": [
    "bv.graph.serialize('graphs_clean/bldg2.ttl')"
   ]
  },
  {
   "cell_type": "code",
   "execution_count": 230,
   "metadata": {},
   "outputs": [],
   "source": [
    "#bldg3"
   ]
  },
  {
   "cell_type": "code",
   "execution_count": 238,
   "metadata": {},
   "outputs": [],
   "source": [
    "# couldn't figure out how to generalize this (it is probably possible, but I couldn't crack it)\n",
    "bldg3_area_fix = \"\"\"\n",
    "PREFIX brick: <https://brickschema.org/schema/Brick#>\n",
    "PREFIX g36: <http://data.ashrae.org/standard223/1.0/extension/g36#>\n",
    "PREFIX s223: <http://data.ashrae.org/standard223#>\n",
    "PREFIX unit: <http://qudt.org/vocab/unit/>\n",
    "PREFIX quantitykind: <http://qudt.org/vocab/quantitykind/>\n",
    "PREFIX qudt: <http://qudt.org/schema/qudt/>\n",
    "PREFIX sh: <http://www.w3.org/ns/shacl#>\n",
    "PREFIX owl: <http://www.w3.org/2002/07/owl#>\n",
    "PREFIX rdf: <http://www.w3.org/1999/02/22-rdf-syntax-ns#>\n",
    "PREFIX rdfs: <http://www.w3.org/2000/01/rdf-schema#>\n",
    "PREFIX bldg: <http://buildsys.org/ontologies/bldg1>\n",
    "\n",
    "DELETE {?this brick:value \"42946\" }\n",
    "INSERT {?this brick:value 42946 }\n",
    "WHERE {\n",
    "?this brick:value \"42946\"\n",
    "}\n",
    "\"\"\""
   ]
  },
  {
   "cell_type": "code",
   "execution_count": 239,
   "metadata": {},
   "outputs": [
    {
     "name": "stdout",
     "output_type": "stream",
     "text": [
      "Graph <graphs/bldg3.ttl> is valid? True\n"
     ]
    }
   ],
   "source": [
    "graph = 'graphs/bldg3.ttl'\n",
    "bv = BasicValidationInterface(graph_path=graph, nightly=True)\n",
    "bv.graph.update(bldg1_area_fix)\n",
    "bv.graph.update(chwv_fix)\n",
    "bv.graph.update(ft2_fix)\n",
    "bv.graph.update(bldg3_area_fix)\n",
    "bv.graph.update(hwv_fix)\n",
    "bv.graph.update(bldg2_area_fix)\n",
    "# Loading qudt fixes QUDT related validation errors\n",
    "bv.graph.parse('https://qudt.org/2.1/schema/qudt', format = 'ttl')\n",
    "bv.graph.parse('https://qudt.org/2.1/vocab/quantitykind', format = 'ttl')\n",
    "\n",
    "bv.graph.update(chws_fix)\n",
    "bv.graph.update(chwr_fix)\n",
    "bv.graph.update(meters_fix)\n",
    "bv.graph.update(electricalmeter_fix)\n",
    "bv.graph.update(deprecation_fix)\n",
    "bv.validate()"
   ]
  },
  {
   "cell_type": "code",
   "execution_count": null,
   "metadata": {},
   "outputs": [],
   "source": [
    "bv.graph.serialize('graphs_clean/bldg3.ttl')"
   ]
  },
  {
   "cell_type": "code",
   "execution_count": 240,
   "metadata": {},
   "outputs": [],
   "source": [
    "#bldg4"
   ]
  },
  {
   "cell_type": "code",
   "execution_count": 251,
   "metadata": {},
   "outputs": [],
   "source": [
    "# couldn't figure out how to generalize this (it is probably possible, but I couldn't crack it)\n",
    "bldg4_area_fix = \"\"\"\n",
    "PREFIX brick: <https://brickschema.org/schema/Brick#>\n",
    "PREFIX g36: <http://data.ashrae.org/standard223/1.0/extension/g36#>\n",
    "PREFIX s223: <http://data.ashrae.org/standard223#>\n",
    "PREFIX unit: <http://qudt.org/vocab/unit/>\n",
    "PREFIX quantitykind: <http://qudt.org/vocab/quantitykind/>\n",
    "PREFIX qudt: <http://qudt.org/schema/qudt/>\n",
    "PREFIX sh: <http://www.w3.org/ns/shacl#>\n",
    "PREFIX owl: <http://www.w3.org/2002/07/owl#>\n",
    "PREFIX rdf: <http://www.w3.org/1999/02/22-rdf-syntax-ns#>\n",
    "PREFIX rdfs: <http://www.w3.org/2000/01/rdf-schema#>\n",
    "PREFIX bldg: <http://buildsys.org/ontologies/bldg1>\n",
    "\n",
    "DELETE {?this brick:value \"32792^^<http://www.w3.org/2001/XMLSchema#integer>\" }\n",
    "INSERT {?this brick:value 32792 }\n",
    "WHERE {\n",
    "?this brick:value \"32792^^<http://www.w3.org/2001/XMLSchema#integer>\"\n",
    "}\n",
    "\"\"\""
   ]
  },
  {
   "cell_type": "code",
   "execution_count": 252,
   "metadata": {},
   "outputs": [],
   "source": [
    "# ASSUMING that flow refers to a Sensor\n",
    "bldg4_supflow_fix = \"\"\"\n",
    "PREFIX brick: <https://brickschema.org/schema/Brick#>\n",
    "PREFIX g36: <http://data.ashrae.org/standard223/1.0/extension/g36#>\n",
    "PREFIX s223: <http://data.ashrae.org/standard223#>\n",
    "PREFIX unit: <http://qudt.org/vocab/unit/>\n",
    "PREFIX quantitykind: <http://qudt.org/vocab/quantitykind/>\n",
    "PREFIX qudt: <http://qudt.org/schema/qudt/>\n",
    "PREFIX sh: <http://www.w3.org/ns/shacl#>\n",
    "PREFIX owl: <http://www.w3.org/2002/07/owl#>\n",
    "PREFIX rdf: <http://www.w3.org/1999/02/22-rdf-syntax-ns#>\n",
    "PREFIX rdfs: <http://www.w3.org/2000/01/rdf-schema#>\n",
    "PREFIX bldg: <http://buildsys.org/ontologies/bldg1>\n",
    "\n",
    "DELETE {?this a brick:Supply_Air_flow }\n",
    "INSERT {?this a brick:Supply_Air_Flow_Sensor}\n",
    "WHERE {\n",
    "?this a brick:Supply_Air_flow\n",
    "}\n",
    "\"\"\""
   ]
  },
  {
   "cell_type": "code",
   "execution_count": 253,
   "metadata": {},
   "outputs": [
    {
     "name": "stdout",
     "output_type": "stream",
     "text": [
      "Graph <graphs/bldg4.ttl> is valid? True\n"
     ]
    }
   ],
   "source": [
    "graph = 'graphs/bldg4.ttl'\n",
    "bv = BasicValidationInterface(graph_path=graph, nightly=True)\n",
    "bv.graph.update(bldg1_area_fix)\n",
    "bv.graph.update(chwv_fix)\n",
    "bv.graph.update(ft2_fix)\n",
    "bv.graph.update(bldg4_supflow_fix)\n",
    "bv.graph.update(bldg4_area_fix)\n",
    "bv.graph.update(hwv_fix)\n",
    "# Loading qudt fixes QUDT related validation errors\n",
    "bv.graph.parse('https://qudt.org/2.1/schema/qudt', format = 'ttl')\n",
    "bv.graph.parse('https://qudt.org/2.1/vocab/quantitykind', format = 'ttl')\n",
    "\n",
    "bv.graph.update(chws_fix)\n",
    "bv.graph.update(chwr_fix)\n",
    "bv.graph.update(meters_fix)\n",
    "bv.graph.update(electricalmeter_fix)\n",
    "bv.graph.update(deprecation_fix)\n",
    "bv.validate()"
   ]
  },
  {
   "cell_type": "code",
   "execution_count": null,
   "metadata": {},
   "outputs": [],
   "source": [
    "bv.graph.serialize('graphs_clean/bldg4.ttl')"
   ]
  },
  {
   "cell_type": "code",
   "execution_count": 254,
   "metadata": {},
   "outputs": [],
   "source": [
    "#bldg5"
   ]
  },
  {
   "cell_type": "code",
   "execution_count": 257,
   "metadata": {},
   "outputs": [],
   "source": [
    "# couldn't figure out how to generalize this (it is probably possible, but I couldn't crack it)\n",
    "bldg5_area_fix = \"\"\"\n",
    "PREFIX brick: <https://brickschema.org/schema/Brick#>\n",
    "PREFIX g36: <http://data.ashrae.org/standard223/1.0/extension/g36#>\n",
    "PREFIX s223: <http://data.ashrae.org/standard223#>\n",
    "PREFIX unit: <http://qudt.org/vocab/unit/>\n",
    "PREFIX quantitykind: <http://qudt.org/vocab/quantitykind/>\n",
    "PREFIX qudt: <http://qudt.org/schema/qudt/>\n",
    "PREFIX sh: <http://www.w3.org/ns/shacl#>\n",
    "PREFIX owl: <http://www.w3.org/2002/07/owl#>\n",
    "PREFIX rdf: <http://www.w3.org/1999/02/22-rdf-syntax-ns#>\n",
    "PREFIX rdfs: <http://www.w3.org/2000/01/rdf-schema#>\n",
    "PREFIX bldg: <http://buildsys.org/ontologies/bldg1>\n",
    "\n",
    "DELETE {?this brick:value \"99922^^<http://www.w3.org/2001/XMLSchema#integer>\" }\n",
    "INSERT {?this brick:value 99922}\n",
    "WHERE {\n",
    "?this brick:value \"99922^^<http://www.w3.org/2001/XMLSchema#integer>\"\n",
    "}\n",
    "\"\"\""
   ]
  },
  {
   "cell_type": "code",
   "execution_count": 258,
   "metadata": {},
   "outputs": [
    {
     "name": "stdout",
     "output_type": "stream",
     "text": [
      "Graph <graphs/bldg5.ttl> is valid? True\n"
     ]
    }
   ],
   "source": [
    "graph = 'graphs/bldg5.ttl'\n",
    "bv = BasicValidationInterface(graph_path=graph, nightly=True)\n",
    "bv.graph.update(bldg1_area_fix)\n",
    "bv.graph.update(chwv_fix)\n",
    "bv.graph.update(ft2_fix)\n",
    "bv.graph.update(bldg5_area_fix)\n",
    "bv.graph.update(hwv_fix)\n",
    "# Loading qudt fixes QUDT related validation errors\n",
    "bv.graph.parse('https://qudt.org/2.1/schema/qudt', format = 'ttl')\n",
    "bv.graph.parse('https://qudt.org/2.1/vocab/quantitykind', format = 'ttl')\n",
    "\n",
    "bv.graph.update(chws_fix)\n",
    "bv.graph.update(chwr_fix)\n",
    "bv.graph.update(meters_fix)\n",
    "bv.graph.update(electricalmeter_fix)\n",
    "bv.graph.update(deprecation_fix)\n",
    "bv.validate()"
   ]
  },
  {
   "cell_type": "code",
   "execution_count": 260,
   "metadata": {},
   "outputs": [
    {
     "data": {
      "text/plain": [
       "<Graph identifier=Nb9469e785c5e45fe8374b40bdde783d2 (<class 'brickschema.graph.Graph'>)>"
      ]
     },
     "execution_count": 260,
     "metadata": {},
     "output_type": "execute_result"
    }
   ],
   "source": [
    "bv.graph.serialize('graphs_clean/bldg5.ttl')"
   ]
  },
  {
   "cell_type": "code",
   "execution_count": null,
   "metadata": {},
   "outputs": [],
   "source": [
    "# Running all for rest of process"
   ]
  },
  {
   "cell_type": "code",
   "execution_count": 262,
   "metadata": {},
   "outputs": [],
   "source": [
    "area_query_format = \"\"\"\n",
    "PREFIX brick: <https://brickschema.org/schema/Brick#>\n",
    "PREFIX g36: <http://data.ashrae.org/standard223/1.0/extension/g36#>\n",
    "PREFIX s223: <http://data.ashrae.org/standard223#>\n",
    "PREFIX unit: <http://qudt.org/vocab/unit/>\n",
    "PREFIX quantitykind: <http://qudt.org/vocab/quantitykind/>\n",
    "PREFIX qudt: <http://qudt.org/schema/qudt/>\n",
    "PREFIX sh: <http://www.w3.org/ns/shacl#>\n",
    "PREFIX owl: <http://www.w3.org/2002/07/owl#>\n",
    "PREFIX rdf: <http://www.w3.org/1999/02/22-rdf-syntax-ns#>\n",
    "PREFIX rdfs: <http://www.w3.org/2000/01/rdf-schema#>\n",
    "PREFIX bldg: <http://buildsys.org/ontologies/bldg1>\n",
    "\n",
    "DELETE {?this $old  }\n",
    "INSERT {?this brick:value $new }\n",
    "WHERE {\n",
    "?this brick:value %old \n",
    "}\n",
    "\"\"\""
   ]
  },
  {
   "cell_type": "code",
   "execution_count": 265,
   "metadata": {},
   "outputs": [
    {
     "name": "stdout",
     "output_type": "stream",
     "text": [
      "\n",
      "PREFIX brick: <https://brickschema.org/schema/Brick#>\n",
      "PREFIX g36: <http://data.ashrae.org/standard223/1.0/extension/g36#>\n",
      "PREFIX s223: <http://data.ashrae.org/standard223#>\n",
      "PREFIX unit: <http://qudt.org/vocab/unit/>\n",
      "PREFIX quantitykind: <http://qudt.org/vocab/quantitykind/>\n",
      "PREFIX qudt: <http://qudt.org/schema/qudt/>\n",
      "PREFIX sh: <http://www.w3.org/ns/shacl#>\n",
      "PREFIX owl: <http://www.w3.org/2002/07/owl#>\n",
      "PREFIX rdf: <http://www.w3.org/1999/02/22-rdf-syntax-ns#>\n",
      "PREFIX rdfs: <http://www.w3.org/2000/01/rdf-schema#>\n",
      "PREFIX bldg: <http://buildsys.org/ontologies/bldg1>\n",
      "\n",
      "DELETE {?this a  }\n",
      "INSERT {?this brick:value b }\n",
      "WHERE {\n",
      "?this brick:value %old \n",
      "}\n",
      "\n"
     ]
    }
   ],
   "source": [
    "Template(area_query_format).substitute(old = 'a', new = 'b')"
   ]
  }
 ],
 "metadata": {
  "kernelspec": {
   "display_name": "base",
   "language": "python",
   "name": "python3"
  },
  "language_info": {
   "codemirror_mode": {
    "name": "ipython",
    "version": 3
   },
   "file_extension": ".py",
   "mimetype": "text/x-python",
   "name": "python",
   "nbconvert_exporter": "python",
   "pygments_lexer": "ipython3",
   "version": "3.8.3"
  },
  "orig_nbformat": 4
 },
 "nbformat": 4,
 "nbformat_minor": 2
}

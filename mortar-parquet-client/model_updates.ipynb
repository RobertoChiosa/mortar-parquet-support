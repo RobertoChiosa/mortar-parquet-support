{
 "cells": [
  {
   "cell_type": "code",
   "execution_count": 350,
   "metadata": {},
   "outputs": [],
   "source": [
    "from brickschema import Graph\n",
    "from rdflib import Namespace\n",
    "import os\n",
    "from string import Template\n"
   ]
  },
  {
   "cell_type": "code",
   "execution_count": 685,
   "metadata": {},
   "outputs": [],
   "source": [
    "#NOTE: There is entering chilled water is equivalent to return chilled water, right?\n",
    "# Hot water entering flow sensor wasn't automatically made a brick point. Should it have been?\n",
    "\n",
    "#TODO: Investigate assumptions \n",
    "# - bldg42 chilled water bypass valve, applies to bldg 35 as well\n",
    "# - bldg4 Supply_Air_flow \n",
    "# - smc, removing reheat coils, VAV is an RVAV\n",
    "# - bldg26_pump_fix just replaced chilled_water_pump_speed with motor speed sensor. This may not be the best change\n",
    "# - cooling_pct_fix also not sure of a good change. We should definitely have a change log for these. \n",
    "# - bldg44 adding a chiller, because there is a meter measuring ns2:chiller. Should I add any feeds relationships to the AHU?\n"
   ]
  },
  {
   "cell_type": "code",
   "execution_count": 472,
   "metadata": {},
   "outputs": [
    {
     "data": {
      "text/plain": [
       "<Graph identifier=N0b569217ce244af0946405c055872c9a (<class 'brickschema.graph.Graph'>)>"
      ]
     },
     "execution_count": 472,
     "metadata": {},
     "output_type": "execute_result"
    }
   ],
   "source": [
    "Graph(load_brick_nightly=True).serialize('Brick_nightly.ttl', format = 'ttl')"
   ]
  },
  {
   "attachments": {},
   "cell_type": "markdown",
   "metadata": {},
   "source": [
    "# Validation Class"
   ]
  },
  {
   "cell_type": "code",
   "execution_count": 473,
   "metadata": {},
   "outputs": [],
   "source": [
    "\n",
    "class BasicValidationInterface:\n",
    "\n",
    "    def __init__(self, graph_path: str, nightly: bool = False):\n",
    "        self.graph_path = graph_path\n",
    "        if nightly:\n",
    "            # self.graph = Graph(load_brick_nightly=True)\n",
    "            # getting occassional URL errors for this. Going to just load the local brick nightly\n",
    "            self.graph = Graph().load_file('Brick_nightly.ttl')\n",
    "        else:\n",
    "            self.graph = Graph(load_brick=True)\n",
    "        # loading graph in init\n",
    "        self.graph.load_file(self.graph_path)\n",
    "        # load qudt\n",
    "        self.graph.parse('https://qudt.org/2.1/schema/qudt', format='ttl')\n",
    "        self.graph.parse(\n",
    "            'https://qudt.org/2.1/vocab/quantitykind', format='ttl')\n",
    "\n",
    "    def validate(self):\n",
    "        valid, report_graph, report = self.graph.validate()\n",
    "        print(f\"Graph <{self.graph_path}> is valid? {valid}\")\n",
    "        if not valid:\n",
    "            print(\"-\" * 79)\n",
    "            print(report)\n",
    "            print(\"-\" * 79)\n",
    "        return valid, report_graph\n"
   ]
  },
  {
   "attachments": {},
   "cell_type": "markdown",
   "metadata": {},
   "source": [
    "# Area correction query pattern"
   ]
  },
  {
   "cell_type": "code",
   "execution_count": 531,
   "metadata": {},
   "outputs": [],
   "source": [
    "area_query_format = \"\"\"\n",
    "PREFIX brick: <https://brickschema.org/schema/Brick#>\n",
    "PREFIX g36: <http://data.ashrae.org/standard223/1.0/extension/g36#>\n",
    "PREFIX s223: <http://data.ashrae.org/standard223#>\n",
    "PREFIX unit: <http://qudt.org/vocab/unit/>\n",
    "PREFIX quantitykind: <http://qudt.org/vocab/quantitykind/>\n",
    "PREFIX qudt: <http://qudt.org/schema/qudt/>\n",
    "PREFIX sh: <http://www.w3.org/ns/shacl#>\n",
    "PREFIX owl: <http://www.w3.org/2002/07/owl#>\n",
    "PREFIX rdf: <http://www.w3.org/1999/02/22-rdf-syntax-ns#>\n",
    "PREFIX rdfs: <http://www.w3.org/2000/01/rdf-schema#>\n",
    "PREFIX bldg: <http://buildsys.org/ontologies/bldg1>\n",
    "\n",
    "DELETE {?this brick:value \"$old\" }\n",
    "INSERT {?this brick:value $new }\n",
    "WHERE {\n",
    "?this brick:value \"$old\"\n",
    "}\n",
    "\"\"\"\n",
    "\n",
    "res = report_graph.query(\"\"\" \n",
    "select ?replace\n",
    "WHERE {\n",
    "?s a sh:ValidationResult ;\n",
    "    sh:value ?value .\n",
    "?val brick:value ?replace .\n",
    "}\n",
    "\"\"\")\n",
    "\n",
    "\n",
    "def format_area_query(report_graph):\n",
    "    res = report_graph.query(\"\"\" \n",
    "        select ?replace\n",
    "        WHERE {\n",
    "        ?s a sh:ValidationResult ;\n",
    "            sh:value ?value .\n",
    "        ?val brick:value ?replace .\n",
    "        }\n",
    "        \"\"\")\n",
    "    if len(res) == 1:\n",
    "        print('1 Invalid Shape')\n",
    "        old = iter(res).__next__().get('replace')\n",
    "        new = int(old.rsplit('^^')[0])\n",
    "    else:\n",
    "        raise ValueError('multiple errors')\n",
    "    return Template(area_query_format).substitute(old=old, new=new)\n"
   ]
  },
  {
   "attachments": {},
   "cell_type": "markdown",
   "metadata": {},
   "source": [
    "# Other Queries"
   ]
  },
  {
   "cell_type": "code",
   "execution_count": 693,
   "metadata": {},
   "outputs": [],
   "source": [
    "bldg43_add_chiller_fix = \"\"\"\n",
    "PREFIX brick: <https://brickschema.org/schema/Brick#>\n",
    "PREFIX g36: <http://data.ashrae.org/standard223/1.0/extension/g36#>\n",
    "PREFIX s223: <http://data.ashrae.org/standard223#>\n",
    "PREFIX unit: <http://qudt.org/vocab/unit/>\n",
    "PREFIX quantitykind: <http://qudt.org/vocab/quantitykind/>\n",
    "PREFIX qudt: <http://qudt.org/schema/qudt/>\n",
    "PREFIX sh: <http://www.w3.org/ns/shacl#>\n",
    "PREFIX owl: <http://www.w3.org/2002/07/owl#>\n",
    "PREFIX rdf: <http://www.w3.org/1999/02/22-rdf-syntax-ns#>\n",
    "PREFIX rdfs: <http://www.w3.org/2000/01/rdf-schema#>\n",
    "PREFIX bldg: <http://buildsys.org/ontologies/bldg43>\n",
    "\n",
    "INSERT DATA {<http://buildsys.org/ontologies/bldg43#chiller> a brick:Chiller }\n",
    "\"\"\"\n"
   ]
  },
  {
   "cell_type": "code",
   "execution_count": 679,
   "metadata": {},
   "outputs": [],
   "source": [
    "lev_p_sens_fix = \"\"\"\n",
    "PREFIX brick: <https://brickschema.org/schema/Brick#>\n",
    "PREFIX g36: <http://data.ashrae.org/standard223/1.0/extension/g36#>\n",
    "PREFIX s223: <http://data.ashrae.org/standard223#>\n",
    "PREFIX unit: <http://qudt.org/vocab/unit/>\n",
    "PREFIX quantitykind: <http://qudt.org/vocab/quantitykind/>\n",
    "PREFIX qudt: <http://qudt.org/schema/qudt/>\n",
    "PREFIX sh: <http://www.w3.org/ns/shacl#>\n",
    "PREFIX owl: <http://www.w3.org/2002/07/owl#>\n",
    "PREFIX rdf: <http://www.w3.org/1999/02/22-rdf-syntax-ns#>\n",
    "PREFIX rdfs: <http://www.w3.org/2000/01/rdf-schema#>\n",
    "PREFIX bldg: <http://buildsys.org/ontologies/bldg1>\n",
    "\n",
    "DELETE {?this a brick:Supply_Pressure_Sensor }\n",
    "INSERT {?this a brick:Pressure_Sensor ;\n",
    "            brick:hasSubstance brick:Leaving_Chilled_Water }\n",
    "WHERE {\n",
    "?this a brick:Supply_Pressure_Sensor   .\n",
    "}\n",
    "\"\"\"\n"
   ]
  },
  {
   "cell_type": "code",
   "execution_count": 680,
   "metadata": {},
   "outputs": [],
   "source": [
    "ent_p_sens_fix = \"\"\"\n",
    "PREFIX brick: <https://brickschema.org/schema/Brick#>\n",
    "PREFIX g36: <http://data.ashrae.org/standard223/1.0/extension/g36#>\n",
    "PREFIX s223: <http://data.ashrae.org/standard223#>\n",
    "PREFIX unit: <http://qudt.org/vocab/unit/>\n",
    "PREFIX quantitykind: <http://qudt.org/vocab/quantitykind/>\n",
    "PREFIX qudt: <http://qudt.org/schema/qudt/>\n",
    "PREFIX sh: <http://www.w3.org/ns/shacl#>\n",
    "PREFIX owl: <http://www.w3.org/2002/07/owl#>\n",
    "PREFIX rdf: <http://www.w3.org/1999/02/22-rdf-syntax-ns#>\n",
    "PREFIX rdfs: <http://www.w3.org/2000/01/rdf-schema#>\n",
    "PREFIX bldg: <http://buildsys.org/ontologies/bldg1>\n",
    "\n",
    "DELETE {?this a brick:Return_Pressure_Sensor }\n",
    "INSERT {?this a brick:Pressure_Sensor ;\n",
    "            brick:hasSubstance brick:Entering_Chilled_Water }\n",
    "WHERE {\n",
    "?this a brick:Return_Pressure_Sensor   .\n",
    "}\n",
    "\"\"\"\n"
   ]
  },
  {
   "cell_type": "code",
   "execution_count": 667,
   "metadata": {},
   "outputs": [],
   "source": [
    "# This may cause mistakes\n",
    "heating_demand_fix = \"\"\"\n",
    "PREFIX brick: <https://brickschema.org/schema/Brick#>\n",
    "PREFIX g36: <http://data.ashrae.org/standard223/1.0/extension/g36#>\n",
    "PREFIX s223: <http://data.ashrae.org/standard223#>\n",
    "PREFIX unit: <http://qudt.org/vocab/unit/>\n",
    "PREFIX quantitykind: <http://qudt.org/vocab/quantitykind/>\n",
    "PREFIX qudt: <http://qudt.org/schema/qudt/>\n",
    "PREFIX sh: <http://www.w3.org/ns/shacl#>\n",
    "PREFIX owl: <http://www.w3.org/2002/07/owl#>\n",
    "PREFIX rdf: <http://www.w3.org/1999/02/22-rdf-syntax-ns#>\n",
    "PREFIX rdfs: <http://www.w3.org/2000/01/rdf-schema#>\n",
    "PREFIX bldg: <http://buildsys.org/ontologies/bldg1>\n",
    "\n",
    "DELETE {?this a brick:Heating_Demand    }\n",
    "INSERT {?this a brick:Heating_Demand_Sensor }\n",
    "WHERE {\n",
    "?this a brick:Heating_Demand   .\n",
    "}\n",
    "\"\"\"\n"
   ]
  },
  {
   "cell_type": "code",
   "execution_count": 671,
   "metadata": {},
   "outputs": [],
   "source": [
    "# This may cause mistakes\n",
    "cooling_demand_fix = \"\"\"\n",
    "PREFIX brick: <https://brickschema.org/schema/Brick#>\n",
    "PREFIX g36: <http://data.ashrae.org/standard223/1.0/extension/g36#>\n",
    "PREFIX s223: <http://data.ashrae.org/standard223#>\n",
    "PREFIX unit: <http://qudt.org/vocab/unit/>\n",
    "PREFIX quantitykind: <http://qudt.org/vocab/quantitykind/>\n",
    "PREFIX qudt: <http://qudt.org/schema/qudt/>\n",
    "PREFIX sh: <http://www.w3.org/ns/shacl#>\n",
    "PREFIX owl: <http://www.w3.org/2002/07/owl#>\n",
    "PREFIX rdf: <http://www.w3.org/1999/02/22-rdf-syntax-ns#>\n",
    "PREFIX rdfs: <http://www.w3.org/2000/01/rdf-schema#>\n",
    "PREFIX bldg: <http://buildsys.org/ontologies/bldg1>\n",
    "\n",
    "DELETE {?this a brick:Cooling_Demand   }\n",
    "INSERT {?this a brick:Cooling_Demand_Sensor }\n",
    "WHERE {\n",
    "?this a brick:Cooling_Demand   .\n",
    "}\n",
    "\"\"\"\n"
   ]
  },
  {
   "cell_type": "code",
   "execution_count": 655,
   "metadata": {},
   "outputs": [],
   "source": [
    "# This may cause mistakes\n",
    "cooling_pct_fix = \"\"\"\n",
    "PREFIX brick: <https://brickschema.org/schema/Brick#>\n",
    "PREFIX g36: <http://data.ashrae.org/standard223/1.0/extension/g36#>\n",
    "PREFIX s223: <http://data.ashrae.org/standard223#>\n",
    "PREFIX unit: <http://qudt.org/vocab/unit/>\n",
    "PREFIX quantitykind: <http://qudt.org/vocab/quantitykind/>\n",
    "PREFIX qudt: <http://qudt.org/schema/qudt/>\n",
    "PREFIX sh: <http://www.w3.org/ns/shacl#>\n",
    "PREFIX owl: <http://www.w3.org/2002/07/owl#>\n",
    "PREFIX rdf: <http://www.w3.org/1999/02/22-rdf-syntax-ns#>\n",
    "PREFIX rdfs: <http://www.w3.org/2000/01/rdf-schema#>\n",
    "PREFIX bldg: <http://buildsys.org/ontologies/bldg1>\n",
    "\n",
    "DELETE {?this a brick:Cooling_Request_Percent_Setpoint  }\n",
    "INSERT {?this a brick:Leaving_Chilled_Water_Temperature_Setpoint }\n",
    "WHERE {\n",
    "?this a brick:Cooling_Request_Percent_Setpoint  .\n",
    "}\n",
    "\"\"\"\n"
   ]
  },
  {
   "cell_type": "code",
   "execution_count": 642,
   "metadata": {},
   "outputs": [],
   "source": [
    "# This may cause mistakes\n",
    "bldg26_pump_fix = \"\"\"\n",
    "PREFIX brick: <https://brickschema.org/schema/Brick#>\n",
    "PREFIX g36: <http://data.ashrae.org/standard223/1.0/extension/g36#>\n",
    "PREFIX s223: <http://data.ashrae.org/standard223#>\n",
    "PREFIX unit: <http://qudt.org/vocab/unit/>\n",
    "PREFIX quantitykind: <http://qudt.org/vocab/quantitykind/>\n",
    "PREFIX qudt: <http://qudt.org/schema/qudt/>\n",
    "PREFIX sh: <http://www.w3.org/ns/shacl#>\n",
    "PREFIX owl: <http://www.w3.org/2002/07/owl#>\n",
    "PREFIX rdf: <http://www.w3.org/1999/02/22-rdf-syntax-ns#>\n",
    "PREFIX rdfs: <http://www.w3.org/2000/01/rdf-schema#>\n",
    "PREFIX bldg: <http://buildsys.org/ontologies/bldg1>\n",
    "\n",
    "DELETE {?this a brick:Chilled_Water_Pump_VFD_Speed }\n",
    "INSERT {?this a brick:Motor_Speed_Sensor .}\n",
    "WHERE {\n",
    "?this a brick:Chilled_Water_Pump_VFD_Speed .\n",
    "}\n",
    "\"\"\"\n"
   ]
  },
  {
   "cell_type": "code",
   "execution_count": 639,
   "metadata": {},
   "outputs": [],
   "source": [
    "boiler_fix = \"\"\"\n",
    "PREFIX brick: <https://brickschema.org/schema/Brick#>\n",
    "PREFIX g36: <http://data.ashrae.org/standard223/1.0/extension/g36#>\n",
    "PREFIX s223: <http://data.ashrae.org/standard223#>\n",
    "PREFIX unit: <http://qudt.org/vocab/unit/>\n",
    "PREFIX quantitykind: <http://qudt.org/vocab/quantitykind/>\n",
    "PREFIX qudt: <http://qudt.org/schema/qudt/>\n",
    "PREFIX sh: <http://www.w3.org/ns/shacl#>\n",
    "PREFIX owl: <http://www.w3.org/2002/07/owl#>\n",
    "PREFIX rdf: <http://www.w3.org/1999/02/22-rdf-syntax-ns#>\n",
    "PREFIX rdfs: <http://www.w3.org/2000/01/rdf-schema#>\n",
    "PREFIX bldg: <http://buildsys.org/ontologies/bldg1>\n",
    "\n",
    "DELETE {?this a brick:Hot_Water_Supply_Flow_Sensor}\n",
    "INSERT {?this a brick:Hot_Water_Entering_Flow_Sensor ;\n",
    "    a brick:Point . }\n",
    "WHERE {\n",
    "?this a brick:Hot_Water_Supply_Flow_Sensor .\n",
    "}\n",
    "\"\"\"\n"
   ]
  },
  {
   "cell_type": "code",
   "execution_count": 628,
   "metadata": {},
   "outputs": [],
   "source": [
    "r_coil_fix = \"\"\"\n",
    "PREFIX brick: <https://brickschema.org/schema/Brick#>\n",
    "PREFIX g36: <http://data.ashrae.org/standard223/1.0/extension/g36#>\n",
    "PREFIX s223: <http://data.ashrae.org/standard223#>\n",
    "PREFIX unit: <http://qudt.org/vocab/unit/>\n",
    "PREFIX quantitykind: <http://qudt.org/vocab/quantitykind/>\n",
    "PREFIX qudt: <http://qudt.org/schema/qudt/>\n",
    "PREFIX sh: <http://www.w3.org/ns/shacl#>\n",
    "PREFIX owl: <http://www.w3.org/2002/07/owl#>\n",
    "PREFIX rdf: <http://www.w3.org/1999/02/22-rdf-syntax-ns#>\n",
    "PREFIX rdfs: <http://www.w3.org/2000/01/rdf-schema#>\n",
    "PREFIX bldg: <http://buildsys.org/ontologies/bldg1>\n",
    "\n",
    "DELETE { ?this a brick:Reheat_Coil .\n",
    "        ?vav brick:hasPart ?this .}\n",
    "INSERT { ?vav a brick:RVAV }\n",
    "WHERE {\n",
    "    ?this a brick:Reheat_Coil .\n",
    "    ?vav brick:hasPart ?this .\n",
    "    }\n",
    "\"\"\"\n",
    "\n",
    "#     Filter (?s = ?this) \n",
    "#     BIND (?this as ?s)\n",
    "#     }\n",
    "# UNION\n",
    "#     {\n",
    "#     ?this a brick:Reheat_Coil .\n",
    "#     ?vav brick:hasPart ?this .\n",
    "#     Filter (?o = ?this) \n",
    "#     BIND (?this as ?o)\n",
    "#     }\n",
    "# }\n",
    "# \"\"\"\n"
   ]
  },
  {
   "cell_type": "code",
   "execution_count": 544,
   "metadata": {},
   "outputs": [],
   "source": [
    "chwr_ts_fix = \"\"\"\n",
    "PREFIX brick: <https://brickschema.org/schema/Brick#>\n",
    "PREFIX g36: <http://data.ashrae.org/standard223/1.0/extension/g36#>\n",
    "PREFIX s223: <http://data.ashrae.org/standard223#>\n",
    "PREFIX unit: <http://qudt.org/vocab/unit/>\n",
    "PREFIX quantitykind: <http://qudt.org/vocab/quantitykind/>\n",
    "PREFIX qudt: <http://qudt.org/schema/qudt/>\n",
    "PREFIX sh: <http://www.w3.org/ns/shacl#>\n",
    "PREFIX owl: <http://www.w3.org/2002/07/owl#>\n",
    "PREFIX rdf: <http://www.w3.org/1999/02/22-rdf-syntax-ns#>\n",
    "PREFIX rdfs: <http://www.w3.org/2000/01/rdf-schema#>\n",
    "PREFIX bldg: <http://buildsys.org/ontologies/bldg1>\n",
    "\n",
    "DELETE {?this a brick:Min_Chilled_Water_Supply_Temperature_Setpoint}\n",
    "INSERT {?this a brick:Min_Water_Temperature_Setpoint ; \n",
    "            brick:ofSubstance brick:Leaving_Chilled_Water }\n",
    "WHERE {\n",
    "?this a brick:Min_Chilled_Water_Supply_Temperature_Setpoint\n",
    "}\n",
    "\"\"\"\n"
   ]
  },
  {
   "cell_type": "code",
   "execution_count": 545,
   "metadata": {},
   "outputs": [],
   "source": [
    "# ASSUMING EVERYTHING WITH RM, WITH NO DECLARED TYPE, IS A ZONE\n",
    "# FOR BLDG6 SPECIFICALLY\n",
    "bldg6_rm_fix = \"\"\"\n",
    "PREFIX brick: <https://brickschema.org/schema/Brick#>\n",
    "PREFIX g36: <http://data.ashrae.org/standard223/1.0/extension/g36#>\n",
    "PREFIX s223: <http://data.ashrae.org/standard223#>\n",
    "PREFIX unit: <http://qudt.org/vocab/unit/>\n",
    "PREFIX quantitykind: <http://qudt.org/vocab/quantitykind/>\n",
    "PREFIX qudt: <http://qudt.org/schema/qudt/>\n",
    "PREFIX sh: <http://www.w3.org/ns/shacl#>\n",
    "PREFIX owl: <http://www.w3.org/2002/07/owl#>\n",
    "PREFIX rdf: <http://www.w3.org/1999/02/22-rdf-syntax-ns#>\n",
    "PREFIX rdfs: <http://www.w3.org/2000/01/rdf-schema#>\n",
    "PREFIX bldg: <http://buildsys.org/ontologies/bldg1>\n",
    "\n",
    "DELETE {}\n",
    "INSERT {?this a brick:HVAC_Zone }\n",
    "WHERE {\n",
    "    ?this brick:hasPoint ?that .\n",
    "    FILTER REGEX (str(?this), \"VAVRM\") .\n",
    "    FILTER NOT EXISTS {\n",
    "        ?this a ?y .\n",
    "  }\n",
    "}\n",
    "\"\"\"\n"
   ]
  },
  {
   "cell_type": "code",
   "execution_count": 546,
   "metadata": {},
   "outputs": [],
   "source": [
    "chwsp_fix = \"\"\"\n",
    "PREFIX brick: <https://brickschema.org/schema/Brick#>\n",
    "PREFIX g36: <http://data.ashrae.org/standard223/1.0/extension/g36#>\n",
    "PREFIX s223: <http://data.ashrae.org/standard223#>\n",
    "PREFIX unit: <http://qudt.org/vocab/unit/>\n",
    "PREFIX quantitykind: <http://qudt.org/vocab/quantitykind/>\n",
    "PREFIX qudt: <http://qudt.org/schema/qudt/>\n",
    "PREFIX sh: <http://www.w3.org/ns/shacl#>\n",
    "PREFIX owl: <http://www.w3.org/2002/07/owl#>\n",
    "PREFIX rdf: <http://www.w3.org/1999/02/22-rdf-syntax-ns#>\n",
    "PREFIX rdfs: <http://www.w3.org/2000/01/rdf-schema#>\n",
    "PREFIX bldg: <http://buildsys.org/ontologies/bldg1>\n",
    "\n",
    "DELETE {?this a brick:Chilled_Water_Supply_Pressure}\n",
    "INSERT {?this a brick:Pressure_Sensor ;\n",
    "            brick:hasSubstance brick:Leaving_Chilled_Water}\n",
    "WHERE {\n",
    "    ?this a brick:Chilled_Water_Supply_Pressure\n",
    "}\n",
    "\"\"\"\n",
    "chwrt_fix = \"\"\"\n",
    "PREFIX brick: <https://brickschema.org/schema/Brick#>\n",
    "PREFIX g36: <http://data.ashrae.org/standard223/1.0/extension/g36#>\n",
    "PREFIX s223: <http://data.ashrae.org/standard223#>\n",
    "PREFIX unit: <http://qudt.org/vocab/unit/>\n",
    "PREFIX quantitykind: <http://qudt.org/vocab/quantitykind/>\n",
    "PREFIX qudt: <http://qudt.org/schema/qudt/>\n",
    "PREFIX sh: <http://www.w3.org/ns/shacl#>\n",
    "PREFIX owl: <http://www.w3.org/2002/07/owl#>\n",
    "PREFIX rdf: <http://www.w3.org/1999/02/22-rdf-syntax-ns#>\n",
    "PREFIX rdfs: <http://www.w3.org/2000/01/rdf-schema#>\n",
    "PREFIX bldg: <http://buildsys.org/ontologies/bldg1>\n",
    "\n",
    "DELETE {?this a brick:Chilled_Water_Return_Pressure}\n",
    "INSERT {?this a brick:Pressure_Sensor ;\n",
    "            brick:hasSubstance brick:Entering_Chilled_Water}\n",
    "WHERE {\n",
    "    ?this a brick:Chilled_Water_Return_Pressure\n",
    "}\n",
    "\"\"\"\n"
   ]
  },
  {
   "cell_type": "code",
   "execution_count": 547,
   "metadata": {},
   "outputs": [],
   "source": [
    "#bldg42: ASSUMING chilled water bypass valve refers to a bypass valve status\n",
    "#investigate this further\n",
    "bldg42_chwbp_fix = \"\"\"\n",
    "PREFIX brick: <https://brickschema.org/schema/Brick#>\n",
    "PREFIX g36: <http://data.ashrae.org/standard223/1.0/extension/g36#>\n",
    "PREFIX s223: <http://data.ashrae.org/standard223#>\n",
    "PREFIX unit: <http://qudt.org/vocab/unit/>\n",
    "PREFIX quantitykind: <http://qudt.org/vocab/quantitykind/>\n",
    "PREFIX qudt: <http://qudt.org/schema/qudt/>\n",
    "PREFIX sh: <http://www.w3.org/ns/shacl#>\n",
    "PREFIX owl: <http://www.w3.org/2002/07/owl#>\n",
    "PREFIX rdf: <http://www.w3.org/1999/02/22-rdf-syntax-ns#>\n",
    "PREFIX rdfs: <http://www.w3.org/2000/01/rdf-schema#>\n",
    "PREFIX bldg: <http://buildsys.org/ontologies/bldg42>\n",
    "\n",
    "DELETE {?this a brick:Chilled_Water_Bypass_Valve .\n",
    "        ?chiller brick:hasPoint ?this .}\n",
    "INSERT {?this a brick:Bypass_Valve ;\n",
    "            brick:hasSubstance brick:Chilled_Water;\n",
    "            brick:hasPoint bldg:BypassValveStatus .\n",
    "        bldg:BypassValveStatus a brick:Valve_Status .\n",
    "        ?chiller brick:hasPart ?this .}\n",
    "WHERE {\n",
    "    ?this a brick:Chilled_Water_Bypass_Valve.\n",
    "    ?chiller brick:hasPoint ?this .\n",
    "}\n",
    "\"\"\"\n"
   ]
  },
  {
   "cell_type": "code",
   "execution_count": 548,
   "metadata": {},
   "outputs": [],
   "source": [
    "oad_fix = \"\"\"\n",
    "PREFIX brick: <https://brickschema.org/schema/Brick#>\n",
    "PREFIX g36: <http://data.ashrae.org/standard223/1.0/extension/g36#>\n",
    "PREFIX s223: <http://data.ashrae.org/standard223#>\n",
    "PREFIX unit: <http://qudt.org/vocab/unit/>\n",
    "PREFIX quantitykind: <http://qudt.org/vocab/quantitykind/>\n",
    "PREFIX qudt: <http://qudt.org/schema/qudt/>\n",
    "PREFIX sh: <http://www.w3.org/ns/shacl#>\n",
    "PREFIX owl: <http://www.w3.org/2002/07/owl#>\n",
    "PREFIX rdf: <http://www.w3.org/1999/02/22-rdf-syntax-ns#>\n",
    "PREFIX rdfs: <http://www.w3.org/2000/01/rdf-schema#>\n",
    "PREFIX bldg: <http://buildsys.org/ontologies/bldg1>\n",
    "\n",
    "DELETE {?this a brick:Outside_Air_Damper_Command}\n",
    "INSERT {?this a brick:Damper_Command ;\n",
    "            brick:hasSubstance brick:Outside_Air}\n",
    "WHERE {\n",
    "    ?this a brick:Outside_Air_Damper_Command\n",
    "}\n",
    "\"\"\"\n"
   ]
  },
  {
   "cell_type": "code",
   "execution_count": 549,
   "metadata": {},
   "outputs": [],
   "source": [
    "# ASSUMING MODE MEANS MODE STATUS\n",
    "mode_fix = \"\"\"\n",
    "PREFIX brick: <https://brickschema.org/schema/Brick#>\n",
    "PREFIX g36: <http://data.ashrae.org/standard223/1.0/extension/g36#>\n",
    "PREFIX s223: <http://data.ashrae.org/standard223#>\n",
    "PREFIX unit: <http://qudt.org/vocab/unit/>\n",
    "PREFIX quantitykind: <http://qudt.org/vocab/quantitykind/>\n",
    "PREFIX qudt: <http://qudt.org/schema/qudt/>\n",
    "PREFIX sh: <http://www.w3.org/ns/shacl#>\n",
    "PREFIX owl: <http://www.w3.org/2002/07/owl#>\n",
    "PREFIX rdf: <http://www.w3.org/1999/02/22-rdf-syntax-ns#>\n",
    "PREFIX rdfs: <http://www.w3.org/2000/01/rdf-schema#>\n",
    "PREFIX bldg: <http://buildsys.org/ontologies/bldg1>\n",
    "\n",
    "DELETE {?this a brick:Mode}\n",
    "INSERT {?this a brick:Mode_Status}\n",
    "WHERE {\n",
    "    ?this a brick:Mode\n",
    "}\n",
    "\"\"\"\n"
   ]
  },
  {
   "cell_type": "code",
   "execution_count": 550,
   "metadata": {},
   "outputs": [],
   "source": [
    "deprecation_fix = \"\"\"\n",
    "PREFIX brick: <https://brickschema.org/schema/Brick#>\n",
    "PREFIX g36: <http://data.ashrae.org/standard223/1.0/extension/g36#>\n",
    "PREFIX s223: <http://data.ashrae.org/standard223#>\n",
    "PREFIX unit: <http://qudt.org/vocab/unit/>\n",
    "PREFIX quantitykind: <http://qudt.org/vocab/quantitykind/>\n",
    "PREFIX qudt: <http://qudt.org/schema/qudt/>\n",
    "PREFIX sh: <http://www.w3.org/ns/shacl#>\n",
    "PREFIX owl: <http://www.w3.org/2002/07/owl#>\n",
    "PREFIX rdf: <http://www.w3.org/1999/02/22-rdf-syntax-ns#>\n",
    "PREFIX rdfs: <http://www.w3.org/2000/01/rdf-schema#>\n",
    "PREFIX bldg: <http://buildsys.org/ontologies/bldg1>\n",
    "\n",
    "DELETE {?this a ?class}\n",
    "INSERT {?this a ?newClass}\n",
    "WHERE {\n",
    "?this a ?class .\n",
    "?class owl:deprecated true .\n",
    "?class brick:deprecatedInVersion ?depver .\n",
    "?class brick:isReplacedBy ?newClass .\n",
    "}\n",
    "\"\"\"\n"
   ]
  },
  {
   "cell_type": "code",
   "execution_count": 551,
   "metadata": {},
   "outputs": [],
   "source": [
    "#\n",
    "ft2_fix = \"\"\"\n",
    "PREFIX brick: <https://brickschema.org/schema/Brick#>\n",
    "PREFIX g36: <http://data.ashrae.org/standard223/1.0/extension/g36#>\n",
    "PREFIX s223: <http://data.ashrae.org/standard223#>\n",
    "PREFIX unit: <http://qudt.org/vocab/unit/>\n",
    "PREFIX quantitykind: <http://qudt.org/vocab/quantitykind/>\n",
    "PREFIX qudt: <http://qudt.org/schema/qudt/>\n",
    "PREFIX sh: <http://www.w3.org/ns/shacl#>\n",
    "PREFIX owl: <http://www.w3.org/2002/07/owl#>\n",
    "PREFIX rdf: <http://www.w3.org/1999/02/22-rdf-syntax-ns#>\n",
    "PREFIX rdfs: <http://www.w3.org/2000/01/rdf-schema#>\n",
    "PREFIX bldg: <http://buildsys.org/ontologies/bldg1>\n",
    "\n",
    "DELETE {?this brick:hasUnits unit:FT_2}\n",
    "INSERT {?this brick:hasUnit unit:FT2}\n",
    "WHERE {\n",
    "?this brick:hasUnits unit:FT_2\n",
    "}\n",
    "\"\"\"\n"
   ]
  },
  {
   "cell_type": "code",
   "execution_count": 552,
   "metadata": {},
   "outputs": [],
   "source": [
    "chwv_fix = \"\"\"\n",
    "PREFIX brick: <https://brickschema.org/schema/Brick#>\n",
    "PREFIX g36: <http://data.ashrae.org/standard223/1.0/extension/g36#>\n",
    "PREFIX s223: <http://data.ashrae.org/standard223#>\n",
    "PREFIX unit: <http://qudt.org/vocab/unit/>\n",
    "PREFIX quantitykind: <http://qudt.org/vocab/quantitykind/>\n",
    "PREFIX qudt: <http://qudt.org/schema/qudt/>\n",
    "PREFIX sh: <http://www.w3.org/ns/shacl#>\n",
    "PREFIX owl: <http://www.w3.org/2002/07/owl#>\n",
    "PREFIX rdf: <http://www.w3.org/1999/02/22-rdf-syntax-ns#>\n",
    "PREFIX rdfs: <http://www.w3.org/2000/01/rdf-schema#>\n",
    "PREFIX bldg: <http://buildsys.org/ontologies/bldg1>\n",
    "\n",
    "DELETE {?this a brick:Chilled_Water_Valve_Command }\n",
    "INSERT {?this a brick:Valve_Command ;\n",
    "                brick:hasSubstance brick:Chilled_Water }\n",
    "WHERE {\n",
    "?this a brick:Chilled_Water_Valve_Command\n",
    "}\n",
    "\"\"\"\n"
   ]
  },
  {
   "cell_type": "code",
   "execution_count": 553,
   "metadata": {},
   "outputs": [],
   "source": [
    "hwv_fix = \"\"\"\n",
    "PREFIX brick: <https://brickschema.org/schema/Brick#>\n",
    "PREFIX g36: <http://data.ashrae.org/standard223/1.0/extension/g36#>\n",
    "PREFIX s223: <http://data.ashrae.org/standard223#>\n",
    "PREFIX unit: <http://qudt.org/vocab/unit/>\n",
    "PREFIX quantitykind: <http://qudt.org/vocab/quantitykind/>\n",
    "PREFIX qudt: <http://qudt.org/schema/qudt/>\n",
    "PREFIX sh: <http://www.w3.org/ns/shacl#>\n",
    "PREFIX owl: <http://www.w3.org/2002/07/owl#>\n",
    "PREFIX rdf: <http://www.w3.org/1999/02/22-rdf-syntax-ns#>\n",
    "PREFIX rdfs: <http://www.w3.org/2000/01/rdf-schema#>\n",
    "PREFIX bldg: <http://buildsys.org/ontologies/bldg1>\n",
    "\n",
    "DELETE {?this a brick:Hot_Water_Valve_Command }\n",
    "INSERT {?this a brick:Valve_Command ;\n",
    "                brick:hasSubstance brick:Hot_Water }\n",
    "WHERE {\n",
    "?this a brick:Hot_Water_Valve_Command\n",
    "}\n",
    "\"\"\"\n"
   ]
  },
  {
   "cell_type": "code",
   "execution_count": 554,
   "metadata": {},
   "outputs": [],
   "source": [
    "# ASSUMING that flow refers to a Sensor\n",
    "bldg4_supflow_fix = \"\"\"\n",
    "PREFIX brick: <https://brickschema.org/schema/Brick#>\n",
    "PREFIX g36: <http://data.ashrae.org/standard223/1.0/extension/g36#>\n",
    "PREFIX s223: <http://data.ashrae.org/standard223#>\n",
    "PREFIX unit: <http://qudt.org/vocab/unit/>\n",
    "PREFIX quantitykind: <http://qudt.org/vocab/quantitykind/>\n",
    "PREFIX qudt: <http://qudt.org/schema/qudt/>\n",
    "PREFIX sh: <http://www.w3.org/ns/shacl#>\n",
    "PREFIX owl: <http://www.w3.org/2002/07/owl#>\n",
    "PREFIX rdf: <http://www.w3.org/1999/02/22-rdf-syntax-ns#>\n",
    "PREFIX rdfs: <http://www.w3.org/2000/01/rdf-schema#>\n",
    "PREFIX bldg: <http://buildsys.org/ontologies/bldg1>\n",
    "\n",
    "DELETE {?this a brick:Supply_Air_flow }\n",
    "INSERT {?this a brick:Supply_Air_Flow_Sensor}\n",
    "WHERE {\n",
    "?this a brick:Supply_Air_flow\n",
    "}\n",
    "\"\"\"\n"
   ]
  },
  {
   "cell_type": "code",
   "execution_count": 555,
   "metadata": {},
   "outputs": [],
   "source": [
    "chws_fix = \"\"\"\n",
    "PREFIX brick: <https://brickschema.org/schema/Brick#>\n",
    "PREFIX g36: <http://data.ashrae.org/standard223/1.0/extension/g36#>\n",
    "PREFIX s223: <http://data.ashrae.org/standard223#>\n",
    "PREFIX unit: <http://qudt.org/vocab/unit/>\n",
    "PREFIX quantitykind: <http://qudt.org/vocab/quantitykind/>\n",
    "PREFIX qudt: <http://qudt.org/schema/qudt/>\n",
    "PREFIX sh: <http://www.w3.org/ns/shacl#>\n",
    "PREFIX owl: <http://www.w3.org/2002/07/owl#>\n",
    "PREFIX rdf: <http://www.w3.org/1999/02/22-rdf-syntax-ns#>\n",
    "PREFIX rdfs: <http://www.w3.org/2000/01/rdf-schema#>\n",
    "PREFIX bldg: <http://buildsys.org/ontologies/bldg1>\n",
    "\n",
    "DELETE {?this a brick:Chilled_Water_Supply_Temperature_Setpoint}\n",
    "INSERT {?this a brick:Supply_Chilled_Water_Temperature_Setpoint }\n",
    "WHERE {\n",
    "?this a brick:Chilled_Water_Supply_Temperature_Setpoint\n",
    "}\n",
    "\"\"\"\n"
   ]
  },
  {
   "cell_type": "code",
   "execution_count": 556,
   "metadata": {},
   "outputs": [],
   "source": [
    "chwr_fix = \"\"\"\n",
    "PREFIX brick: <https://brickschema.org/schema/Brick#>\n",
    "PREFIX g36: <http://data.ashrae.org/standard223/1.0/extension/g36#>\n",
    "PREFIX s223: <http://data.ashrae.org/standard223#>\n",
    "PREFIX unit: <http://qudt.org/vocab/unit/>\n",
    "PREFIX quantitykind: <http://qudt.org/vocab/quantitykind/>\n",
    "PREFIX qudt: <http://qudt.org/schema/qudt/>\n",
    "PREFIX sh: <http://www.w3.org/ns/shacl#>\n",
    "PREFIX owl: <http://www.w3.org/2002/07/owl#>\n",
    "PREFIX rdf: <http://www.w3.org/1999/02/22-rdf-syntax-ns#>\n",
    "PREFIX rdfs: <http://www.w3.org/2000/01/rdf-schema#>\n",
    "PREFIX bldg: <http://buildsys.org/ontologies/bldg1>\n",
    "\n",
    "DELETE {?this a brick:Chilled_Water_Return_Temperature_Setpoint}\n",
    "INSERT {?this a brick:Return_Chilled_Water_Temperature_Setpoint }\n",
    "WHERE {\n",
    "?this a brick:Chilled_Water_Return_Temperature_Setpoint\n",
    "}\n",
    "\"\"\"\n"
   ]
  },
  {
   "cell_type": "code",
   "execution_count": null,
   "metadata": {},
   "outputs": [],
   "source": [
    "meters_fix = \"\"\"\n",
    "PREFIX brick: <https://brickschema.org/schema/Brick#>\n",
    "PREFIX g36: <http://data.ashrae.org/standard223/1.0/extension/g36#>\n",
    "PREFIX s223: <http://data.ashrae.org/standard223#>\n",
    "PREFIX unit: <http://qudt.org/vocab/unit/>\n",
    "PREFIX quantitykind: <http://qudt.org/vocab/quantitykind/>\n",
    "PREFIX qudt: <http://qudt.org/schema/qudt/>\n",
    "PREFIX sh: <http://www.w3.org/ns/shacl#>\n",
    "PREFIX owl: <http://www.w3.org/2002/07/owl#>\n",
    "PREFIX rdf: <http://www.w3.org/1999/02/22-rdf-syntax-ns#>\n",
    "PREFIX rdfs: <http://www.w3.org/2000/01/rdf-schema#>\n",
    "PREFIX bldg: <http://buildsys.org/ontologies/bldg1>\n",
    "\n",
    "DELETE {?meter brick:isPointOf ?this}\n",
    "INSERT {?meter brick:meters ?this }\n",
    "WHERE {\n",
    "?meter a brick:Electrical_Meter ;\n",
    "    brick:isPointOf ?this .\n",
    "}\n",
    "\"\"\"\n"
   ]
  },
  {
   "cell_type": "code",
   "execution_count": null,
   "metadata": {},
   "outputs": [],
   "source": [
    "electricalmeter_fix = \"\"\"\n",
    "PREFIX brick: <https://brickschema.org/schema/Brick#>\n",
    "PREFIX g36: <http://data.ashrae.org/standard223/1.0/extension/g36#>\n",
    "PREFIX s223: <http://data.ashrae.org/standard223#>\n",
    "PREFIX unit: <http://qudt.org/vocab/unit/>\n",
    "PREFIX quantitykind: <http://qudt.org/vocab/quantitykind/>\n",
    "PREFIX qudt: <http://qudt.org/schema/qudt/>\n",
    "PREFIX sh: <http://www.w3.org/ns/shacl#>\n",
    "PREFIX owl: <http://www.w3.org/2002/07/owl#>\n",
    "PREFIX rdf: <http://www.w3.org/1999/02/22-rdf-syntax-ns#>\n",
    "PREFIX rdfs: <http://www.w3.org/2000/01/rdf-schema#>\n",
    "PREFIX bldg: <http://buildsys.org/ontologies/bldg1>\n",
    "\n",
    "DELETE {?meter a brick:Electric_Meter }\n",
    "INSERT {?meter a brick:Electrical_Meter  }\n",
    "WHERE {\n",
    "?meter a brick:Electric_Meter \n",
    "}\n",
    "\"\"\"\n"
   ]
  },
  {
   "attachments": {},
   "cell_type": "markdown",
   "metadata": {},
   "source": [
    "# Correcting All the Buildings"
   ]
  },
  {
   "cell_type": "code",
   "execution_count": 681,
   "metadata": {},
   "outputs": [],
   "source": [
    "# Deprecation query should come last\n",
    "other_query_list = [heating_demand_fix, bldg42_chwbp_fix, ent_p_sens_fix, lev_p_sens_fix,\n",
    "                    chwr_ts_fix, r_coil_fix, boiler_fix, bldg26_pump_fix, cooling_pct_fix, cooling_demand_fix,\n",
    "                    chwsp_fix, chwrt_fix, oad_fix, mode_fix, chwv_fix, ft2_fix, bldg4_supflow_fix,\n",
    "                    hwv_fix, chws_fix, chwr_fix, meters_fix, electricalmeter_fix, meters_fix, deprecation_fix]\n"
   ]
  },
  {
   "cell_type": "code",
   "execution_count": 694,
   "metadata": {},
   "outputs": [
    {
     "data": {
      "text/plain": [
       "<Graph identifier=N1dad9cfd0a9b477a86d41a3b617a5f6b (<class 'brickschema.graph.Graph'>)>"
      ]
     },
     "execution_count": 694,
     "metadata": {},
     "output_type": "execute_result"
    }
   ],
   "source": [
    "bv.graph.update(bldg43_add_chiller_fix)\n",
    "bv.graph.serialize('temp.ttl')"
   ]
  },
  {
   "cell_type": "code",
   "execution_count": 700,
   "metadata": {},
   "outputs": [
    {
     "name": "stdout",
     "output_type": "stream",
     "text": [
      "bldg5.ttl\n",
      "Graph <graphs/bldg30.ttl> is valid? True\n",
      "Graph is valid\n",
      "bldg4.ttl\n",
      "Graph <graphs/bldg30.ttl> is valid? True\n",
      "Graph is valid\n",
      "bldg6.ttl\n",
      "Graph <graphs/bldg30.ttl> is valid? True\n",
      "Graph is valid\n",
      "bldg44.ttl\n",
      "Graph <graphs/bldg30.ttl> is valid? True\n",
      "Graph is valid\n",
      "bldg7.ttl\n"
     ]
    },
    {
     "ename": "KeyboardInterrupt",
     "evalue": "",
     "output_type": "error",
     "traceback": [
      "\u001b[0;31m---------------------------------------------------------------------------\u001b[0m",
      "\u001b[0;31mKeyboardInterrupt\u001b[0m                         Traceback (most recent call last)",
      "Cell \u001b[0;32mIn[700], line 18\u001b[0m\n\u001b[1;32m     16\u001b[0m \u001b[39mif\u001b[39;00m file \u001b[39m==\u001b[39m \u001b[39m'\u001b[39m\u001b[39mbldg43.ttl\u001b[39m\u001b[39m'\u001b[39m:\n\u001b[1;32m     17\u001b[0m     bv\u001b[39m.\u001b[39mgraph\u001b[39m.\u001b[39mupdate(bldg43_add_chiller_fix)\n\u001b[0;32m---> 18\u001b[0m valid, report_graph \u001b[39m=\u001b[39m bv\u001b[39m.\u001b[39;49mvalidate()\n\u001b[1;32m     19\u001b[0m \u001b[39mif\u001b[39;00m valid:\n\u001b[1;32m     20\u001b[0m     \u001b[39mprint\u001b[39m(\u001b[39m\"\u001b[39m\u001b[39mGraph is valid\u001b[39m\u001b[39m\"\u001b[39m)\n",
      "Cell \u001b[0;32mIn[473], line 19\u001b[0m, in \u001b[0;36mBasicValidationInterface.validate\u001b[0;34m(self)\u001b[0m\n\u001b[1;32m     18\u001b[0m \u001b[39mdef\u001b[39;00m \u001b[39mvalidate\u001b[39m(\u001b[39mself\u001b[39m):\n\u001b[0;32m---> 19\u001b[0m     valid, report_graph, report \u001b[39m=\u001b[39m \u001b[39mself\u001b[39;49m\u001b[39m.\u001b[39;49mgraph\u001b[39m.\u001b[39;49mvalidate()\n\u001b[1;32m     20\u001b[0m     \u001b[39mprint\u001b[39m(\u001b[39mf\u001b[39m\u001b[39m\"\u001b[39m\u001b[39mGraph <\u001b[39m\u001b[39m{\u001b[39;00m\u001b[39mself\u001b[39m\u001b[39m.\u001b[39mgraph_path\u001b[39m}\u001b[39;00m\u001b[39m> is valid? \u001b[39m\u001b[39m{\u001b[39;00mvalid\u001b[39m}\u001b[39;00m\u001b[39m\"\u001b[39m)\n\u001b[1;32m     21\u001b[0m     \u001b[39mif\u001b[39;00m \u001b[39mnot\u001b[39;00m valid:\n",
      "File \u001b[0;32m~/opt/anaconda3/lib/python3.8/site-packages/brickschema/graph.py:116\u001b[0m, in \u001b[0;36mBrickBase.validate\u001b[0;34m(self, shape_graphs, default_brick_shapes)\u001b[0m\n\u001b[1;32m    114\u001b[0m     \u001b[39mfor\u001b[39;00m sg \u001b[39min\u001b[39;00m shape_graphs:\n\u001b[1;32m    115\u001b[0m         shapes \u001b[39m+\u001b[39m\u001b[39m=\u001b[39m sg\n\u001b[0;32m--> 116\u001b[0m \u001b[39mreturn\u001b[39;00m pyshacl\u001b[39m.\u001b[39;49mvalidate(\n\u001b[1;32m    117\u001b[0m     \u001b[39mself\u001b[39;49m,\n\u001b[1;32m    118\u001b[0m     shacl_graph\u001b[39m=\u001b[39;49mshapes,\n\u001b[1;32m    119\u001b[0m     ont_graph\u001b[39m=\u001b[39;49mshapes,\n\u001b[1;32m    120\u001b[0m     advanced\u001b[39m=\u001b[39;49m\u001b[39mTrue\u001b[39;49;00m,\n\u001b[1;32m    121\u001b[0m     abort_on_first\u001b[39m=\u001b[39;49m\u001b[39mTrue\u001b[39;49;00m,\n\u001b[1;32m    122\u001b[0m     allow_warnings\u001b[39m=\u001b[39;49m\u001b[39mTrue\u001b[39;49;00m,\n\u001b[1;32m    123\u001b[0m )\n",
      "File \u001b[0;32m~/opt/anaconda3/lib/python3.8/site-packages/pyshacl/validate.py:435\u001b[0m, in \u001b[0;36mvalidate\u001b[0;34m(data_graph, shacl_graph, ont_graph, advanced, inference, inplace, abort_on_first, allow_infos, allow_warnings, *args, **kwargs)\u001b[0m\n\u001b[1;32m    418\u001b[0m \u001b[39mtry\u001b[39;00m:\n\u001b[1;32m    419\u001b[0m     validator \u001b[39m=\u001b[39m Validator(\n\u001b[1;32m    420\u001b[0m         loaded_dg,\n\u001b[1;32m    421\u001b[0m         shacl_graph\u001b[39m=\u001b[39mloaded_sg,\n\u001b[0;32m   (...)\u001b[0m\n\u001b[1;32m    433\u001b[0m         },\n\u001b[1;32m    434\u001b[0m     )\n\u001b[0;32m--> 435\u001b[0m     conforms, report_graph, report_text \u001b[39m=\u001b[39m validator\u001b[39m.\u001b[39;49mrun()\n\u001b[1;32m    436\u001b[0m \u001b[39mexcept\u001b[39;00m ValidationFailure \u001b[39mas\u001b[39;00m e:\n\u001b[1;32m    437\u001b[0m     conforms \u001b[39m=\u001b[39m \u001b[39mFalse\u001b[39;00m\n",
      "File \u001b[0;32m~/opt/anaconda3/lib/python3.8/site-packages/pyshacl/validate.py:262\u001b[0m, in \u001b[0;36mValidator.run\u001b[0;34m(self)\u001b[0m\n\u001b[1;32m    260\u001b[0m \u001b[39mif\u001b[39;00m advanced:\n\u001b[1;32m    261\u001b[0m     apply_functions(advanced[\u001b[39m'\u001b[39m\u001b[39mfunctions\u001b[39m\u001b[39m'\u001b[39m], g)\n\u001b[0;32m--> 262\u001b[0m     apply_rules(advanced[\u001b[39m'\u001b[39;49m\u001b[39mrules\u001b[39;49m\u001b[39m'\u001b[39;49m], g, iterate\u001b[39m=\u001b[39;49miterate_rules)\n\u001b[1;32m    263\u001b[0m \u001b[39mtry\u001b[39;00m:\n\u001b[1;32m    264\u001b[0m     \u001b[39mfor\u001b[39;00m s \u001b[39min\u001b[39;00m shapes:\n",
      "File \u001b[0;32m~/opt/anaconda3/lib/python3.8/site-packages/pyshacl/rules/__init__.py:96\u001b[0m, in \u001b[0;36mapply_rules\u001b[0;34m(shapes_rules, data_graph, iterate)\u001b[0m\n\u001b[1;32m     94\u001b[0m     \u001b[39mif\u001b[39;00m r\u001b[39m.\u001b[39mdeactivated:\n\u001b[1;32m     95\u001b[0m         \u001b[39mcontinue\u001b[39;00m\n\u001b[0;32m---> 96\u001b[0m     n_modified \u001b[39m=\u001b[39m r\u001b[39m.\u001b[39;49mapply(data_graph)\n\u001b[1;32m     97\u001b[0m     this_modified \u001b[39m+\u001b[39m\u001b[39m=\u001b[39m n_modified\n\u001b[1;32m     98\u001b[0m \u001b[39mif\u001b[39;00m this_modified \u001b[39m>\u001b[39m \u001b[39m0\u001b[39m:\n",
      "File \u001b[0;32m~/opt/anaconda3/lib/python3.8/site-packages/pyshacl/rules/sparql/__init__.py:72\u001b[0m, in \u001b[0;36mSPARQLRule.apply\u001b[0;34m(self, data_graph)\u001b[0m\n\u001b[1;32m     70\u001b[0m     init_bindings[\u001b[39m'\u001b[39m\u001b[39mthis\u001b[39m\u001b[39m'\u001b[39m] \u001b[39m=\u001b[39m a\n\u001b[1;32m     71\u001b[0m c \u001b[39m=\u001b[39m \u001b[39mself\u001b[39m\u001b[39m.\u001b[39m_qh\u001b[39m.\u001b[39mapply_prefixes(c)\n\u001b[0;32m---> 72\u001b[0m results \u001b[39m=\u001b[39m data_graph\u001b[39m.\u001b[39;49mquery(c, initBindings\u001b[39m=\u001b[39;49minit_bindings)\n\u001b[1;32m     73\u001b[0m \u001b[39mif\u001b[39;00m results\u001b[39m.\u001b[39mtype \u001b[39m!=\u001b[39m \u001b[39m\"\u001b[39m\u001b[39mCONSTRUCT\u001b[39m\u001b[39m\"\u001b[39m:\n\u001b[1;32m     74\u001b[0m     \u001b[39mraise\u001b[39;00m ReportableRuntimeError(\u001b[39m\"\u001b[39m\u001b[39mQuery executed by a SHACL SPARQLRule must be CONSTRUCT query.\u001b[39m\u001b[39m\"\u001b[39m)\n",
      "File \u001b[0;32m~/opt/anaconda3/lib/python3.8/site-packages/rdflib/graph.py:1326\u001b[0m, in \u001b[0;36mGraph.query\u001b[0;34m(self, query_object, processor, result, initNs, initBindings, use_store_provided, **kwargs)\u001b[0m\n\u001b[1;32m   1323\u001b[0m \u001b[39mif\u001b[39;00m \u001b[39mnot\u001b[39;00m \u001b[39misinstance\u001b[39m(processor, query\u001b[39m.\u001b[39mProcessor):\n\u001b[1;32m   1324\u001b[0m     processor \u001b[39m=\u001b[39m plugin\u001b[39m.\u001b[39mget(processor, query\u001b[39m.\u001b[39mProcessor)(\u001b[39mself\u001b[39m)\n\u001b[0;32m-> 1326\u001b[0m \u001b[39mreturn\u001b[39;00m result(processor\u001b[39m.\u001b[39;49mquery(query_object, initBindings, initNs, \u001b[39m*\u001b[39;49m\u001b[39m*\u001b[39;49mkwargs))\n",
      "File \u001b[0;32m~/opt/anaconda3/lib/python3.8/site-packages/rdflib/plugins/sparql/processor.py:71\u001b[0m, in \u001b[0;36mSPARQLProcessor.query\u001b[0;34m(self, strOrQuery, initBindings, initNs, base, DEBUG)\u001b[0m\n\u001b[1;32m     64\u001b[0m \u001b[39m\u001b[39m\u001b[39m\"\"\"\u001b[39;00m\n\u001b[1;32m     65\u001b[0m \u001b[39mEvaluate a query with the given initial bindings, and initial\u001b[39;00m\n\u001b[1;32m     66\u001b[0m \u001b[39mnamespaces. The given base is used to resolve relative URIs in\u001b[39;00m\n\u001b[1;32m     67\u001b[0m \u001b[39mthe query and will be overridden by any BASE given in the query.\u001b[39;00m\n\u001b[1;32m     68\u001b[0m \u001b[39m\"\"\"\u001b[39;00m\n\u001b[1;32m     70\u001b[0m \u001b[39mif\u001b[39;00m \u001b[39mnot\u001b[39;00m \u001b[39misinstance\u001b[39m(strOrQuery, Query):\n\u001b[0;32m---> 71\u001b[0m     parsetree \u001b[39m=\u001b[39m parseQuery(strOrQuery)\n\u001b[1;32m     72\u001b[0m     query \u001b[39m=\u001b[39m translateQuery(parsetree, base, initNs)\n\u001b[1;32m     73\u001b[0m \u001b[39melse\u001b[39;00m:\n",
      "File \u001b[0;32m~/opt/anaconda3/lib/python3.8/site-packages/rdflib/plugins/sparql/parser.py:1544\u001b[0m, in \u001b[0;36mparseQuery\u001b[0;34m(q)\u001b[0m\n\u001b[1;32m   1541\u001b[0m     q \u001b[39m=\u001b[39m q\u001b[39m.\u001b[39mdecode(\u001b[39m\"\u001b[39m\u001b[39mutf-8\u001b[39m\u001b[39m\"\u001b[39m)\n\u001b[1;32m   1543\u001b[0m q \u001b[39m=\u001b[39m expandUnicodeEscapes(q)\n\u001b[0;32m-> 1544\u001b[0m \u001b[39mreturn\u001b[39;00m Query\u001b[39m.\u001b[39;49mparseString(q, parseAll\u001b[39m=\u001b[39;49m\u001b[39mTrue\u001b[39;49;00m)\n",
      "File \u001b[0;32m~/opt/anaconda3/lib/python3.8/site-packages/pyparsing.py:1943\u001b[0m, in \u001b[0;36mParserElement.parseString\u001b[0;34m(self, instring, parseAll)\u001b[0m\n\u001b[1;32m   1941\u001b[0m     instring \u001b[39m=\u001b[39m instring\u001b[39m.\u001b[39mexpandtabs()\n\u001b[1;32m   1942\u001b[0m \u001b[39mtry\u001b[39;00m:\n\u001b[0;32m-> 1943\u001b[0m     loc, tokens \u001b[39m=\u001b[39m \u001b[39mself\u001b[39;49m\u001b[39m.\u001b[39;49m_parse(instring, \u001b[39m0\u001b[39;49m)\n\u001b[1;32m   1944\u001b[0m     \u001b[39mif\u001b[39;00m parseAll:\n\u001b[1;32m   1945\u001b[0m         loc \u001b[39m=\u001b[39m \u001b[39mself\u001b[39m\u001b[39m.\u001b[39mpreParse(instring, loc)\n",
      "File \u001b[0;32m~/opt/anaconda3/lib/python3.8/site-packages/pyparsing.py:1683\u001b[0m, in \u001b[0;36mParserElement._parseNoCache\u001b[0;34m(self, instring, loc, doActions, callPreParse)\u001b[0m\n\u001b[1;32m   1681\u001b[0m \u001b[39mif\u001b[39;00m \u001b[39mself\u001b[39m\u001b[39m.\u001b[39mmayIndexError \u001b[39mor\u001b[39;00m preloc \u001b[39m>\u001b[39m\u001b[39m=\u001b[39m \u001b[39mlen\u001b[39m(instring):\n\u001b[1;32m   1682\u001b[0m     \u001b[39mtry\u001b[39;00m:\n\u001b[0;32m-> 1683\u001b[0m         loc, tokens \u001b[39m=\u001b[39m \u001b[39mself\u001b[39;49m\u001b[39m.\u001b[39;49mparseImpl(instring, preloc, doActions)\n\u001b[1;32m   1684\u001b[0m     \u001b[39mexcept\u001b[39;00m \u001b[39mIndexError\u001b[39;00m:\n\u001b[1;32m   1685\u001b[0m         \u001b[39mraise\u001b[39;00m ParseException(instring, \u001b[39mlen\u001b[39m(instring), \u001b[39mself\u001b[39m\u001b[39m.\u001b[39merrmsg, \u001b[39mself\u001b[39m)\n",
      "File \u001b[0;32m~/opt/anaconda3/lib/python3.8/site-packages/pyparsing.py:4069\u001b[0m, in \u001b[0;36mAnd.parseImpl\u001b[0;34m(self, instring, loc, doActions)\u001b[0m\n\u001b[1;32m   4067\u001b[0m         \u001b[39mraise\u001b[39;00m ParseSyntaxException(instring, \u001b[39mlen\u001b[39m(instring), \u001b[39mself\u001b[39m\u001b[39m.\u001b[39merrmsg, \u001b[39mself\u001b[39m)\n\u001b[1;32m   4068\u001b[0m \u001b[39melse\u001b[39;00m:\n\u001b[0;32m-> 4069\u001b[0m     loc, exprtokens \u001b[39m=\u001b[39m e\u001b[39m.\u001b[39;49m_parse(instring, loc, doActions)\n\u001b[1;32m   4070\u001b[0m \u001b[39mif\u001b[39;00m exprtokens \u001b[39mor\u001b[39;00m exprtokens\u001b[39m.\u001b[39mhaskeys():\n\u001b[1;32m   4071\u001b[0m     resultlist \u001b[39m+\u001b[39m\u001b[39m=\u001b[39m exprtokens\n",
      "File \u001b[0;32m~/opt/anaconda3/lib/python3.8/site-packages/pyparsing.py:1683\u001b[0m, in \u001b[0;36mParserElement._parseNoCache\u001b[0;34m(self, instring, loc, doActions, callPreParse)\u001b[0m\n\u001b[1;32m   1681\u001b[0m \u001b[39mif\u001b[39;00m \u001b[39mself\u001b[39m\u001b[39m.\u001b[39mmayIndexError \u001b[39mor\u001b[39;00m preloc \u001b[39m>\u001b[39m\u001b[39m=\u001b[39m \u001b[39mlen\u001b[39m(instring):\n\u001b[1;32m   1682\u001b[0m     \u001b[39mtry\u001b[39;00m:\n\u001b[0;32m-> 1683\u001b[0m         loc, tokens \u001b[39m=\u001b[39m \u001b[39mself\u001b[39;49m\u001b[39m.\u001b[39;49mparseImpl(instring, preloc, doActions)\n\u001b[1;32m   1684\u001b[0m     \u001b[39mexcept\u001b[39;00m \u001b[39mIndexError\u001b[39;00m:\n\u001b[1;32m   1685\u001b[0m         \u001b[39mraise\u001b[39;00m ParseException(instring, \u001b[39mlen\u001b[39m(instring), \u001b[39mself\u001b[39m\u001b[39m.\u001b[39merrmsg, \u001b[39mself\u001b[39m)\n",
      "File \u001b[0;32m~/opt/anaconda3/lib/python3.8/site-packages/pyparsing.py:4254\u001b[0m, in \u001b[0;36mMatchFirst.parseImpl\u001b[0;34m(self, instring, loc, doActions)\u001b[0m\n\u001b[1;32m   4252\u001b[0m \u001b[39mfor\u001b[39;00m e \u001b[39min\u001b[39;00m \u001b[39mself\u001b[39m\u001b[39m.\u001b[39mexprs:\n\u001b[1;32m   4253\u001b[0m     \u001b[39mtry\u001b[39;00m:\n\u001b[0;32m-> 4254\u001b[0m         ret \u001b[39m=\u001b[39m e\u001b[39m.\u001b[39;49m_parse(instring, loc, doActions)\n\u001b[1;32m   4255\u001b[0m         \u001b[39mreturn\u001b[39;00m ret\n\u001b[1;32m   4256\u001b[0m     \u001b[39mexcept\u001b[39;00m ParseException \u001b[39mas\u001b[39;00m err:\n",
      "    \u001b[0;31m[... skipping similar frames: ParserElement._parseNoCache at line 1683 (1 times)]\u001b[0m\n",
      "File \u001b[0;32m~/opt/anaconda3/lib/python3.8/site-packages/pyparsing.py:4462\u001b[0m, in \u001b[0;36mParseElementEnhance.parseImpl\u001b[0;34m(self, instring, loc, doActions)\u001b[0m\n\u001b[1;32m   4460\u001b[0m \u001b[39mdef\u001b[39;00m \u001b[39mparseImpl\u001b[39m(\u001b[39mself\u001b[39m, instring, loc, doActions\u001b[39m=\u001b[39m\u001b[39mTrue\u001b[39;00m):\n\u001b[1;32m   4461\u001b[0m     \u001b[39mif\u001b[39;00m \u001b[39mself\u001b[39m\u001b[39m.\u001b[39mexpr \u001b[39mis\u001b[39;00m \u001b[39mnot\u001b[39;00m \u001b[39mNone\u001b[39;00m:\n\u001b[0;32m-> 4462\u001b[0m         \u001b[39mreturn\u001b[39;00m \u001b[39mself\u001b[39;49m\u001b[39m.\u001b[39;49mexpr\u001b[39m.\u001b[39;49m_parse(instring, loc, doActions, callPreParse\u001b[39m=\u001b[39;49m\u001b[39mFalse\u001b[39;49;00m)\n\u001b[1;32m   4463\u001b[0m     \u001b[39melse\u001b[39;00m:\n\u001b[1;32m   4464\u001b[0m         \u001b[39mraise\u001b[39;00m ParseException(\u001b[39m\"\u001b[39m\u001b[39m\"\u001b[39m, loc, \u001b[39mself\u001b[39m\u001b[39m.\u001b[39merrmsg, \u001b[39mself\u001b[39m)\n",
      "    \u001b[0;31m[... skipping similar frames: ParserElement._parseNoCache at line 1683 (1 times)]\u001b[0m\n",
      "File \u001b[0;32m~/opt/anaconda3/lib/python3.8/site-packages/pyparsing.py:4069\u001b[0m, in \u001b[0;36mAnd.parseImpl\u001b[0;34m(self, instring, loc, doActions)\u001b[0m\n\u001b[1;32m   4067\u001b[0m         \u001b[39mraise\u001b[39;00m ParseSyntaxException(instring, \u001b[39mlen\u001b[39m(instring), \u001b[39mself\u001b[39m\u001b[39m.\u001b[39merrmsg, \u001b[39mself\u001b[39m)\n\u001b[1;32m   4068\u001b[0m \u001b[39melse\u001b[39;00m:\n\u001b[0;32m-> 4069\u001b[0m     loc, exprtokens \u001b[39m=\u001b[39m e\u001b[39m.\u001b[39;49m_parse(instring, loc, doActions)\n\u001b[1;32m   4070\u001b[0m \u001b[39mif\u001b[39;00m exprtokens \u001b[39mor\u001b[39;00m exprtokens\u001b[39m.\u001b[39mhaskeys():\n\u001b[1;32m   4071\u001b[0m     resultlist \u001b[39m+\u001b[39m\u001b[39m=\u001b[39m exprtokens\n",
      "    \u001b[0;31m[... skipping similar frames: ParserElement._parseNoCache at line 1683 (1 times)]\u001b[0m\n",
      "File \u001b[0;32m~/opt/anaconda3/lib/python3.8/site-packages/pyparsing.py:4254\u001b[0m, in \u001b[0;36mMatchFirst.parseImpl\u001b[0;34m(self, instring, loc, doActions)\u001b[0m\n\u001b[1;32m   4252\u001b[0m \u001b[39mfor\u001b[39;00m e \u001b[39min\u001b[39;00m \u001b[39mself\u001b[39m\u001b[39m.\u001b[39mexprs:\n\u001b[1;32m   4253\u001b[0m     \u001b[39mtry\u001b[39;00m:\n\u001b[0;32m-> 4254\u001b[0m         ret \u001b[39m=\u001b[39m e\u001b[39m.\u001b[39;49m_parse(instring, loc, doActions)\n\u001b[1;32m   4255\u001b[0m         \u001b[39mreturn\u001b[39;00m ret\n\u001b[1;32m   4256\u001b[0m     \u001b[39mexcept\u001b[39;00m ParseException \u001b[39mas\u001b[39;00m err:\n",
      "    \u001b[0;31m[... skipping similar frames: ParserElement._parseNoCache at line 1683 (2 times), And.parseImpl at line 4069 (1 times)]\u001b[0m\n",
      "File \u001b[0;32m~/opt/anaconda3/lib/python3.8/site-packages/pyparsing.py:4462\u001b[0m, in \u001b[0;36mParseElementEnhance.parseImpl\u001b[0;34m(self, instring, loc, doActions)\u001b[0m\n\u001b[1;32m   4460\u001b[0m \u001b[39mdef\u001b[39;00m \u001b[39mparseImpl\u001b[39m(\u001b[39mself\u001b[39m, instring, loc, doActions\u001b[39m=\u001b[39m\u001b[39mTrue\u001b[39;00m):\n\u001b[1;32m   4461\u001b[0m     \u001b[39mif\u001b[39;00m \u001b[39mself\u001b[39m\u001b[39m.\u001b[39mexpr \u001b[39mis\u001b[39;00m \u001b[39mnot\u001b[39;00m \u001b[39mNone\u001b[39;00m:\n\u001b[0;32m-> 4462\u001b[0m         \u001b[39mreturn\u001b[39;00m \u001b[39mself\u001b[39;49m\u001b[39m.\u001b[39;49mexpr\u001b[39m.\u001b[39;49m_parse(instring, loc, doActions, callPreParse\u001b[39m=\u001b[39;49m\u001b[39mFalse\u001b[39;49;00m)\n\u001b[1;32m   4463\u001b[0m     \u001b[39melse\u001b[39;00m:\n\u001b[1;32m   4464\u001b[0m         \u001b[39mraise\u001b[39;00m ParseException(\u001b[39m\"\u001b[39m\u001b[39m\"\u001b[39m, loc, \u001b[39mself\u001b[39m\u001b[39m.\u001b[39merrmsg, \u001b[39mself\u001b[39m)\n",
      "    \u001b[0;31m[... skipping similar frames: ParserElement._parseNoCache at line 1683 (2 times), ParseElementEnhance.parseImpl at line 4462 (1 times)]\u001b[0m\n",
      "File \u001b[0;32m~/opt/anaconda3/lib/python3.8/site-packages/pyparsing.py:4069\u001b[0m, in \u001b[0;36mAnd.parseImpl\u001b[0;34m(self, instring, loc, doActions)\u001b[0m\n\u001b[1;32m   4067\u001b[0m         \u001b[39mraise\u001b[39;00m ParseSyntaxException(instring, \u001b[39mlen\u001b[39m(instring), \u001b[39mself\u001b[39m\u001b[39m.\u001b[39merrmsg, \u001b[39mself\u001b[39m)\n\u001b[1;32m   4068\u001b[0m \u001b[39melse\u001b[39;00m:\n\u001b[0;32m-> 4069\u001b[0m     loc, exprtokens \u001b[39m=\u001b[39m e\u001b[39m.\u001b[39;49m_parse(instring, loc, doActions)\n\u001b[1;32m   4070\u001b[0m \u001b[39mif\u001b[39;00m exprtokens \u001b[39mor\u001b[39;00m exprtokens\u001b[39m.\u001b[39mhaskeys():\n\u001b[1;32m   4071\u001b[0m     resultlist \u001b[39m+\u001b[39m\u001b[39m=\u001b[39m exprtokens\n",
      "    \u001b[0;31m[... skipping similar frames: ParserElement._parseNoCache at line 1683 (1 times)]\u001b[0m\n",
      "File \u001b[0;32m~/opt/anaconda3/lib/python3.8/site-packages/pyparsing.py:4254\u001b[0m, in \u001b[0;36mMatchFirst.parseImpl\u001b[0;34m(self, instring, loc, doActions)\u001b[0m\n\u001b[1;32m   4252\u001b[0m \u001b[39mfor\u001b[39;00m e \u001b[39min\u001b[39;00m \u001b[39mself\u001b[39m\u001b[39m.\u001b[39mexprs:\n\u001b[1;32m   4253\u001b[0m     \u001b[39mtry\u001b[39;00m:\n\u001b[0;32m-> 4254\u001b[0m         ret \u001b[39m=\u001b[39m e\u001b[39m.\u001b[39;49m_parse(instring, loc, doActions)\n\u001b[1;32m   4255\u001b[0m         \u001b[39mreturn\u001b[39;00m ret\n\u001b[1;32m   4256\u001b[0m     \u001b[39mexcept\u001b[39;00m ParseException \u001b[39mas\u001b[39;00m err:\n",
      "    \u001b[0;31m[... skipping similar frames: ParserElement._parseNoCache at line 1683 (1 times)]\u001b[0m\n",
      "File \u001b[0;32m~/opt/anaconda3/lib/python3.8/site-packages/pyparsing.py:4462\u001b[0m, in \u001b[0;36mParseElementEnhance.parseImpl\u001b[0;34m(self, instring, loc, doActions)\u001b[0m\n\u001b[1;32m   4460\u001b[0m \u001b[39mdef\u001b[39;00m \u001b[39mparseImpl\u001b[39m(\u001b[39mself\u001b[39m, instring, loc, doActions\u001b[39m=\u001b[39m\u001b[39mTrue\u001b[39;00m):\n\u001b[1;32m   4461\u001b[0m     \u001b[39mif\u001b[39;00m \u001b[39mself\u001b[39m\u001b[39m.\u001b[39mexpr \u001b[39mis\u001b[39;00m \u001b[39mnot\u001b[39;00m \u001b[39mNone\u001b[39;00m:\n\u001b[0;32m-> 4462\u001b[0m         \u001b[39mreturn\u001b[39;00m \u001b[39mself\u001b[39;49m\u001b[39m.\u001b[39;49mexpr\u001b[39m.\u001b[39;49m_parse(instring, loc, doActions, callPreParse\u001b[39m=\u001b[39;49m\u001b[39mFalse\u001b[39;49;00m)\n\u001b[1;32m   4463\u001b[0m     \u001b[39melse\u001b[39;00m:\n\u001b[1;32m   4464\u001b[0m         \u001b[39mraise\u001b[39;00m ParseException(\u001b[39m\"\u001b[39m\u001b[39m\"\u001b[39m, loc, \u001b[39mself\u001b[39m\u001b[39m.\u001b[39merrmsg, \u001b[39mself\u001b[39m)\n",
      "    \u001b[0;31m[... skipping similar frames: ParserElement._parseNoCache at line 1683 (1 times)]\u001b[0m\n",
      "File \u001b[0;32m~/opt/anaconda3/lib/python3.8/site-packages/pyparsing.py:4052\u001b[0m, in \u001b[0;36mAnd.parseImpl\u001b[0;34m(self, instring, loc, doActions)\u001b[0m\n\u001b[1;32m   4049\u001b[0m \u001b[39mdef\u001b[39;00m \u001b[39mparseImpl\u001b[39m(\u001b[39mself\u001b[39m, instring, loc, doActions\u001b[39m=\u001b[39m\u001b[39mTrue\u001b[39;00m):\n\u001b[1;32m   4050\u001b[0m     \u001b[39m# pass False as last arg to _parse for first element, since we already\u001b[39;00m\n\u001b[1;32m   4051\u001b[0m     \u001b[39m# pre-parsed the string as part of our And pre-parsing\u001b[39;00m\n\u001b[0;32m-> 4052\u001b[0m     loc, resultlist \u001b[39m=\u001b[39m \u001b[39mself\u001b[39;49m\u001b[39m.\u001b[39;49mexprs[\u001b[39m0\u001b[39;49m]\u001b[39m.\u001b[39;49m_parse(instring, loc, doActions, callPreParse\u001b[39m=\u001b[39;49m\u001b[39mFalse\u001b[39;49;00m)\n\u001b[1;32m   4053\u001b[0m     errorStop \u001b[39m=\u001b[39m \u001b[39mFalse\u001b[39;00m\n\u001b[1;32m   4054\u001b[0m     \u001b[39mfor\u001b[39;00m e \u001b[39min\u001b[39;00m \u001b[39mself\u001b[39m\u001b[39m.\u001b[39mexprs[\u001b[39m1\u001b[39m:]:\n",
      "File \u001b[0;32m~/opt/anaconda3/lib/python3.8/site-packages/pyparsing.py:1683\u001b[0m, in \u001b[0;36mParserElement._parseNoCache\u001b[0;34m(self, instring, loc, doActions, callPreParse)\u001b[0m\n\u001b[1;32m   1681\u001b[0m \u001b[39mif\u001b[39;00m \u001b[39mself\u001b[39m\u001b[39m.\u001b[39mmayIndexError \u001b[39mor\u001b[39;00m preloc \u001b[39m>\u001b[39m\u001b[39m=\u001b[39m \u001b[39mlen\u001b[39m(instring):\n\u001b[1;32m   1682\u001b[0m     \u001b[39mtry\u001b[39;00m:\n\u001b[0;32m-> 1683\u001b[0m         loc, tokens \u001b[39m=\u001b[39m \u001b[39mself\u001b[39;49m\u001b[39m.\u001b[39;49mparseImpl(instring, preloc, doActions)\n\u001b[1;32m   1684\u001b[0m     \u001b[39mexcept\u001b[39;00m \u001b[39mIndexError\u001b[39;00m:\n\u001b[1;32m   1685\u001b[0m         \u001b[39mraise\u001b[39;00m ParseException(instring, \u001b[39mlen\u001b[39m(instring), \u001b[39mself\u001b[39m\u001b[39m.\u001b[39merrmsg, \u001b[39mself\u001b[39m)\n",
      "File \u001b[0;32m~/opt/anaconda3/lib/python3.8/site-packages/pyparsing.py:4849\u001b[0m, in \u001b[0;36mOptional.parseImpl\u001b[0;34m(self, instring, loc, doActions)\u001b[0m\n\u001b[1;32m   4847\u001b[0m \u001b[39mdef\u001b[39;00m \u001b[39mparseImpl\u001b[39m(\u001b[39mself\u001b[39m, instring, loc, doActions\u001b[39m=\u001b[39m\u001b[39mTrue\u001b[39;00m):\n\u001b[1;32m   4848\u001b[0m     \u001b[39mtry\u001b[39;00m:\n\u001b[0;32m-> 4849\u001b[0m         loc, tokens \u001b[39m=\u001b[39m \u001b[39mself\u001b[39;49m\u001b[39m.\u001b[39;49mexpr\u001b[39m.\u001b[39;49m_parse(instring, loc, doActions, callPreParse\u001b[39m=\u001b[39;49m\u001b[39mFalse\u001b[39;49;00m)\n\u001b[1;32m   4850\u001b[0m     \u001b[39mexcept\u001b[39;00m (ParseException, \u001b[39mIndexError\u001b[39;00m):\n\u001b[1;32m   4851\u001b[0m         \u001b[39mif\u001b[39;00m \u001b[39mself\u001b[39m\u001b[39m.\u001b[39mdefaultValue \u001b[39mis\u001b[39;00m \u001b[39mnot\u001b[39;00m \u001b[39mself\u001b[39m\u001b[39m.\u001b[39m__optionalNotMatched:\n",
      "File \u001b[0;32m~/opt/anaconda3/lib/python3.8/site-packages/pyparsing.py:1683\u001b[0m, in \u001b[0;36mParserElement._parseNoCache\u001b[0;34m(self, instring, loc, doActions, callPreParse)\u001b[0m\n\u001b[1;32m   1681\u001b[0m \u001b[39mif\u001b[39;00m \u001b[39mself\u001b[39m\u001b[39m.\u001b[39mmayIndexError \u001b[39mor\u001b[39;00m preloc \u001b[39m>\u001b[39m\u001b[39m=\u001b[39m \u001b[39mlen\u001b[39m(instring):\n\u001b[1;32m   1682\u001b[0m     \u001b[39mtry\u001b[39;00m:\n\u001b[0;32m-> 1683\u001b[0m         loc, tokens \u001b[39m=\u001b[39m \u001b[39mself\u001b[39;49m\u001b[39m.\u001b[39;49mparseImpl(instring, preloc, doActions)\n\u001b[1;32m   1684\u001b[0m     \u001b[39mexcept\u001b[39;00m \u001b[39mIndexError\u001b[39;00m:\n\u001b[1;32m   1685\u001b[0m         \u001b[39mraise\u001b[39;00m ParseException(instring, \u001b[39mlen\u001b[39m(instring), \u001b[39mself\u001b[39m\u001b[39m.\u001b[39merrmsg, \u001b[39mself\u001b[39m)\n",
      "File \u001b[0;32m~/opt/anaconda3/lib/python3.8/site-packages/pyparsing.py:4462\u001b[0m, in \u001b[0;36mParseElementEnhance.parseImpl\u001b[0;34m(self, instring, loc, doActions)\u001b[0m\n\u001b[1;32m   4460\u001b[0m \u001b[39mdef\u001b[39;00m \u001b[39mparseImpl\u001b[39m(\u001b[39mself\u001b[39m, instring, loc, doActions\u001b[39m=\u001b[39m\u001b[39mTrue\u001b[39;00m):\n\u001b[1;32m   4461\u001b[0m     \u001b[39mif\u001b[39;00m \u001b[39mself\u001b[39m\u001b[39m.\u001b[39mexpr \u001b[39mis\u001b[39;00m \u001b[39mnot\u001b[39;00m \u001b[39mNone\u001b[39;00m:\n\u001b[0;32m-> 4462\u001b[0m         \u001b[39mreturn\u001b[39;00m \u001b[39mself\u001b[39;49m\u001b[39m.\u001b[39;49mexpr\u001b[39m.\u001b[39;49m_parse(instring, loc, doActions, callPreParse\u001b[39m=\u001b[39;49m\u001b[39mFalse\u001b[39;49;00m)\n\u001b[1;32m   4463\u001b[0m     \u001b[39melse\u001b[39;00m:\n\u001b[1;32m   4464\u001b[0m         \u001b[39mraise\u001b[39;00m ParseException(\u001b[39m\"\u001b[39m\u001b[39m\"\u001b[39m, loc, \u001b[39mself\u001b[39m\u001b[39m.\u001b[39merrmsg, \u001b[39mself\u001b[39m)\n",
      "File \u001b[0;32m~/opt/anaconda3/lib/python3.8/site-packages/pyparsing.py:1683\u001b[0m, in \u001b[0;36mParserElement._parseNoCache\u001b[0;34m(self, instring, loc, doActions, callPreParse)\u001b[0m\n\u001b[1;32m   1681\u001b[0m \u001b[39mif\u001b[39;00m \u001b[39mself\u001b[39m\u001b[39m.\u001b[39mmayIndexError \u001b[39mor\u001b[39;00m preloc \u001b[39m>\u001b[39m\u001b[39m=\u001b[39m \u001b[39mlen\u001b[39m(instring):\n\u001b[1;32m   1682\u001b[0m     \u001b[39mtry\u001b[39;00m:\n\u001b[0;32m-> 1683\u001b[0m         loc, tokens \u001b[39m=\u001b[39m \u001b[39mself\u001b[39;49m\u001b[39m.\u001b[39;49mparseImpl(instring, preloc, doActions)\n\u001b[1;32m   1684\u001b[0m     \u001b[39mexcept\u001b[39;00m \u001b[39mIndexError\u001b[39;00m:\n\u001b[1;32m   1685\u001b[0m         \u001b[39mraise\u001b[39;00m ParseException(instring, \u001b[39mlen\u001b[39m(instring), \u001b[39mself\u001b[39m\u001b[39m.\u001b[39merrmsg, \u001b[39mself\u001b[39m)\n",
      "File \u001b[0;32m~/opt/anaconda3/lib/python3.8/site-packages/pyparsing.py:4462\u001b[0m, in \u001b[0;36mParseElementEnhance.parseImpl\u001b[0;34m(self, instring, loc, doActions)\u001b[0m\n\u001b[1;32m   4460\u001b[0m \u001b[39mdef\u001b[39;00m \u001b[39mparseImpl\u001b[39m(\u001b[39mself\u001b[39m, instring, loc, doActions\u001b[39m=\u001b[39m\u001b[39mTrue\u001b[39;00m):\n\u001b[1;32m   4461\u001b[0m     \u001b[39mif\u001b[39;00m \u001b[39mself\u001b[39m\u001b[39m.\u001b[39mexpr \u001b[39mis\u001b[39;00m \u001b[39mnot\u001b[39;00m \u001b[39mNone\u001b[39;00m:\n\u001b[0;32m-> 4462\u001b[0m         \u001b[39mreturn\u001b[39;00m \u001b[39mself\u001b[39;49m\u001b[39m.\u001b[39;49mexpr\u001b[39m.\u001b[39;49m_parse(instring, loc, doActions, callPreParse\u001b[39m=\u001b[39;49m\u001b[39mFalse\u001b[39;49;00m)\n\u001b[1;32m   4463\u001b[0m     \u001b[39melse\u001b[39;00m:\n\u001b[1;32m   4464\u001b[0m         \u001b[39mraise\u001b[39;00m ParseException(\u001b[39m\"\u001b[39m\u001b[39m\"\u001b[39m, loc, \u001b[39mself\u001b[39m\u001b[39m.\u001b[39merrmsg, \u001b[39mself\u001b[39m)\n",
      "    \u001b[0;31m[... skipping similar frames: ParserElement._parseNoCache at line 1683 (1 times)]\u001b[0m\n",
      "File \u001b[0;32m~/opt/anaconda3/lib/python3.8/site-packages/pyparsing.py:4462\u001b[0m, in \u001b[0;36mParseElementEnhance.parseImpl\u001b[0;34m(self, instring, loc, doActions)\u001b[0m\n\u001b[1;32m   4460\u001b[0m \u001b[39mdef\u001b[39;00m \u001b[39mparseImpl\u001b[39m(\u001b[39mself\u001b[39m, instring, loc, doActions\u001b[39m=\u001b[39m\u001b[39mTrue\u001b[39;00m):\n\u001b[1;32m   4461\u001b[0m     \u001b[39mif\u001b[39;00m \u001b[39mself\u001b[39m\u001b[39m.\u001b[39mexpr \u001b[39mis\u001b[39;00m \u001b[39mnot\u001b[39;00m \u001b[39mNone\u001b[39;00m:\n\u001b[0;32m-> 4462\u001b[0m         \u001b[39mreturn\u001b[39;00m \u001b[39mself\u001b[39;49m\u001b[39m.\u001b[39;49mexpr\u001b[39m.\u001b[39;49m_parse(instring, loc, doActions, callPreParse\u001b[39m=\u001b[39;49m\u001b[39mFalse\u001b[39;49;00m)\n\u001b[1;32m   4463\u001b[0m     \u001b[39melse\u001b[39;00m:\n\u001b[1;32m   4464\u001b[0m         \u001b[39mraise\u001b[39;00m ParseException(\u001b[39m\"\u001b[39m\u001b[39m\"\u001b[39m, loc, \u001b[39mself\u001b[39m\u001b[39m.\u001b[39merrmsg, \u001b[39mself\u001b[39m)\n",
      "    \u001b[0;31m[... skipping similar frames: ParserElement._parseNoCache at line 1683 (1 times)]\u001b[0m\n",
      "File \u001b[0;32m~/opt/anaconda3/lib/python3.8/site-packages/pyparsing.py:4069\u001b[0m, in \u001b[0;36mAnd.parseImpl\u001b[0;34m(self, instring, loc, doActions)\u001b[0m\n\u001b[1;32m   4067\u001b[0m         \u001b[39mraise\u001b[39;00m ParseSyntaxException(instring, \u001b[39mlen\u001b[39m(instring), \u001b[39mself\u001b[39m\u001b[39m.\u001b[39merrmsg, \u001b[39mself\u001b[39m)\n\u001b[1;32m   4068\u001b[0m \u001b[39melse\u001b[39;00m:\n\u001b[0;32m-> 4069\u001b[0m     loc, exprtokens \u001b[39m=\u001b[39m e\u001b[39m.\u001b[39;49m_parse(instring, loc, doActions)\n\u001b[1;32m   4070\u001b[0m \u001b[39mif\u001b[39;00m exprtokens \u001b[39mor\u001b[39;00m exprtokens\u001b[39m.\u001b[39mhaskeys():\n\u001b[1;32m   4071\u001b[0m     resultlist \u001b[39m+\u001b[39m\u001b[39m=\u001b[39m exprtokens\n",
      "File \u001b[0;32m~/opt/anaconda3/lib/python3.8/site-packages/pyparsing.py:1683\u001b[0m, in \u001b[0;36mParserElement._parseNoCache\u001b[0;34m(self, instring, loc, doActions, callPreParse)\u001b[0m\n\u001b[1;32m   1681\u001b[0m \u001b[39mif\u001b[39;00m \u001b[39mself\u001b[39m\u001b[39m.\u001b[39mmayIndexError \u001b[39mor\u001b[39;00m preloc \u001b[39m>\u001b[39m\u001b[39m=\u001b[39m \u001b[39mlen\u001b[39m(instring):\n\u001b[1;32m   1682\u001b[0m     \u001b[39mtry\u001b[39;00m:\n\u001b[0;32m-> 1683\u001b[0m         loc, tokens \u001b[39m=\u001b[39m \u001b[39mself\u001b[39;49m\u001b[39m.\u001b[39;49mparseImpl(instring, preloc, doActions)\n\u001b[1;32m   1684\u001b[0m     \u001b[39mexcept\u001b[39;00m \u001b[39mIndexError\u001b[39;00m:\n\u001b[1;32m   1685\u001b[0m         \u001b[39mraise\u001b[39;00m ParseException(instring, \u001b[39mlen\u001b[39m(instring), \u001b[39mself\u001b[39m\u001b[39m.\u001b[39merrmsg, \u001b[39mself\u001b[39m)\n",
      "File \u001b[0;32m~/opt/anaconda3/lib/python3.8/site-packages/pyparsing.py:4849\u001b[0m, in \u001b[0;36mOptional.parseImpl\u001b[0;34m(self, instring, loc, doActions)\u001b[0m\n\u001b[1;32m   4847\u001b[0m \u001b[39mdef\u001b[39;00m \u001b[39mparseImpl\u001b[39m(\u001b[39mself\u001b[39m, instring, loc, doActions\u001b[39m=\u001b[39m\u001b[39mTrue\u001b[39;00m):\n\u001b[1;32m   4848\u001b[0m     \u001b[39mtry\u001b[39;00m:\n\u001b[0;32m-> 4849\u001b[0m         loc, tokens \u001b[39m=\u001b[39m \u001b[39mself\u001b[39;49m\u001b[39m.\u001b[39;49mexpr\u001b[39m.\u001b[39;49m_parse(instring, loc, doActions, callPreParse\u001b[39m=\u001b[39;49m\u001b[39mFalse\u001b[39;49;00m)\n\u001b[1;32m   4850\u001b[0m     \u001b[39mexcept\u001b[39;00m (ParseException, \u001b[39mIndexError\u001b[39;00m):\n\u001b[1;32m   4851\u001b[0m         \u001b[39mif\u001b[39;00m \u001b[39mself\u001b[39m\u001b[39m.\u001b[39mdefaultValue \u001b[39mis\u001b[39;00m \u001b[39mnot\u001b[39;00m \u001b[39mself\u001b[39m\u001b[39m.\u001b[39m__optionalNotMatched:\n",
      "File \u001b[0;32m~/opt/anaconda3/lib/python3.8/site-packages/pyparsing.py:1683\u001b[0m, in \u001b[0;36mParserElement._parseNoCache\u001b[0;34m(self, instring, loc, doActions, callPreParse)\u001b[0m\n\u001b[1;32m   1681\u001b[0m \u001b[39mif\u001b[39;00m \u001b[39mself\u001b[39m\u001b[39m.\u001b[39mmayIndexError \u001b[39mor\u001b[39;00m preloc \u001b[39m>\u001b[39m\u001b[39m=\u001b[39m \u001b[39mlen\u001b[39m(instring):\n\u001b[1;32m   1682\u001b[0m     \u001b[39mtry\u001b[39;00m:\n\u001b[0;32m-> 1683\u001b[0m         loc, tokens \u001b[39m=\u001b[39m \u001b[39mself\u001b[39;49m\u001b[39m.\u001b[39;49mparseImpl(instring, preloc, doActions)\n\u001b[1;32m   1684\u001b[0m     \u001b[39mexcept\u001b[39;00m \u001b[39mIndexError\u001b[39;00m:\n\u001b[1;32m   1685\u001b[0m         \u001b[39mraise\u001b[39;00m ParseException(instring, \u001b[39mlen\u001b[39m(instring), \u001b[39mself\u001b[39m\u001b[39m.\u001b[39merrmsg, \u001b[39mself\u001b[39m)\n",
      "File \u001b[0;32m~/opt/anaconda3/lib/python3.8/site-packages/pyparsing.py:4069\u001b[0m, in \u001b[0;36mAnd.parseImpl\u001b[0;34m(self, instring, loc, doActions)\u001b[0m\n\u001b[1;32m   4067\u001b[0m         \u001b[39mraise\u001b[39;00m ParseSyntaxException(instring, \u001b[39mlen\u001b[39m(instring), \u001b[39mself\u001b[39m\u001b[39m.\u001b[39merrmsg, \u001b[39mself\u001b[39m)\n\u001b[1;32m   4068\u001b[0m \u001b[39melse\u001b[39;00m:\n\u001b[0;32m-> 4069\u001b[0m     loc, exprtokens \u001b[39m=\u001b[39m e\u001b[39m.\u001b[39;49m_parse(instring, loc, doActions)\n\u001b[1;32m   4070\u001b[0m \u001b[39mif\u001b[39;00m exprtokens \u001b[39mor\u001b[39;00m exprtokens\u001b[39m.\u001b[39mhaskeys():\n\u001b[1;32m   4071\u001b[0m     resultlist \u001b[39m+\u001b[39m\u001b[39m=\u001b[39m exprtokens\n",
      "File \u001b[0;32m~/opt/anaconda3/lib/python3.8/site-packages/pyparsing.py:1683\u001b[0m, in \u001b[0;36mParserElement._parseNoCache\u001b[0;34m(self, instring, loc, doActions, callPreParse)\u001b[0m\n\u001b[1;32m   1681\u001b[0m \u001b[39mif\u001b[39;00m \u001b[39mself\u001b[39m\u001b[39m.\u001b[39mmayIndexError \u001b[39mor\u001b[39;00m preloc \u001b[39m>\u001b[39m\u001b[39m=\u001b[39m \u001b[39mlen\u001b[39m(instring):\n\u001b[1;32m   1682\u001b[0m     \u001b[39mtry\u001b[39;00m:\n\u001b[0;32m-> 1683\u001b[0m         loc, tokens \u001b[39m=\u001b[39m \u001b[39mself\u001b[39;49m\u001b[39m.\u001b[39;49mparseImpl(instring, preloc, doActions)\n\u001b[1;32m   1684\u001b[0m     \u001b[39mexcept\u001b[39;00m \u001b[39mIndexError\u001b[39;00m:\n\u001b[1;32m   1685\u001b[0m         \u001b[39mraise\u001b[39;00m ParseException(instring, \u001b[39mlen\u001b[39m(instring), \u001b[39mself\u001b[39m\u001b[39m.\u001b[39merrmsg, \u001b[39mself\u001b[39m)\n",
      "File \u001b[0;32m~/opt/anaconda3/lib/python3.8/site-packages/pyparsing.py:4849\u001b[0m, in \u001b[0;36mOptional.parseImpl\u001b[0;34m(self, instring, loc, doActions)\u001b[0m\n\u001b[1;32m   4847\u001b[0m \u001b[39mdef\u001b[39;00m \u001b[39mparseImpl\u001b[39m(\u001b[39mself\u001b[39m, instring, loc, doActions\u001b[39m=\u001b[39m\u001b[39mTrue\u001b[39;00m):\n\u001b[1;32m   4848\u001b[0m     \u001b[39mtry\u001b[39;00m:\n\u001b[0;32m-> 4849\u001b[0m         loc, tokens \u001b[39m=\u001b[39m \u001b[39mself\u001b[39;49m\u001b[39m.\u001b[39;49mexpr\u001b[39m.\u001b[39;49m_parse(instring, loc, doActions, callPreParse\u001b[39m=\u001b[39;49m\u001b[39mFalse\u001b[39;49;00m)\n\u001b[1;32m   4850\u001b[0m     \u001b[39mexcept\u001b[39;00m (ParseException, \u001b[39mIndexError\u001b[39;00m):\n\u001b[1;32m   4851\u001b[0m         \u001b[39mif\u001b[39;00m \u001b[39mself\u001b[39m\u001b[39m.\u001b[39mdefaultValue \u001b[39mis\u001b[39;00m \u001b[39mnot\u001b[39;00m \u001b[39mself\u001b[39m\u001b[39m.\u001b[39m__optionalNotMatched:\n",
      "File \u001b[0;32m~/opt/anaconda3/lib/python3.8/site-packages/pyparsing.py:1683\u001b[0m, in \u001b[0;36mParserElement._parseNoCache\u001b[0;34m(self, instring, loc, doActions, callPreParse)\u001b[0m\n\u001b[1;32m   1681\u001b[0m \u001b[39mif\u001b[39;00m \u001b[39mself\u001b[39m\u001b[39m.\u001b[39mmayIndexError \u001b[39mor\u001b[39;00m preloc \u001b[39m>\u001b[39m\u001b[39m=\u001b[39m \u001b[39mlen\u001b[39m(instring):\n\u001b[1;32m   1682\u001b[0m     \u001b[39mtry\u001b[39;00m:\n\u001b[0;32m-> 1683\u001b[0m         loc, tokens \u001b[39m=\u001b[39m \u001b[39mself\u001b[39;49m\u001b[39m.\u001b[39;49mparseImpl(instring, preloc, doActions)\n\u001b[1;32m   1684\u001b[0m     \u001b[39mexcept\u001b[39;00m \u001b[39mIndexError\u001b[39;00m:\n\u001b[1;32m   1685\u001b[0m         \u001b[39mraise\u001b[39;00m ParseException(instring, \u001b[39mlen\u001b[39m(instring), \u001b[39mself\u001b[39m\u001b[39m.\u001b[39merrmsg, \u001b[39mself\u001b[39m)\n",
      "File \u001b[0;32m~/opt/anaconda3/lib/python3.8/site-packages/pyparsing.py:4462\u001b[0m, in \u001b[0;36mParseElementEnhance.parseImpl\u001b[0;34m(self, instring, loc, doActions)\u001b[0m\n\u001b[1;32m   4460\u001b[0m \u001b[39mdef\u001b[39;00m \u001b[39mparseImpl\u001b[39m(\u001b[39mself\u001b[39m, instring, loc, doActions\u001b[39m=\u001b[39m\u001b[39mTrue\u001b[39;00m):\n\u001b[1;32m   4461\u001b[0m     \u001b[39mif\u001b[39;00m \u001b[39mself\u001b[39m\u001b[39m.\u001b[39mexpr \u001b[39mis\u001b[39;00m \u001b[39mnot\u001b[39;00m \u001b[39mNone\u001b[39;00m:\n\u001b[0;32m-> 4462\u001b[0m         \u001b[39mreturn\u001b[39;00m \u001b[39mself\u001b[39;49m\u001b[39m.\u001b[39;49mexpr\u001b[39m.\u001b[39;49m_parse(instring, loc, doActions, callPreParse\u001b[39m=\u001b[39;49m\u001b[39mFalse\u001b[39;49;00m)\n\u001b[1;32m   4463\u001b[0m     \u001b[39melse\u001b[39;00m:\n\u001b[1;32m   4464\u001b[0m         \u001b[39mraise\u001b[39;00m ParseException(\u001b[39m\"\u001b[39m\u001b[39m\"\u001b[39m, loc, \u001b[39mself\u001b[39m\u001b[39m.\u001b[39merrmsg, \u001b[39mself\u001b[39m)\n",
      "File \u001b[0;32m~/opt/anaconda3/lib/python3.8/site-packages/pyparsing.py:1683\u001b[0m, in \u001b[0;36mParserElement._parseNoCache\u001b[0;34m(self, instring, loc, doActions, callPreParse)\u001b[0m\n\u001b[1;32m   1681\u001b[0m \u001b[39mif\u001b[39;00m \u001b[39mself\u001b[39m\u001b[39m.\u001b[39mmayIndexError \u001b[39mor\u001b[39;00m preloc \u001b[39m>\u001b[39m\u001b[39m=\u001b[39m \u001b[39mlen\u001b[39m(instring):\n\u001b[1;32m   1682\u001b[0m     \u001b[39mtry\u001b[39;00m:\n\u001b[0;32m-> 1683\u001b[0m         loc, tokens \u001b[39m=\u001b[39m \u001b[39mself\u001b[39;49m\u001b[39m.\u001b[39;49mparseImpl(instring, preloc, doActions)\n\u001b[1;32m   1684\u001b[0m     \u001b[39mexcept\u001b[39;00m \u001b[39mIndexError\u001b[39;00m:\n\u001b[1;32m   1685\u001b[0m         \u001b[39mraise\u001b[39;00m ParseException(instring, \u001b[39mlen\u001b[39m(instring), \u001b[39mself\u001b[39m\u001b[39m.\u001b[39merrmsg, \u001b[39mself\u001b[39m)\n",
      "File \u001b[0;32m~/opt/anaconda3/lib/python3.8/site-packages/pyparsing.py:4052\u001b[0m, in \u001b[0;36mAnd.parseImpl\u001b[0;34m(self, instring, loc, doActions)\u001b[0m\n\u001b[1;32m   4049\u001b[0m \u001b[39mdef\u001b[39;00m \u001b[39mparseImpl\u001b[39m(\u001b[39mself\u001b[39m, instring, loc, doActions\u001b[39m=\u001b[39m\u001b[39mTrue\u001b[39;00m):\n\u001b[1;32m   4050\u001b[0m     \u001b[39m# pass False as last arg to _parse for first element, since we already\u001b[39;00m\n\u001b[1;32m   4051\u001b[0m     \u001b[39m# pre-parsed the string as part of our And pre-parsing\u001b[39;00m\n\u001b[0;32m-> 4052\u001b[0m     loc, resultlist \u001b[39m=\u001b[39m \u001b[39mself\u001b[39;49m\u001b[39m.\u001b[39;49mexprs[\u001b[39m0\u001b[39;49m]\u001b[39m.\u001b[39;49m_parse(instring, loc, doActions, callPreParse\u001b[39m=\u001b[39;49m\u001b[39mFalse\u001b[39;49;00m)\n\u001b[1;32m   4053\u001b[0m     errorStop \u001b[39m=\u001b[39m \u001b[39mFalse\u001b[39;00m\n\u001b[1;32m   4054\u001b[0m     \u001b[39mfor\u001b[39;00m e \u001b[39min\u001b[39;00m \u001b[39mself\u001b[39m\u001b[39m.\u001b[39mexprs[\u001b[39m1\u001b[39m:]:\n",
      "    \u001b[0;31m[... skipping similar frames: ParserElement._parseNoCache at line 1683 (1 times)]\u001b[0m\n",
      "File \u001b[0;32m~/opt/anaconda3/lib/python3.8/site-packages/pyparsing.py:4462\u001b[0m, in \u001b[0;36mParseElementEnhance.parseImpl\u001b[0;34m(self, instring, loc, doActions)\u001b[0m\n\u001b[1;32m   4460\u001b[0m \u001b[39mdef\u001b[39;00m \u001b[39mparseImpl\u001b[39m(\u001b[39mself\u001b[39m, instring, loc, doActions\u001b[39m=\u001b[39m\u001b[39mTrue\u001b[39;00m):\n\u001b[1;32m   4461\u001b[0m     \u001b[39mif\u001b[39;00m \u001b[39mself\u001b[39m\u001b[39m.\u001b[39mexpr \u001b[39mis\u001b[39;00m \u001b[39mnot\u001b[39;00m \u001b[39mNone\u001b[39;00m:\n\u001b[0;32m-> 4462\u001b[0m         \u001b[39mreturn\u001b[39;00m \u001b[39mself\u001b[39;49m\u001b[39m.\u001b[39;49mexpr\u001b[39m.\u001b[39;49m_parse(instring, loc, doActions, callPreParse\u001b[39m=\u001b[39;49m\u001b[39mFalse\u001b[39;49;00m)\n\u001b[1;32m   4463\u001b[0m     \u001b[39melse\u001b[39;00m:\n\u001b[1;32m   4464\u001b[0m         \u001b[39mraise\u001b[39;00m ParseException(\u001b[39m\"\u001b[39m\u001b[39m\"\u001b[39m, loc, \u001b[39mself\u001b[39m\u001b[39m.\u001b[39merrmsg, \u001b[39mself\u001b[39m)\n",
      "    \u001b[0;31m[... skipping similar frames: ParserElement._parseNoCache at line 1683 (1 times)]\u001b[0m\n",
      "File \u001b[0;32m~/opt/anaconda3/lib/python3.8/site-packages/pyparsing.py:4254\u001b[0m, in \u001b[0;36mMatchFirst.parseImpl\u001b[0;34m(self, instring, loc, doActions)\u001b[0m\n\u001b[1;32m   4252\u001b[0m \u001b[39mfor\u001b[39;00m e \u001b[39min\u001b[39;00m \u001b[39mself\u001b[39m\u001b[39m.\u001b[39mexprs:\n\u001b[1;32m   4253\u001b[0m     \u001b[39mtry\u001b[39;00m:\n\u001b[0;32m-> 4254\u001b[0m         ret \u001b[39m=\u001b[39m e\u001b[39m.\u001b[39;49m_parse(instring, loc, doActions)\n\u001b[1;32m   4255\u001b[0m         \u001b[39mreturn\u001b[39;00m ret\n\u001b[1;32m   4256\u001b[0m     \u001b[39mexcept\u001b[39;00m ParseException \u001b[39mas\u001b[39;00m err:\n",
      "    \u001b[0;31m[... skipping similar frames: ParserElement._parseNoCache at line 1683 (1 times)]\u001b[0m\n",
      "File \u001b[0;32m~/opt/anaconda3/lib/python3.8/site-packages/pyparsing.py:4069\u001b[0m, in \u001b[0;36mAnd.parseImpl\u001b[0;34m(self, instring, loc, doActions)\u001b[0m\n\u001b[1;32m   4067\u001b[0m         \u001b[39mraise\u001b[39;00m ParseSyntaxException(instring, \u001b[39mlen\u001b[39m(instring), \u001b[39mself\u001b[39m\u001b[39m.\u001b[39merrmsg, \u001b[39mself\u001b[39m)\n\u001b[1;32m   4068\u001b[0m \u001b[39melse\u001b[39;00m:\n\u001b[0;32m-> 4069\u001b[0m     loc, exprtokens \u001b[39m=\u001b[39m e\u001b[39m.\u001b[39;49m_parse(instring, loc, doActions)\n\u001b[1;32m   4070\u001b[0m \u001b[39mif\u001b[39;00m exprtokens \u001b[39mor\u001b[39;00m exprtokens\u001b[39m.\u001b[39mhaskeys():\n\u001b[1;32m   4071\u001b[0m     resultlist \u001b[39m+\u001b[39m\u001b[39m=\u001b[39m exprtokens\n",
      "    \u001b[0;31m[... skipping similar frames: ParserElement._parseNoCache at line 1683 (1 times)]\u001b[0m\n",
      "File \u001b[0;32m~/opt/anaconda3/lib/python3.8/site-packages/pyparsing.py:4254\u001b[0m, in \u001b[0;36mMatchFirst.parseImpl\u001b[0;34m(self, instring, loc, doActions)\u001b[0m\n\u001b[1;32m   4252\u001b[0m \u001b[39mfor\u001b[39;00m e \u001b[39min\u001b[39;00m \u001b[39mself\u001b[39m\u001b[39m.\u001b[39mexprs:\n\u001b[1;32m   4253\u001b[0m     \u001b[39mtry\u001b[39;00m:\n\u001b[0;32m-> 4254\u001b[0m         ret \u001b[39m=\u001b[39m e\u001b[39m.\u001b[39;49m_parse(instring, loc, doActions)\n\u001b[1;32m   4255\u001b[0m         \u001b[39mreturn\u001b[39;00m ret\n\u001b[1;32m   4256\u001b[0m     \u001b[39mexcept\u001b[39;00m ParseException \u001b[39mas\u001b[39;00m err:\n",
      "    \u001b[0;31m[... skipping similar frames: ParserElement._parseNoCache at line 1683 (3 times), ParseElementEnhance.parseImpl at line 4462 (2 times)]\u001b[0m\n",
      "File \u001b[0;32m~/opt/anaconda3/lib/python3.8/site-packages/pyparsing.py:4052\u001b[0m, in \u001b[0;36mAnd.parseImpl\u001b[0;34m(self, instring, loc, doActions)\u001b[0m\n\u001b[1;32m   4049\u001b[0m \u001b[39mdef\u001b[39;00m \u001b[39mparseImpl\u001b[39m(\u001b[39mself\u001b[39m, instring, loc, doActions\u001b[39m=\u001b[39m\u001b[39mTrue\u001b[39;00m):\n\u001b[1;32m   4050\u001b[0m     \u001b[39m# pass False as last arg to _parse for first element, since we already\u001b[39;00m\n\u001b[1;32m   4051\u001b[0m     \u001b[39m# pre-parsed the string as part of our And pre-parsing\u001b[39;00m\n\u001b[0;32m-> 4052\u001b[0m     loc, resultlist \u001b[39m=\u001b[39m \u001b[39mself\u001b[39;49m\u001b[39m.\u001b[39;49mexprs[\u001b[39m0\u001b[39;49m]\u001b[39m.\u001b[39;49m_parse(instring, loc, doActions, callPreParse\u001b[39m=\u001b[39;49m\u001b[39mFalse\u001b[39;49;00m)\n\u001b[1;32m   4053\u001b[0m     errorStop \u001b[39m=\u001b[39m \u001b[39mFalse\u001b[39;00m\n\u001b[1;32m   4054\u001b[0m     \u001b[39mfor\u001b[39;00m e \u001b[39min\u001b[39;00m \u001b[39mself\u001b[39m\u001b[39m.\u001b[39mexprs[\u001b[39m1\u001b[39m:]:\n",
      "    \u001b[0;31m[... skipping similar frames: ParserElement._parseNoCache at line 1683 (7 times), ParseElementEnhance.parseImpl at line 4462 (4 times), And.parseImpl at line 4052 (1 times), MatchFirst.parseImpl at line 4254 (1 times)]\u001b[0m\n",
      "File \u001b[0;32m~/opt/anaconda3/lib/python3.8/site-packages/pyparsing.py:4052\u001b[0m, in \u001b[0;36mAnd.parseImpl\u001b[0;34m(self, instring, loc, doActions)\u001b[0m\n\u001b[1;32m   4049\u001b[0m \u001b[39mdef\u001b[39;00m \u001b[39mparseImpl\u001b[39m(\u001b[39mself\u001b[39m, instring, loc, doActions\u001b[39m=\u001b[39m\u001b[39mTrue\u001b[39;00m):\n\u001b[1;32m   4050\u001b[0m     \u001b[39m# pass False as last arg to _parse for first element, since we already\u001b[39;00m\n\u001b[1;32m   4051\u001b[0m     \u001b[39m# pre-parsed the string as part of our And pre-parsing\u001b[39;00m\n\u001b[0;32m-> 4052\u001b[0m     loc, resultlist \u001b[39m=\u001b[39m \u001b[39mself\u001b[39;49m\u001b[39m.\u001b[39;49mexprs[\u001b[39m0\u001b[39;49m]\u001b[39m.\u001b[39;49m_parse(instring, loc, doActions, callPreParse\u001b[39m=\u001b[39;49m\u001b[39mFalse\u001b[39;49;00m)\n\u001b[1;32m   4053\u001b[0m     errorStop \u001b[39m=\u001b[39m \u001b[39mFalse\u001b[39;00m\n\u001b[1;32m   4054\u001b[0m     \u001b[39mfor\u001b[39;00m e \u001b[39min\u001b[39;00m \u001b[39mself\u001b[39m\u001b[39m.\u001b[39mexprs[\u001b[39m1\u001b[39m:]:\n",
      "    \u001b[0;31m[... skipping similar frames: ParserElement._parseNoCache at line 1683 (3 times), ParseElementEnhance.parseImpl at line 4462 (1 times), MatchFirst.parseImpl at line 4254 (1 times)]\u001b[0m\n",
      "File \u001b[0;32m~/opt/anaconda3/lib/python3.8/site-packages/pyparsing.py:4462\u001b[0m, in \u001b[0;36mParseElementEnhance.parseImpl\u001b[0;34m(self, instring, loc, doActions)\u001b[0m\n\u001b[1;32m   4460\u001b[0m \u001b[39mdef\u001b[39;00m \u001b[39mparseImpl\u001b[39m(\u001b[39mself\u001b[39m, instring, loc, doActions\u001b[39m=\u001b[39m\u001b[39mTrue\u001b[39;00m):\n\u001b[1;32m   4461\u001b[0m     \u001b[39mif\u001b[39;00m \u001b[39mself\u001b[39m\u001b[39m.\u001b[39mexpr \u001b[39mis\u001b[39;00m \u001b[39mnot\u001b[39;00m \u001b[39mNone\u001b[39;00m:\n\u001b[0;32m-> 4462\u001b[0m         \u001b[39mreturn\u001b[39;00m \u001b[39mself\u001b[39;49m\u001b[39m.\u001b[39;49mexpr\u001b[39m.\u001b[39;49m_parse(instring, loc, doActions, callPreParse\u001b[39m=\u001b[39;49m\u001b[39mFalse\u001b[39;49;00m)\n\u001b[1;32m   4463\u001b[0m     \u001b[39melse\u001b[39;00m:\n\u001b[1;32m   4464\u001b[0m         \u001b[39mraise\u001b[39;00m ParseException(\u001b[39m\"\u001b[39m\u001b[39m\"\u001b[39m, loc, \u001b[39mself\u001b[39m\u001b[39m.\u001b[39merrmsg, \u001b[39mself\u001b[39m)\n",
      "File \u001b[0;32m~/opt/anaconda3/lib/python3.8/site-packages/pyparsing.py:1683\u001b[0m, in \u001b[0;36mParserElement._parseNoCache\u001b[0;34m(self, instring, loc, doActions, callPreParse)\u001b[0m\n\u001b[1;32m   1681\u001b[0m \u001b[39mif\u001b[39;00m \u001b[39mself\u001b[39m\u001b[39m.\u001b[39mmayIndexError \u001b[39mor\u001b[39;00m preloc \u001b[39m>\u001b[39m\u001b[39m=\u001b[39m \u001b[39mlen\u001b[39m(instring):\n\u001b[1;32m   1682\u001b[0m     \u001b[39mtry\u001b[39;00m:\n\u001b[0;32m-> 1683\u001b[0m         loc, tokens \u001b[39m=\u001b[39m \u001b[39mself\u001b[39;49m\u001b[39m.\u001b[39;49mparseImpl(instring, preloc, doActions)\n\u001b[1;32m   1684\u001b[0m     \u001b[39mexcept\u001b[39;00m \u001b[39mIndexError\u001b[39;00m:\n\u001b[1;32m   1685\u001b[0m         \u001b[39mraise\u001b[39;00m ParseException(instring, \u001b[39mlen\u001b[39m(instring), \u001b[39mself\u001b[39m\u001b[39m.\u001b[39merrmsg, \u001b[39mself\u001b[39m)\n",
      "File \u001b[0;32m~/opt/anaconda3/lib/python3.8/site-packages/pyparsing.py:4254\u001b[0m, in \u001b[0;36mMatchFirst.parseImpl\u001b[0;34m(self, instring, loc, doActions)\u001b[0m\n\u001b[1;32m   4252\u001b[0m \u001b[39mfor\u001b[39;00m e \u001b[39min\u001b[39;00m \u001b[39mself\u001b[39m\u001b[39m.\u001b[39mexprs:\n\u001b[1;32m   4253\u001b[0m     \u001b[39mtry\u001b[39;00m:\n\u001b[0;32m-> 4254\u001b[0m         ret \u001b[39m=\u001b[39m e\u001b[39m.\u001b[39;49m_parse(instring, loc, doActions)\n\u001b[1;32m   4255\u001b[0m         \u001b[39mreturn\u001b[39;00m ret\n\u001b[1;32m   4256\u001b[0m     \u001b[39mexcept\u001b[39;00m ParseException \u001b[39mas\u001b[39;00m err:\n",
      "File \u001b[0;32m~/opt/anaconda3/lib/python3.8/site-packages/pyparsing.py:1677\u001b[0m, in \u001b[0;36mParserElement._parseNoCache\u001b[0;34m(self, instring, loc, doActions, callPreParse)\u001b[0m\n\u001b[1;32m   1675\u001b[0m \u001b[39melse\u001b[39;00m:\n\u001b[1;32m   1676\u001b[0m     \u001b[39mif\u001b[39;00m callPreParse \u001b[39mand\u001b[39;00m \u001b[39mself\u001b[39m\u001b[39m.\u001b[39mcallPreparse:\n\u001b[0;32m-> 1677\u001b[0m         preloc \u001b[39m=\u001b[39m \u001b[39mself\u001b[39;49m\u001b[39m.\u001b[39;49mpreParse(instring, loc)\n\u001b[1;32m   1678\u001b[0m     \u001b[39melse\u001b[39;00m:\n\u001b[1;32m   1679\u001b[0m         preloc \u001b[39m=\u001b[39m loc\n",
      "File \u001b[0;32m~/opt/anaconda3/lib/python3.8/site-packages/pyparsing.py:1630\u001b[0m, in \u001b[0;36mParserElement.preParse\u001b[0;34m(self, instring, loc)\u001b[0m\n\u001b[1;32m   1628\u001b[0m \u001b[39mdef\u001b[39;00m \u001b[39mpreParse\u001b[39m(\u001b[39mself\u001b[39m, instring, loc):\n\u001b[1;32m   1629\u001b[0m     \u001b[39mif\u001b[39;00m \u001b[39mself\u001b[39m\u001b[39m.\u001b[39mignoreExprs:\n\u001b[0;32m-> 1630\u001b[0m         loc \u001b[39m=\u001b[39m \u001b[39mself\u001b[39;49m\u001b[39m.\u001b[39;49m_skipIgnorables(instring, loc)\n\u001b[1;32m   1632\u001b[0m     \u001b[39mif\u001b[39;00m \u001b[39mself\u001b[39m\u001b[39m.\u001b[39mskipWhitespace:\n\u001b[1;32m   1633\u001b[0m         wt \u001b[39m=\u001b[39m \u001b[39mself\u001b[39m\u001b[39m.\u001b[39mwhiteChars\n",
      "File \u001b[0;32m~/opt/anaconda3/lib/python3.8/site-packages/pyparsing.py:1622\u001b[0m, in \u001b[0;36mParserElement._skipIgnorables\u001b[0;34m(self, instring, loc)\u001b[0m\n\u001b[1;32m   1620\u001b[0m \u001b[39mtry\u001b[39;00m:\n\u001b[1;32m   1621\u001b[0m     \u001b[39mwhile\u001b[39;00m \u001b[39m1\u001b[39m:\n\u001b[0;32m-> 1622\u001b[0m         loc, dummy \u001b[39m=\u001b[39m e\u001b[39m.\u001b[39;49m_parse(instring, loc)\n\u001b[1;32m   1623\u001b[0m         exprsFound \u001b[39m=\u001b[39m \u001b[39mTrue\u001b[39;00m\n\u001b[1;32m   1624\u001b[0m \u001b[39mexcept\u001b[39;00m ParseException:\n",
      "File \u001b[0;32m~/opt/anaconda3/lib/python3.8/site-packages/pyparsing.py:1683\u001b[0m, in \u001b[0;36mParserElement._parseNoCache\u001b[0;34m(self, instring, loc, doActions, callPreParse)\u001b[0m\n\u001b[1;32m   1681\u001b[0m \u001b[39mif\u001b[39;00m \u001b[39mself\u001b[39m\u001b[39m.\u001b[39mmayIndexError \u001b[39mor\u001b[39;00m preloc \u001b[39m>\u001b[39m\u001b[39m=\u001b[39m \u001b[39mlen\u001b[39m(instring):\n\u001b[1;32m   1682\u001b[0m     \u001b[39mtry\u001b[39;00m:\n\u001b[0;32m-> 1683\u001b[0m         loc, tokens \u001b[39m=\u001b[39m \u001b[39mself\u001b[39;49m\u001b[39m.\u001b[39;49mparseImpl(instring, preloc, doActions)\n\u001b[1;32m   1684\u001b[0m     \u001b[39mexcept\u001b[39;00m \u001b[39mIndexError\u001b[39;00m:\n\u001b[1;32m   1685\u001b[0m         \u001b[39mraise\u001b[39;00m ParseException(instring, \u001b[39mlen\u001b[39m(instring), \u001b[39mself\u001b[39m\u001b[39m.\u001b[39merrmsg, \u001b[39mself\u001b[39m)\n",
      "File \u001b[0;32m~/opt/anaconda3/lib/python3.8/site-packages/pyparsing.py:4462\u001b[0m, in \u001b[0;36mParseElementEnhance.parseImpl\u001b[0;34m(self, instring, loc, doActions)\u001b[0m\n\u001b[1;32m   4460\u001b[0m \u001b[39mdef\u001b[39;00m \u001b[39mparseImpl\u001b[39m(\u001b[39mself\u001b[39m, instring, loc, doActions\u001b[39m=\u001b[39m\u001b[39mTrue\u001b[39;00m):\n\u001b[1;32m   4461\u001b[0m     \u001b[39mif\u001b[39;00m \u001b[39mself\u001b[39m\u001b[39m.\u001b[39mexpr \u001b[39mis\u001b[39;00m \u001b[39mnot\u001b[39;00m \u001b[39mNone\u001b[39;00m:\n\u001b[0;32m-> 4462\u001b[0m         \u001b[39mreturn\u001b[39;00m \u001b[39mself\u001b[39;49m\u001b[39m.\u001b[39;49mexpr\u001b[39m.\u001b[39;49m_parse(instring, loc, doActions, callPreParse\u001b[39m=\u001b[39;49m\u001b[39mFalse\u001b[39;49;00m)\n\u001b[1;32m   4463\u001b[0m     \u001b[39melse\u001b[39;00m:\n\u001b[1;32m   4464\u001b[0m         \u001b[39mraise\u001b[39;00m ParseException(\u001b[39m\"\u001b[39m\u001b[39m\"\u001b[39m, loc, \u001b[39mself\u001b[39m\u001b[39m.\u001b[39merrmsg, \u001b[39mself\u001b[39m)\n",
      "File \u001b[0;32m~/opt/anaconda3/lib/python3.8/site-packages/pyparsing.py:1681\u001b[0m, in \u001b[0;36mParserElement._parseNoCache\u001b[0;34m(self, instring, loc, doActions, callPreParse)\u001b[0m\n\u001b[1;32m   1679\u001b[0m     preloc \u001b[39m=\u001b[39m loc\n\u001b[1;32m   1680\u001b[0m tokensStart \u001b[39m=\u001b[39m preloc\n\u001b[0;32m-> 1681\u001b[0m \u001b[39mif\u001b[39;00m \u001b[39mself\u001b[39;49m\u001b[39m.\u001b[39;49mmayIndexError \u001b[39mor\u001b[39;00m preloc \u001b[39m>\u001b[39m\u001b[39m=\u001b[39m \u001b[39mlen\u001b[39m(instring):\n\u001b[1;32m   1682\u001b[0m     \u001b[39mtry\u001b[39;00m:\n\u001b[1;32m   1683\u001b[0m         loc, tokens \u001b[39m=\u001b[39m \u001b[39mself\u001b[39m\u001b[39m.\u001b[39mparseImpl(instring, preloc, doActions)\n",
      "\u001b[0;31mKeyboardInterrupt\u001b[0m: "
     ]
    }
   ],
   "source": [
    "# last_fail = 11\n",
    "last_fail = i\n",
    "i = 0\n",
    "for file in os.listdir('graphs'):\n",
    "    print(file)\n",
    "    # if i < last_fail:\n",
    "    #     i += 1\n",
    "    #     continue\n",
    "    file = 'bldg30.ttl'\n",
    "    path = os.path.join('graphs', file)\n",
    "    bv = BasicValidationInterface(graph_path=path, nightly=True)\n",
    "    for q in other_query_list:\n",
    "        bv.graph.update(q)\n",
    "    if file == 'bldg6.ttl':\n",
    "        bv.graph.update(bldg6_rm_fix)\n",
    "    if file == 'bldg43.ttl':\n",
    "        bv.graph.update(bldg43_add_chiller_fix)\n",
    "    valid, report_graph = bv.validate()\n",
    "    if valid:\n",
    "        print(\"Graph is valid\")\n",
    "        bv.graph.serialize(os.path.join('graphs_clean', file), format='ttl')\n",
    "        continue\n",
    "    area_query = format_area_query(report_graph)\n",
    "    bv.graph.update(area_query)\n",
    "    valid, final_report = bv.validate()\n",
    "    if not valid:\n",
    "        raise ValueError('Not validated')\n",
    "    bv.graph.serialize(os.path.join('graphs_clean', file), format='ttl')\n",
    "    i += 1\n"
   ]
  },
  {
   "attachments": {},
   "cell_type": "markdown",
   "metadata": {},
   "source": [
    "# Working it out"
   ]
  },
  {
   "cell_type": "code",
   "execution_count": 286,
   "metadata": {},
   "outputs": [],
   "source": [
    "deprecation_fix = \"\"\"\n",
    "PREFIX brick: <https://brickschema.org/schema/Brick#>\n",
    "PREFIX g36: <http://data.ashrae.org/standard223/1.0/extension/g36#>\n",
    "PREFIX s223: <http://data.ashrae.org/standard223#>\n",
    "PREFIX unit: <http://qudt.org/vocab/unit/>\n",
    "PREFIX quantitykind: <http://qudt.org/vocab/quantitykind/>\n",
    "PREFIX qudt: <http://qudt.org/schema/qudt/>\n",
    "PREFIX sh: <http://www.w3.org/ns/shacl#>\n",
    "PREFIX owl: <http://www.w3.org/2002/07/owl#>\n",
    "PREFIX rdf: <http://www.w3.org/1999/02/22-rdf-syntax-ns#>\n",
    "PREFIX rdfs: <http://www.w3.org/2000/01/rdf-schema#>\n",
    "PREFIX bldg: <http://buildsys.org/ontologies/bldg1>\n",
    "\n",
    "DELETE {?this a ?class}\n",
    "INSERT {?this a ?newClass}\n",
    "WHERE {\n",
    "?this a ?class .\n",
    "?class owl:deprecated true .\n",
    "?class brick:deprecatedInVersion ?depver .\n",
    "?class brick:isReplacedBy ?newClass .\n",
    "}\n",
    "\"\"\"\n"
   ]
  },
  {
   "cell_type": "code",
   "execution_count": 287,
   "metadata": {},
   "outputs": [],
   "source": [
    "#\n",
    "ft2_fix = \"\"\"\n",
    "PREFIX brick: <https://brickschema.org/schema/Brick#>\n",
    "PREFIX g36: <http://data.ashrae.org/standard223/1.0/extension/g36#>\n",
    "PREFIX s223: <http://data.ashrae.org/standard223#>\n",
    "PREFIX unit: <http://qudt.org/vocab/unit/>\n",
    "PREFIX quantitykind: <http://qudt.org/vocab/quantitykind/>\n",
    "PREFIX qudt: <http://qudt.org/schema/qudt/>\n",
    "PREFIX sh: <http://www.w3.org/ns/shacl#>\n",
    "PREFIX owl: <http://www.w3.org/2002/07/owl#>\n",
    "PREFIX rdf: <http://www.w3.org/1999/02/22-rdf-syntax-ns#>\n",
    "PREFIX rdfs: <http://www.w3.org/2000/01/rdf-schema#>\n",
    "PREFIX bldg: <http://buildsys.org/ontologies/bldg1>\n",
    "\n",
    "DELETE {?this brick:hasUnits unit:FT_2}\n",
    "INSERT {?this brick:hasUnit unit:FT2}\n",
    "WHERE {\n",
    "?this brick:hasUnits unit:FT_2\n",
    "}\n",
    "\"\"\"\n"
   ]
  },
  {
   "cell_type": "code",
   "execution_count": 288,
   "metadata": {},
   "outputs": [],
   "source": [
    "bldg1_area_fix = \"\"\"\n",
    "PREFIX brick: <https://brickschema.org/schema/Brick#>\n",
    "PREFIX g36: <http://data.ashrae.org/standard223/1.0/extension/g36#>\n",
    "PREFIX s223: <http://data.ashrae.org/standard223#>\n",
    "PREFIX unit: <http://qudt.org/vocab/unit/>\n",
    "PREFIX quantitykind: <http://qudt.org/vocab/quantitykind/>\n",
    "PREFIX qudt: <http://qudt.org/schema/qudt/>\n",
    "PREFIX sh: <http://www.w3.org/ns/shacl#>\n",
    "PREFIX owl: <http://www.w3.org/2002/07/owl#>\n",
    "PREFIX rdf: <http://www.w3.org/1999/02/22-rdf-syntax-ns#>\n",
    "PREFIX rdfs: <http://www.w3.org/2000/01/rdf-schema#>\n",
    "PREFIX bldg: <http://buildsys.org/ontologies/bldg1>\n",
    "\n",
    "DELETE {?this brick:value \"9973^^<http://www.w3.org/2001/XMLSchema#integer>\" }\n",
    "INSERT {?this brick:value 9973 }\n",
    "WHERE {\n",
    "?this brick:value \"9973^^<http://www.w3.org/2001/XMLSchema#integer>\"\n",
    "}\n",
    "\"\"\"\n"
   ]
  },
  {
   "cell_type": "code",
   "execution_count": 289,
   "metadata": {},
   "outputs": [],
   "source": [
    "# bldg 1\n"
   ]
  },
  {
   "cell_type": "code",
   "execution_count": 370,
   "metadata": {},
   "outputs": [
    {
     "name": "stdout",
     "output_type": "stream",
     "text": [
      "Graph <graphs/bldg1.ttl> is valid? False\n",
      "-------------------------------------------------------------------------------\n",
      "Validation Report\n",
      "Conforms: False\n",
      "Results (1):\n",
      "Constraint Violation in NodeConstraintComponent (http://www.w3.org/ns/shacl#NodeConstraintComponent):\n",
      "\tSeverity: sh:Violation\n",
      "\tSource Shape: bsh:hasareaShape\n",
      "\tFocus Node: ns2:bldg1\n",
      "\tValue Node: [ brick:hasUnit unit:FT2 ; brick:value Literal(\"9973^^<http://www.w3.org/2001/XMLSchema#integer>\") ]\n",
      "\tResult Path: brick:area\n",
      "\tMessage: Value does not conform to Shape bsh:AreaShape\n",
      "\n",
      "-------------------------------------------------------------------------------\n"
     ]
    }
   ],
   "source": [
    "graph = 'graphs/bldg1.ttl'\n",
    "bv = BasicValidationInterface(graph_path=graph, nightly=True)\n",
    "bv.graph.update(deprecation_fix)\n",
    "# bv.graph.update(bldg1_area_fix)\n",
    "bv.graph.update(ft2_fix)\n",
    "# Loading qudt fixes QUDT related validation errors\n",
    "bv.graph.parse('https://qudt.org/2.1/schema/qudt', format='ttl')\n",
    "bv.graph.parse('https://qudt.org/2.1/vocab/quantitykind', format='ttl')\n",
    "report_graph = bv.validate()\n"
   ]
  },
  {
   "cell_type": "code",
   "execution_count": 388,
   "metadata": {},
   "outputs": [
    {
     "name": "stdout",
     "output_type": "stream",
     "text": [
      "1 Invalid Shape\n",
      "\n",
      "PREFIX brick: <https://brickschema.org/schema/Brick#>\n",
      "PREFIX g36: <http://data.ashrae.org/standard223/1.0/extension/g36#>\n",
      "PREFIX s223: <http://data.ashrae.org/standard223#>\n",
      "PREFIX unit: <http://qudt.org/vocab/unit/>\n",
      "PREFIX quantitykind: <http://qudt.org/vocab/quantitykind/>\n",
      "PREFIX qudt: <http://qudt.org/schema/qudt/>\n",
      "PREFIX sh: <http://www.w3.org/ns/shacl#>\n",
      "PREFIX owl: <http://www.w3.org/2002/07/owl#>\n",
      "PREFIX rdf: <http://www.w3.org/1999/02/22-rdf-syntax-ns#>\n",
      "PREFIX rdfs: <http://www.w3.org/2000/01/rdf-schema#>\n",
      "PREFIX bldg: <http://buildsys.org/ontologies/bldg1>\n",
      "\n",
      "DELETE {?this brick:value \"9973^^<http://www.w3.org/2001/XMLSchema#integer>\" }\n",
      "INSERT {?this brick:value 9973 }\n",
      "WHERE {\n",
      "?this brick:value \"9973^^<http://www.w3.org/2001/XMLSchema#integer>\"\n",
      "}\n",
      "\n"
     ]
    }
   ],
   "source": [
    "new = format_area_query(report_graph)\n",
    "print(new)\n"
   ]
  },
  {
   "cell_type": "code",
   "execution_count": 389,
   "metadata": {},
   "outputs": [],
   "source": [
    "bv.graph.update(new)\n"
   ]
  },
  {
   "cell_type": "code",
   "execution_count": 390,
   "metadata": {},
   "outputs": [
    {
     "name": "stdout",
     "output_type": "stream",
     "text": [
      "Graph <graphs/bldg1.ttl> is valid? True\n"
     ]
    },
    {
     "data": {
      "text/plain": [
       "<Graph identifier=N8cc758c050614bad8073c97b06b3a6bc (<class 'rdflib.graph.Graph'>)>"
      ]
     },
     "execution_count": 390,
     "metadata": {},
     "output_type": "execute_result"
    }
   ],
   "source": [
    "bv.validate()\n"
   ]
  },
  {
   "cell_type": "code",
   "execution_count": 348,
   "metadata": {},
   "outputs": [
    {
     "name": "stdout",
     "output_type": "stream",
     "text": [
      "1 Invalid Shape\n"
     ]
    }
   ],
   "source": [
    "if len(res) == 1:\n",
    "    print('1 Invalid Shape')\n",
    "    old = iter(res).__next__().get('replace')\n",
    "    new = int(old.rsplit('^^')[0])\n"
   ]
  },
  {
   "cell_type": "code",
   "execution_count": null,
   "metadata": {},
   "outputs": [],
   "source": [
    "Template(area_query_format).substitute(old='a', new='b')\n"
   ]
  },
  {
   "cell_type": "code",
   "execution_count": 298,
   "metadata": {},
   "outputs": [
    {
     "data": {
      "text/plain": [
       "<Graph identifier=N596ed28253704a03bb8e96a39a54213f (<class 'brickschema.graph.Graph'>)>"
      ]
     },
     "execution_count": 298,
     "metadata": {},
     "output_type": "execute_result"
    }
   ],
   "source": [
    "bv.graph.serialize('graphs_clean/bldg1.ttl')\n"
   ]
  },
  {
   "cell_type": "code",
   "execution_count": 140,
   "metadata": {},
   "outputs": [],
   "source": [
    "# bldg2\n"
   ]
  },
  {
   "cell_type": "code",
   "execution_count": 141,
   "metadata": {},
   "outputs": [],
   "source": [
    "chwv_fix = \"\"\"\n",
    "PREFIX brick: <https://brickschema.org/schema/Brick#>\n",
    "PREFIX g36: <http://data.ashrae.org/standard223/1.0/extension/g36#>\n",
    "PREFIX s223: <http://data.ashrae.org/standard223#>\n",
    "PREFIX unit: <http://qudt.org/vocab/unit/>\n",
    "PREFIX quantitykind: <http://qudt.org/vocab/quantitykind/>\n",
    "PREFIX qudt: <http://qudt.org/schema/qudt/>\n",
    "PREFIX sh: <http://www.w3.org/ns/shacl#>\n",
    "PREFIX owl: <http://www.w3.org/2002/07/owl#>\n",
    "PREFIX rdf: <http://www.w3.org/1999/02/22-rdf-syntax-ns#>\n",
    "PREFIX rdfs: <http://www.w3.org/2000/01/rdf-schema#>\n",
    "PREFIX bldg: <http://buildsys.org/ontologies/bldg1>\n",
    "\n",
    "DELETE {?this a brick:Chilled_Water_Valve_Command }\n",
    "INSERT {?this a brick:Valve_Command ;\n",
    "                brick:hasSubstance brick:Chilled_Water }\n",
    "WHERE {\n",
    "?this a brick:Chilled_Water_Valve_Command\n",
    "}\n",
    "\"\"\"\n"
   ]
  },
  {
   "cell_type": "code",
   "execution_count": 142,
   "metadata": {},
   "outputs": [],
   "source": [
    "hwv_fix = \"\"\"\n",
    "PREFIX brick: <https://brickschema.org/schema/Brick#>\n",
    "PREFIX g36: <http://data.ashrae.org/standard223/1.0/extension/g36#>\n",
    "PREFIX s223: <http://data.ashrae.org/standard223#>\n",
    "PREFIX unit: <http://qudt.org/vocab/unit/>\n",
    "PREFIX quantitykind: <http://qudt.org/vocab/quantitykind/>\n",
    "PREFIX qudt: <http://qudt.org/schema/qudt/>\n",
    "PREFIX sh: <http://www.w3.org/ns/shacl#>\n",
    "PREFIX owl: <http://www.w3.org/2002/07/owl#>\n",
    "PREFIX rdf: <http://www.w3.org/1999/02/22-rdf-syntax-ns#>\n",
    "PREFIX rdfs: <http://www.w3.org/2000/01/rdf-schema#>\n",
    "PREFIX bldg: <http://buildsys.org/ontologies/bldg1>\n",
    "\n",
    "DELETE {?this a brick:Hot_Water_Valve_Command }\n",
    "INSERT {?this a brick:Valve_Command ;\n",
    "                brick:hasSubstance brick:Hot_Water }\n",
    "WHERE {\n",
    "?this a brick:Hot_Water_Valve_Command\n",
    "}\n",
    "\"\"\"\n"
   ]
  },
  {
   "cell_type": "code",
   "execution_count": 143,
   "metadata": {},
   "outputs": [],
   "source": [
    "chws_fix = \"\"\"\n",
    "PREFIX brick: <https://brickschema.org/schema/Brick#>\n",
    "PREFIX g36: <http://data.ashrae.org/standard223/1.0/extension/g36#>\n",
    "PREFIX s223: <http://data.ashrae.org/standard223#>\n",
    "PREFIX unit: <http://qudt.org/vocab/unit/>\n",
    "PREFIX quantitykind: <http://qudt.org/vocab/quantitykind/>\n",
    "PREFIX qudt: <http://qudt.org/schema/qudt/>\n",
    "PREFIX sh: <http://www.w3.org/ns/shacl#>\n",
    "PREFIX owl: <http://www.w3.org/2002/07/owl#>\n",
    "PREFIX rdf: <http://www.w3.org/1999/02/22-rdf-syntax-ns#>\n",
    "PREFIX rdfs: <http://www.w3.org/2000/01/rdf-schema#>\n",
    "PREFIX bldg: <http://buildsys.org/ontologies/bldg1>\n",
    "\n",
    "DELETE {?this a brick:Chilled_Water_Supply_Temperature_Setpoint}\n",
    "INSERT {?this a brick:Supply_Chilled_Water_Temperature_Setpoint }\n",
    "WHERE {\n",
    "?this a brick:Chilled_Water_Supply_Temperature_Setpoint\n",
    "}\n",
    "\"\"\"\n"
   ]
  },
  {
   "cell_type": "code",
   "execution_count": 144,
   "metadata": {},
   "outputs": [],
   "source": [
    "chwr_fix = \"\"\"\n",
    "PREFIX brick: <https://brickschema.org/schema/Brick#>\n",
    "PREFIX g36: <http://data.ashrae.org/standard223/1.0/extension/g36#>\n",
    "PREFIX s223: <http://data.ashrae.org/standard223#>\n",
    "PREFIX unit: <http://qudt.org/vocab/unit/>\n",
    "PREFIX quantitykind: <http://qudt.org/vocab/quantitykind/>\n",
    "PREFIX qudt: <http://qudt.org/schema/qudt/>\n",
    "PREFIX sh: <http://www.w3.org/ns/shacl#>\n",
    "PREFIX owl: <http://www.w3.org/2002/07/owl#>\n",
    "PREFIX rdf: <http://www.w3.org/1999/02/22-rdf-syntax-ns#>\n",
    "PREFIX rdfs: <http://www.w3.org/2000/01/rdf-schema#>\n",
    "PREFIX bldg: <http://buildsys.org/ontologies/bldg1>\n",
    "\n",
    "DELETE {?this a brick:Chilled_Water_Return_Temperature_Setpoint}\n",
    "INSERT {?this a brick:Return_Chilled_Water_Temperature_Setpoint }\n",
    "WHERE {\n",
    "?this a brick:Chilled_Water_Return_Temperature_Setpoint\n",
    "}\n",
    "\"\"\"\n"
   ]
  },
  {
   "cell_type": "code",
   "execution_count": 145,
   "metadata": {},
   "outputs": [],
   "source": [
    "meters_fix = \"\"\"\n",
    "PREFIX brick: <https://brickschema.org/schema/Brick#>\n",
    "PREFIX g36: <http://data.ashrae.org/standard223/1.0/extension/g36#>\n",
    "PREFIX s223: <http://data.ashrae.org/standard223#>\n",
    "PREFIX unit: <http://qudt.org/vocab/unit/>\n",
    "PREFIX quantitykind: <http://qudt.org/vocab/quantitykind/>\n",
    "PREFIX qudt: <http://qudt.org/schema/qudt/>\n",
    "PREFIX sh: <http://www.w3.org/ns/shacl#>\n",
    "PREFIX owl: <http://www.w3.org/2002/07/owl#>\n",
    "PREFIX rdf: <http://www.w3.org/1999/02/22-rdf-syntax-ns#>\n",
    "PREFIX rdfs: <http://www.w3.org/2000/01/rdf-schema#>\n",
    "PREFIX bldg: <http://buildsys.org/ontologies/bldg1>\n",
    "\n",
    "DELETE {?meter brick:isPointOf ?this}\n",
    "INSERT {?meter brick:meters ?this }\n",
    "WHERE {\n",
    "?meter a brick:Electric_Meter ;\n",
    "    brick:isPointOf ?this .\n",
    "}\n",
    "\"\"\"\n"
   ]
  },
  {
   "cell_type": "code",
   "execution_count": 146,
   "metadata": {},
   "outputs": [],
   "source": [
    "electricalmeter_fix = \"\"\"\n",
    "PREFIX brick: <https://brickschema.org/schema/Brick#>\n",
    "PREFIX g36: <http://data.ashrae.org/standard223/1.0/extension/g36#>\n",
    "PREFIX s223: <http://data.ashrae.org/standard223#>\n",
    "PREFIX unit: <http://qudt.org/vocab/unit/>\n",
    "PREFIX quantitykind: <http://qudt.org/vocab/quantitykind/>\n",
    "PREFIX qudt: <http://qudt.org/schema/qudt/>\n",
    "PREFIX sh: <http://www.w3.org/ns/shacl#>\n",
    "PREFIX owl: <http://www.w3.org/2002/07/owl#>\n",
    "PREFIX rdf: <http://www.w3.org/1999/02/22-rdf-syntax-ns#>\n",
    "PREFIX rdfs: <http://www.w3.org/2000/01/rdf-schema#>\n",
    "PREFIX bldg: <http://buildsys.org/ontologies/bldg1>\n",
    "\n",
    "DELETE {?meter a brick:Electric_Meter }\n",
    "INSERT {?meter a brick:Electrical_Meter  }\n",
    "WHERE {\n",
    "?meter a brick:Electric_Meter \n",
    "}\n",
    "\"\"\"\n"
   ]
  },
  {
   "cell_type": "code",
   "execution_count": 233,
   "metadata": {},
   "outputs": [],
   "source": [
    "# couldn't figure out how to generalize this (it is probably possible, but I couldn't crack it)\n",
    "bldg2_area_fix = \"\"\"\n",
    "PREFIX brick: <https://brickschema.org/schema/Brick#>\n",
    "PREFIX g36: <http://data.ashrae.org/standard223/1.0/extension/g36#>\n",
    "PREFIX s223: <http://data.ashrae.org/standard223#>\n",
    "PREFIX unit: <http://qudt.org/vocab/unit/>\n",
    "PREFIX quantitykind: <http://qudt.org/vocab/quantitykind/>\n",
    "PREFIX qudt: <http://qudt.org/schema/qudt/>\n",
    "PREFIX sh: <http://www.w3.org/ns/shacl#>\n",
    "PREFIX owl: <http://www.w3.org/2002/07/owl#>\n",
    "PREFIX rdf: <http://www.w3.org/1999/02/22-rdf-syntax-ns#>\n",
    "PREFIX rdfs: <http://www.w3.org/2000/01/rdf-schema#>\n",
    "PREFIX bldg: <http://buildsys.org/ontologies/bldg1>\n",
    "\n",
    "DELETE {?this brick:value \"26793^^<http://www.w3.org/2001/XMLSchema#integer>\" }\n",
    "INSERT {?this brick:value 26793 }\n",
    "WHERE {\n",
    "?this brick:value \"26793^^<http://www.w3.org/2001/XMLSchema#integer>\"\n",
    "}\n",
    "\"\"\"\n"
   ]
  },
  {
   "cell_type": "code",
   "execution_count": 234,
   "metadata": {},
   "outputs": [
    {
     "name": "stdout",
     "output_type": "stream",
     "text": [
      "Graph <graphs/bldg2.ttl> is valid? True\n"
     ]
    }
   ],
   "source": [
    "graph = 'graphs/bldg2.ttl'\n",
    "bv = BasicValidationInterface(graph_path=graph, nightly=True)\n",
    "bv.graph.update(bldg2_area_fix)\n",
    "bv.graph.update(chwv_fix)\n",
    "bv.graph.update(ft2_fix)\n",
    "bv.graph.update(bldg2_area_fix)\n",
    "bv.graph.update(hwv_fix)\n",
    "# bv.graph.update(bldg2_area_fix)\n",
    "# Loading qudt fixes QUDT related validation errors\n",
    "bv.graph.parse('https://qudt.org/2.1/schema/qudt', format='ttl')\n",
    "bv.graph.parse('https://qudt.org/2.1/vocab/quantitykind', format='ttl')\n",
    "\n",
    "bv.graph.update(chws_fix)\n",
    "bv.graph.update(chwr_fix)\n",
    "bv.graph.update(meters_fix)\n",
    "bv.graph.update(electricalmeter_fix)\n",
    "bv.graph.update(deprecation_fix)\n",
    "bv.validate()\n"
   ]
  },
  {
   "cell_type": "code",
   "execution_count": null,
   "metadata": {},
   "outputs": [],
   "source": [
    "bv.graph.serialize('graphs_clean/bldg2.ttl')\n"
   ]
  },
  {
   "cell_type": "code",
   "execution_count": 230,
   "metadata": {},
   "outputs": [],
   "source": [
    "# bldg3\n"
   ]
  },
  {
   "cell_type": "code",
   "execution_count": 238,
   "metadata": {},
   "outputs": [],
   "source": [
    "# couldn't figure out how to generalize this (it is probably possible, but I couldn't crack it)\n",
    "bldg3_area_fix = \"\"\"\n",
    "PREFIX brick: <https://brickschema.org/schema/Brick#>\n",
    "PREFIX g36: <http://data.ashrae.org/standard223/1.0/extension/g36#>\n",
    "PREFIX s223: <http://data.ashrae.org/standard223#>\n",
    "PREFIX unit: <http://qudt.org/vocab/unit/>\n",
    "PREFIX quantitykind: <http://qudt.org/vocab/quantitykind/>\n",
    "PREFIX qudt: <http://qudt.org/schema/qudt/>\n",
    "PREFIX sh: <http://www.w3.org/ns/shacl#>\n",
    "PREFIX owl: <http://www.w3.org/2002/07/owl#>\n",
    "PREFIX rdf: <http://www.w3.org/1999/02/22-rdf-syntax-ns#>\n",
    "PREFIX rdfs: <http://www.w3.org/2000/01/rdf-schema#>\n",
    "PREFIX bldg: <http://buildsys.org/ontologies/bldg1>\n",
    "\n",
    "DELETE {?this brick:value \"42946\" }\n",
    "INSERT {?this brick:value 42946 }\n",
    "WHERE {\n",
    "?this brick:value \"42946\"\n",
    "}\n",
    "\"\"\"\n"
   ]
  },
  {
   "cell_type": "code",
   "execution_count": 239,
   "metadata": {},
   "outputs": [
    {
     "name": "stdout",
     "output_type": "stream",
     "text": [
      "Graph <graphs/bldg3.ttl> is valid? True\n"
     ]
    }
   ],
   "source": [
    "graph = 'graphs/bldg3.ttl'\n",
    "bv = BasicValidationInterface(graph_path=graph, nightly=True)\n",
    "bv.graph.update(bldg1_area_fix)\n",
    "bv.graph.update(chwv_fix)\n",
    "bv.graph.update(ft2_fix)\n",
    "bv.graph.update(bldg3_area_fix)\n",
    "bv.graph.update(hwv_fix)\n",
    "bv.graph.update(bldg2_area_fix)\n",
    "# Loading qudt fixes QUDT related validation errors\n",
    "bv.graph.parse('https://qudt.org/2.1/schema/qudt', format='ttl')\n",
    "bv.graph.parse('https://qudt.org/2.1/vocab/quantitykind', format='ttl')\n",
    "\n",
    "bv.graph.update(chws_fix)\n",
    "bv.graph.update(chwr_fix)\n",
    "bv.graph.update(meters_fix)\n",
    "bv.graph.update(electricalmeter_fix)\n",
    "bv.graph.update(deprecation_fix)\n",
    "bv.validate()\n"
   ]
  },
  {
   "cell_type": "code",
   "execution_count": null,
   "metadata": {},
   "outputs": [],
   "source": [
    "bv.graph.serialize('graphs_clean/bldg3.ttl')\n"
   ]
  },
  {
   "cell_type": "code",
   "execution_count": 240,
   "metadata": {},
   "outputs": [],
   "source": [
    "# bldg4\n"
   ]
  },
  {
   "cell_type": "code",
   "execution_count": 251,
   "metadata": {},
   "outputs": [],
   "source": [
    "# couldn't figure out how to generalize this (it is probably possible, but I couldn't crack it)\n",
    "bldg4_area_fix = \"\"\"\n",
    "PREFIX brick: <https://brickschema.org/schema/Brick#>\n",
    "PREFIX g36: <http://data.ashrae.org/standard223/1.0/extension/g36#>\n",
    "PREFIX s223: <http://data.ashrae.org/standard223#>\n",
    "PREFIX unit: <http://qudt.org/vocab/unit/>\n",
    "PREFIX quantitykind: <http://qudt.org/vocab/quantitykind/>\n",
    "PREFIX qudt: <http://qudt.org/schema/qudt/>\n",
    "PREFIX sh: <http://www.w3.org/ns/shacl#>\n",
    "PREFIX owl: <http://www.w3.org/2002/07/owl#>\n",
    "PREFIX rdf: <http://www.w3.org/1999/02/22-rdf-syntax-ns#>\n",
    "PREFIX rdfs: <http://www.w3.org/2000/01/rdf-schema#>\n",
    "PREFIX bldg: <http://buildsys.org/ontologies/bldg1>\n",
    "\n",
    "DELETE {?this brick:value \"32792^^<http://www.w3.org/2001/XMLSchema#integer>\" }\n",
    "INSERT {?this brick:value 32792 }\n",
    "WHERE {\n",
    "?this brick:value \"32792^^<http://www.w3.org/2001/XMLSchema#integer>\"\n",
    "}\n",
    "\"\"\"\n"
   ]
  },
  {
   "cell_type": "code",
   "execution_count": 252,
   "metadata": {},
   "outputs": [],
   "source": [
    "# ASSUMING that flow refers to a Sensor\n",
    "bldg4_supflow_fix = \"\"\"\n",
    "PREFIX brick: <https://brickschema.org/schema/Brick#>\n",
    "PREFIX g36: <http://data.ashrae.org/standard223/1.0/extension/g36#>\n",
    "PREFIX s223: <http://data.ashrae.org/standard223#>\n",
    "PREFIX unit: <http://qudt.org/vocab/unit/>\n",
    "PREFIX quantitykind: <http://qudt.org/vocab/quantitykind/>\n",
    "PREFIX qudt: <http://qudt.org/schema/qudt/>\n",
    "PREFIX sh: <http://www.w3.org/ns/shacl#>\n",
    "PREFIX owl: <http://www.w3.org/2002/07/owl#>\n",
    "PREFIX rdf: <http://www.w3.org/1999/02/22-rdf-syntax-ns#>\n",
    "PREFIX rdfs: <http://www.w3.org/2000/01/rdf-schema#>\n",
    "PREFIX bldg: <http://buildsys.org/ontologies/bldg1>\n",
    "\n",
    "DELETE {?this a brick:Supply_Air_flow }\n",
    "INSERT {?this a brick:Supply_Air_Flow_Sensor}\n",
    "WHERE {\n",
    "?this a brick:Supply_Air_flow\n",
    "}\n",
    "\"\"\"\n"
   ]
  },
  {
   "cell_type": "code",
   "execution_count": 253,
   "metadata": {},
   "outputs": [
    {
     "name": "stdout",
     "output_type": "stream",
     "text": [
      "Graph <graphs/bldg4.ttl> is valid? True\n"
     ]
    }
   ],
   "source": [
    "graph = 'graphs/bldg4.ttl'\n",
    "bv = BasicValidationInterface(graph_path=graph, nightly=True)\n",
    "bv.graph.update(bldg1_area_fix)\n",
    "bv.graph.update(chwv_fix)\n",
    "bv.graph.update(ft2_fix)\n",
    "bv.graph.update(bldg4_supflow_fix)\n",
    "bv.graph.update(bldg4_area_fix)\n",
    "bv.graph.update(hwv_fix)\n",
    "# Loading qudt fixes QUDT related validation errors\n",
    "bv.graph.parse('https://qudt.org/2.1/schema/qudt', format='ttl')\n",
    "bv.graph.parse('https://qudt.org/2.1/vocab/quantitykind', format='ttl')\n",
    "\n",
    "bv.graph.update(chws_fix)\n",
    "bv.graph.update(chwr_fix)\n",
    "bv.graph.update(meters_fix)\n",
    "bv.graph.update(electricalmeter_fix)\n",
    "bv.graph.update(deprecation_fix)\n",
    "bv.validate()\n"
   ]
  },
  {
   "cell_type": "code",
   "execution_count": null,
   "metadata": {},
   "outputs": [],
   "source": [
    "bv.graph.serialize('graphs_clean/bldg4.ttl')\n"
   ]
  },
  {
   "cell_type": "code",
   "execution_count": 254,
   "metadata": {},
   "outputs": [],
   "source": [
    "# bldg5\n"
   ]
  },
  {
   "cell_type": "code",
   "execution_count": 257,
   "metadata": {},
   "outputs": [],
   "source": [
    "# couldn't figure out how to generalize this (it is probably possible, but I couldn't crack it)\n",
    "bldg5_area_fix = \"\"\"\n",
    "PREFIX brick: <https://brickschema.org/schema/Brick#>\n",
    "PREFIX g36: <http://data.ashrae.org/standard223/1.0/extension/g36#>\n",
    "PREFIX s223: <http://data.ashrae.org/standard223#>\n",
    "PREFIX unit: <http://qudt.org/vocab/unit/>\n",
    "PREFIX quantitykind: <http://qudt.org/vocab/quantitykind/>\n",
    "PREFIX qudt: <http://qudt.org/schema/qudt/>\n",
    "PREFIX sh: <http://www.w3.org/ns/shacl#>\n",
    "PREFIX owl: <http://www.w3.org/2002/07/owl#>\n",
    "PREFIX rdf: <http://www.w3.org/1999/02/22-rdf-syntax-ns#>\n",
    "PREFIX rdfs: <http://www.w3.org/2000/01/rdf-schema#>\n",
    "PREFIX bldg: <http://buildsys.org/ontologies/bldg1>\n",
    "\n",
    "DELETE {?this brick:value \"99922^^<http://www.w3.org/2001/XMLSchema#integer>\" }\n",
    "INSERT {?this brick:value 99922}\n",
    "WHERE {\n",
    "?this brick:value \"99922^^<http://www.w3.org/2001/XMLSchema#integer>\"\n",
    "}\n",
    "\"\"\"\n"
   ]
  },
  {
   "cell_type": "code",
   "execution_count": 258,
   "metadata": {},
   "outputs": [
    {
     "name": "stdout",
     "output_type": "stream",
     "text": [
      "Graph <graphs/bldg5.ttl> is valid? True\n"
     ]
    }
   ],
   "source": [
    "graph = 'graphs/bldg5.ttl'\n",
    "bv = BasicValidationInterface(graph_path=graph, nightly=True)\n",
    "bv.graph.update(bldg1_area_fix)\n",
    "bv.graph.update(chwv_fix)\n",
    "bv.graph.update(ft2_fix)\n",
    "bv.graph.update(bldg5_area_fix)\n",
    "bv.graph.update(hwv_fix)\n",
    "# Loading qudt fixes QUDT related validation errors\n",
    "bv.graph.parse('https://qudt.org/2.1/schema/qudt', format='ttl')\n",
    "bv.graph.parse('https://qudt.org/2.1/vocab/quantitykind', format='ttl')\n",
    "\n",
    "bv.graph.update(chws_fix)\n",
    "bv.graph.update(chwr_fix)\n",
    "bv.graph.update(meters_fix)\n",
    "bv.graph.update(electricalmeter_fix)\n",
    "bv.graph.update(deprecation_fix)\n",
    "bv.validate()\n"
   ]
  },
  {
   "cell_type": "code",
   "execution_count": 260,
   "metadata": {},
   "outputs": [
    {
     "data": {
      "text/plain": [
       "<Graph identifier=Nb9469e785c5e45fe8374b40bdde783d2 (<class 'brickschema.graph.Graph'>)>"
      ]
     },
     "execution_count": 260,
     "metadata": {},
     "output_type": "execute_result"
    }
   ],
   "source": [
    "bv.graph.serialize('graphs_clean/bldg5.ttl')\n"
   ]
  },
  {
   "cell_type": "code",
   "execution_count": null,
   "metadata": {},
   "outputs": [],
   "source": [
    "# Running all for rest of process\n"
   ]
  },
  {
   "cell_type": "code",
   "execution_count": 262,
   "metadata": {},
   "outputs": [],
   "source": [
    "area_query_format = \"\"\"\n",
    "PREFIX brick: <https://brickschema.org/schema/Brick#>\n",
    "PREFIX g36: <http://data.ashrae.org/standard223/1.0/extension/g36#>\n",
    "PREFIX s223: <http://data.ashrae.org/standard223#>\n",
    "PREFIX unit: <http://qudt.org/vocab/unit/>\n",
    "PREFIX quantitykind: <http://qudt.org/vocab/quantitykind/>\n",
    "PREFIX qudt: <http://qudt.org/schema/qudt/>\n",
    "PREFIX sh: <http://www.w3.org/ns/shacl#>\n",
    "PREFIX owl: <http://www.w3.org/2002/07/owl#>\n",
    "PREFIX rdf: <http://www.w3.org/1999/02/22-rdf-syntax-ns#>\n",
    "PREFIX rdfs: <http://www.w3.org/2000/01/rdf-schema#>\n",
    "PREFIX bldg: <http://buildsys.org/ontologies/bldg1>\n",
    "\n",
    "DELETE {?this $old  }\n",
    "INSERT {?this brick:value $new }\n",
    "WHERE {\n",
    "?this brick:value %old \n",
    "}\n",
    "\"\"\"\n"
   ]
  },
  {
   "cell_type": "code",
   "execution_count": 265,
   "metadata": {},
   "outputs": [
    {
     "name": "stdout",
     "output_type": "stream",
     "text": [
      "\n",
      "PREFIX brick: <https://brickschema.org/schema/Brick#>\n",
      "PREFIX g36: <http://data.ashrae.org/standard223/1.0/extension/g36#>\n",
      "PREFIX s223: <http://data.ashrae.org/standard223#>\n",
      "PREFIX unit: <http://qudt.org/vocab/unit/>\n",
      "PREFIX quantitykind: <http://qudt.org/vocab/quantitykind/>\n",
      "PREFIX qudt: <http://qudt.org/schema/qudt/>\n",
      "PREFIX sh: <http://www.w3.org/ns/shacl#>\n",
      "PREFIX owl: <http://www.w3.org/2002/07/owl#>\n",
      "PREFIX rdf: <http://www.w3.org/1999/02/22-rdf-syntax-ns#>\n",
      "PREFIX rdfs: <http://www.w3.org/2000/01/rdf-schema#>\n",
      "PREFIX bldg: <http://buildsys.org/ontologies/bldg1>\n",
      "\n",
      "DELETE {?this a  }\n",
      "INSERT {?this brick:value b }\n",
      "WHERE {\n",
      "?this brick:value %old \n",
      "}\n",
      "\n"
     ]
    }
   ],
   "source": [
    "Template(area_query_format).substitute(old='a', new='b')\n"
   ]
  }
 ],
 "metadata": {
  "kernelspec": {
   "display_name": "base",
   "language": "python",
   "name": "python3"
  },
  "language_info": {
   "codemirror_mode": {
    "name": "ipython",
    "version": 3
   },
   "file_extension": ".py",
   "mimetype": "text/x-python",
   "name": "python",
   "nbconvert_exporter": "python",
   "pygments_lexer": "ipython3",
   "version": "3.8.3"
  },
  "orig_nbformat": 4
 },
 "nbformat": 4,
 "nbformat_minor": 2
}
